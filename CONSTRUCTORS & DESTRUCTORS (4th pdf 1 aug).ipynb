{
 "cells": [
  {
   "cell_type": "markdown",
   "id": "3ab22f9f",
   "metadata": {},
   "source": [
    "# Constructor"
   ]
  },
  {
   "cell_type": "code",
   "execution_count": null,
   "id": "d65ebf65",
   "metadata": {},
   "outputs": [],
   "source": []
  },
  {
   "cell_type": "code",
   "execution_count": null,
   "id": "101f131a",
   "metadata": {},
   "outputs": [],
   "source": []
  },
  {
   "cell_type": "markdown",
   "id": "65809721",
   "metadata": {},
   "source": [
    "A constructor is a special method used to initialize an object of a class."
   ]
  },
  {
   "cell_type": "markdown",
   "id": "29596507",
   "metadata": {},
   "source": [
    "Defining constructors is optional."
   ]
  },
  {
   "cell_type": "markdown",
   "id": "ac320ef0",
   "metadata": {},
   "source": [
    "Python will provide a default constructor if no constructor is defined"
   ]
  },
  {
   "cell_type": "markdown",
   "id": "064bedb9",
   "metadata": {},
   "source": [
    "The constructor is executed automatically at the time of object creation."
   ]
  },
  {
   "cell_type": "markdown",
   "id": "fed644f0",
   "metadata": {},
   "source": [
    "The primary use of a constructor is to initialize instance variable of an object. The constructor contains a collection of statements that executes at the time of object creation."
   ]
  },
  {
   "cell_type": "code",
   "execution_count": null,
   "id": "cba47fac",
   "metadata": {},
   "outputs": [],
   "source": [
    "class Student:\n",
    "    pass\n",
    "#python gives default constructor\n",
    "s1= Student()\n",
    "s2= Student()\n",
    "s3= Student()"
   ]
  },
  {
   "cell_type": "code",
   "execution_count": null,
   "id": "ee31aa4d",
   "metadata": {},
   "outputs": [],
   "source": [
    "s1.name= \"ram\"\n",
    "s1.age= 17\n",
    "s1.profession= \"web developer\"\n",
    "\n",
    "s2.name= \"shyam\"\n",
    "\n",
    "s2.age= 16\n",
    "s2.profession= \"software developer\"\n",
    "\n",
    "s3.name= \"neeraj\"\n",
    "s3.age= 17\n",
    "s3.profession= \"data scientist\""
   ]
  },
  {
   "cell_type": "code",
   "execution_count": null,
   "id": "bba4ca71",
   "metadata": {},
   "outputs": [],
   "source": [
    "class Student():\n",
    "    #constructor\n",
    "    #initialize instance varaible\n",
    "    def __init__ (self,name,age,proff):\n",
    "        self.name= name\n",
    "        self.age= age\n",
    "        self.profession= proff                  #obj(s1,s2,s3) is passing through self\n",
    "        \n",
    "#create object using constructor\n",
    "s1= Student(\"ram\", 17, \"web developer\")\n",
    "s2= Student(\"shyam\", 18, \"data scientist\")\n",
    "s3=Student(\"neeraj\",16,\"software developer\")"
   ]
  },
  {
   "cell_type": "code",
   "execution_count": null,
   "id": "8d5ebd01",
   "metadata": {},
   "outputs": [],
   "source": []
  },
  {
   "cell_type": "markdown",
   "id": "0a9d2551",
   "metadata": {},
   "source": [
    "# Destructor"
   ]
  },
  {
   "cell_type": "markdown",
   "id": "ff75e985",
   "metadata": {},
   "source": [
    "A destructor is called when an object is deleted or destroyed"
   ]
  },
  {
   "cell_type": "code",
   "execution_count": null,
   "id": "8acb16fc",
   "metadata": {},
   "outputs": [],
   "source": [
    "class Student:\n",
    "    #constructor\n",
    "    def __init__(self,name):\n",
    "        print('Inside Constructor')\n",
    "        self.name= name\n",
    "        print('Object initialized')\n",
    "        \n",
    "    def show(self):\n",
    "        print('hello, my name is', self.name)\n",
    "        \n",
    "        #destructor                              \n",
    "    def __del__ (self):\n",
    "        print('Inside destructor')\n",
    "        print('Object destroyed')\n",
    "#create object\n",
    "s1= Student('Emma')\n",
    "s1.show()\n",
    "\n",
    "#delete object\n",
    "del s1                           # s1.__del__('Emma')"
   ]
  },
  {
   "cell_type": "code",
   "execution_count": null,
   "id": "c05fdf5c",
   "metadata": {},
   "outputs": [],
   "source": [
    "class Student:\n",
    "    #constructor\n",
    "    def __init__(self,name):             #name= parameter\n",
    "        print('Inside Constructor')\n",
    "        self.name= name                  #self.name=IV\n",
    "        print('Object initialized')\n",
    "        \n",
    "    def show(self):\n",
    "        print('hello, my name is', self.name)\n",
    "        \n",
    "        #destructor                              \n",
    "    def __del__ (self,name):\n",
    "        print('Inside destructor')\n",
    "        print('Object destroyed')\n",
    "#create object\n",
    "s1= Student('Emma')\n",
    "s1.show()\n",
    "\n",
    "#delete object\n",
    "#del s1 \n",
    "\n",
    "s1.__del__('Emma')"
   ]
  },
  {
   "cell_type": "code",
   "execution_count": null,
   "id": "2acb809a",
   "metadata": {},
   "outputs": [],
   "source": [
    "state=variables=method=attribute           color price\n",
    "behaviour = state=   brake acceleration\n",
    "instance method= self parameter ko call kar rga jo ke instance h"
   ]
  },
  {
   "cell_type": "markdown",
   "id": "29acefe5",
   "metadata": {},
   "source": [
    "# TYPES OF METHODS"
   ]
  },
  {
   "cell_type": "markdown",
   "id": "632ab7fb",
   "metadata": {},
   "source": [
    "# Instance Methods"
   ]
  },
  {
   "cell_type": "markdown",
   "id": "c58b2fc5",
   "metadata": {},
   "source": [
    "Methods in which instance variables and class variales are used.\n",
    "Used to access or modify both the object and class state.\n",
    "It must have a self parameter to refer to the current object."
   ]
  },
  {
   "cell_type": "code",
   "execution_count": 9,
   "id": "a02d279d",
   "metadata": {},
   "outputs": [
    {
     "ename": "TypeError",
     "evalue": "Aspirant() takes no arguments",
     "output_type": "error",
     "traceback": [
      "\u001b[1;31m---------------------------------------------------------------------------\u001b[0m",
      "\u001b[1;31mTypeError\u001b[0m                                 Traceback (most recent call last)",
      "Cell \u001b[1;32mIn[9], line 8\u001b[0m\n\u001b[0;32m      5\u001b[0m     \u001b[38;5;28;01mdef\u001b[39;00m \u001b[38;5;21mshow\u001b[39m(\u001b[38;5;28mself\u001b[39m):              \u001b[38;5;66;03m#show() is an instance method\u001b[39;00m\n\u001b[0;32m      6\u001b[0m         \u001b[38;5;28mprint\u001b[39m(\u001b[38;5;124m\"\u001b[39m\u001b[38;5;124mMy name is\u001b[39m\u001b[38;5;124m\"\u001b[39m, \u001b[38;5;28mself\u001b[39m\u001b[38;5;241m.\u001b[39mname)\n\u001b[1;32m----> 8\u001b[0m a1\u001b[38;5;241m=\u001b[39m \u001b[43mAspirant\u001b[49m\u001b[43m(\u001b[49m\u001b[38;5;124;43m\"\u001b[39;49m\u001b[38;5;124;43mxyz\u001b[39;49m\u001b[38;5;124;43m\"\u001b[39;49m\u001b[43m)\u001b[49m\n\u001b[0;32m      9\u001b[0m a1\u001b[38;5;241m.\u001b[39mshow()\n",
      "\u001b[1;31mTypeError\u001b[0m: Aspirant() takes no arguments"
     ]
    }
   ],
   "source": [
    "class Aspirant:\n",
    "    def __int__(self,name):     #cOnstructors are special methods\n",
    "        print(\"Hey! I am a Data scientist\")\n",
    "        self.name = name\n",
    "    def show(self):              #show() is an instance method\n",
    "        print(\"My name is\", self.name)\n",
    "        \n",
    "a1= Aspirant(\"xyz\")\n",
    "a1.show()    #calling an instance method"
   ]
  },
  {
   "cell_type": "code",
   "execution_count": null,
   "id": "a40d817a",
   "metadata": {},
   "outputs": [],
   "source": [
    "a2= Aspirant('abc')\n",
    "a2.show()"
   ]
  },
  {
   "cell_type": "code",
   "execution_count": 7,
   "id": "0705dc6b",
   "metadata": {},
   "outputs": [
    {
     "name": "stdout",
     "output_type": "stream",
     "text": [
      "web developer\n"
     ]
    }
   ],
   "source": [
    "#class variable job ko change kar rha h\n",
    "class Person:\n",
    "    job = \"Data Scientist\"\n",
    "    def change_class_state(self):\n",
    "        Person.job= \"web developer\"         #Access class attribute and change the class \n",
    "        print(Person.job) #person.job= class variable\n",
    "p1= Person()\n",
    "p1.change_class_state()"
   ]
  },
  {
   "cell_type": "code",
   "execution_count": 8,
   "id": "820fe336",
   "metadata": {},
   "outputs": [],
   "source": [
    "p1.job= \"web developer\""
   ]
  },
  {
   "cell_type": "code",
   "execution_count": 6,
   "id": "9a865592",
   "metadata": {},
   "outputs": [
    {
     "name": "stdout",
     "output_type": "stream",
     "text": [
      "Data Scientist\n"
     ]
    }
   ],
   "source": [
    "\n",
    "class Person:\n",
    "    job = \"Data Scientist\"\n",
    "    def change_class_state(self):\n",
    "        self.job= \"web developer\"         \n",
    "        print(Person.job)                      #self.job= instance variable\n",
    "                                                #self = object or instance of p1\n",
    "p1= Person()\n",
    "p1.change_class_state()"
   ]
  },
  {
   "cell_type": "code",
   "execution_count": 11,
   "id": "ed4364bb",
   "metadata": {},
   "outputs": [],
   "source": [
    "#instance method= instance will get passed\n",
    "#class method= class will be passed\n"
   ]
  },
  {
   "cell_type": "markdown",
   "id": "38e4623f",
   "metadata": {},
   "source": [
    "# Class Methods"
   ]
  },
  {
   "cell_type": "markdown",
   "id": "f0e36f79",
   "metadata": {},
   "source": [
    "Methods in which only class variables are used."
   ]
  },
  {
   "cell_type": "markdown",
   "id": "73c01a44",
   "metadata": {},
   "source": [
    "Take the cls parameter."
   ]
  },
  {
   "cell_type": "markdown",
   "id": "dccb6cea",
   "metadata": {},
   "source": [
    "Used to access or modify the class state"
   ]
  },
  {
   "cell_type": "code",
   "execution_count": 12,
   "id": "a13b9f87",
   "metadata": {},
   "outputs": [
    {
     "name": "stdout",
     "output_type": "stream",
     "text": [
      "the value of x is 89 the value of y is 78\n"
     ]
    }
   ],
   "source": [
    "x=89\n",
    "y=78\n",
    "print(\"the value of x is\",x, 'the value of y is',y)"
   ]
  },
  {
   "cell_type": "code",
   "execution_count": 14,
   "id": "b8b189a3",
   "metadata": {},
   "outputs": [
    {
     "name": "stdout",
     "output_type": "stream",
     "text": [
      " the value of x is 89 and the value of y is 78\n"
     ]
    }
   ],
   "source": [
    "print(f\" the value of x is {x} and the value of y is {y}\")"
   ]
  },
  {
   "cell_type": "code",
   "execution_count": null,
   "id": "7fc7f106",
   "metadata": {},
   "outputs": [],
   "source": [
    "#cls=class=School"
   ]
  },
  {
   "cell_type": "code",
   "execution_count": 15,
   "id": "2a8178f1",
   "metadata": {},
   "outputs": [
    {
     "name": "stdout",
     "output_type": "stream",
     "text": [
      "Present school name is XYZ School in Haldwani\n",
      "<class '__main__.School'>\n"
     ]
    },
    {
     "ename": "NameError",
     "evalue": "name 'cls' is not defined",
     "output_type": "error",
     "traceback": [
      "\u001b[1;31m---------------------------------------------------------------------------\u001b[0m",
      "\u001b[1;31mNameError\u001b[0m                                 Traceback (most recent call last)",
      "Cell \u001b[1;32mIn[15], line 14\u001b[0m\n\u001b[0;32m     12\u001b[0m \u001b[38;5;28mprint\u001b[39m(\u001b[38;5;124mf\u001b[39m\u001b[38;5;124m\"\u001b[39m\u001b[38;5;124mPresent school name is \u001b[39m\u001b[38;5;132;01m{\u001b[39;00mSchool\u001b[38;5;241m.\u001b[39mschool_name\u001b[38;5;132;01m}\u001b[39;00m\u001b[38;5;124m in \u001b[39m\u001b[38;5;132;01m{\u001b[39;00mSchool\u001b[38;5;241m.\u001b[39mloc\u001b[38;5;132;01m}\u001b[39;00m\u001b[38;5;124m\"\u001b[39m)       \u001b[38;5;66;03m#f = string\u001b[39;00m\n\u001b[0;32m     13\u001b[0m School\u001b[38;5;241m.\u001b[39mchange_school(\u001b[38;5;124m'\u001b[39m\u001b[38;5;124mABC School\u001b[39m\u001b[38;5;124m'\u001b[39m, \u001b[38;5;124m\"\u001b[39m\u001b[38;5;124mDELHI\u001b[39m\u001b[38;5;124m\"\u001b[39m)\n\u001b[1;32m---> 14\u001b[0m \u001b[38;5;28mprint\u001b[39m(\u001b[38;5;124mf\u001b[39m\u001b[38;5;124m\"\u001b[39m\u001b[38;5;124mNow school has been changed to \u001b[39m\u001b[38;5;132;01m{\u001b[39;00m\u001b[38;5;28mcls\u001b[39m\u001b[38;5;241m.\u001b[39mschool_name\u001b[38;5;132;01m}\u001b[39;00m\u001b[38;5;124m in \u001b[39m\u001b[38;5;132;01m{\u001b[39;00mSchool\u001b[38;5;241m.\u001b[39mloc\u001b[38;5;132;01m}\u001b[39;00m\u001b[38;5;124m\"\u001b[39m)\n",
      "\u001b[1;31mNameError\u001b[0m: name 'cls' is not defined"
     ]
    }
   ],
   "source": [
    "class School:\n",
    "    school_name = 'XYZ School'\n",
    "    loc = 'Haldwani'\n",
    "    \n",
    "    @classmethod        #decorator\n",
    "    def change_school(cls,name,loc1):\n",
    "        print(cls)\n",
    "        cls.school_name = name   #cls = class cls.school= class variable\n",
    "        cls.loc = loc1\n",
    "        \n",
    "std1= School()\n",
    "print(f\"Present school name is {School.school_name} in {School.loc}\")       #f = string\n",
    "School.change_school('ABC School', \"DELHI\")\n",
    "print(f\"Now school has been changed to {cls.school_name} in {School.loc}\") #error because cls.school_name id in parameter\n",
    "\n"
   ]
  },
  {
   "cell_type": "code",
   "execution_count": 16,
   "id": "027f395e",
   "metadata": {},
   "outputs": [
    {
     "name": "stdout",
     "output_type": "stream",
     "text": [
      "Present school name is XYZ School in Haldwani\n",
      "<class '__main__.School'>\n",
      "Now school has been changed to ABC School in DELHI\n"
     ]
    }
   ],
   "source": [
    "class School:\n",
    "    school_name = 'XYZ School'\n",
    "    loc = 'Haldwani'\n",
    "    \n",
    "    @classmethod        #decorator\n",
    "    def change_school(cls,name,loc1):\n",
    "        print(cls)\n",
    "        cls.school_name = name   #cls = class cls.school= class variable\n",
    "        cls.loc = loc1\n",
    "        \n",
    "std1= School()\n",
    "print(f\"Present school name is {School.school_name} in {School.loc}\")       #f = string\n",
    "School.change_school('ABC School', \"DELHI\")\n",
    "print(f\"Now school has been changed to {School.school_name} in {School.loc}\")\n",
    "\n"
   ]
  },
  {
   "cell_type": "code",
   "execution_count": null,
   "id": "ea92bc02",
   "metadata": {},
   "outputs": [],
   "source": [
    "self will refer to obj\n",
    "cls will refer to class"
   ]
  },
  {
   "cell_type": "code",
   "execution_count": 4,
   "id": "595cdb42",
   "metadata": {},
   "outputs": [
    {
     "name": "stdout",
     "output_type": "stream",
     "text": [
      "['Parag', '4th']\n",
      "Parag 4th\n"
     ]
    }
   ],
   "source": [
    "#Using class methods as alterknative constructors\n",
    "class School:\n",
    "    school_name= 'XYZ School'\n",
    "    loc='Haldwani'\n",
    "    \n",
    "    \n",
    "    \n",
    "    def __init__(self,name,class_):     #constructor\n",
    "        self.name = name                  #iv\n",
    "        self.class_ = class_\n",
    "        \n",
    "    @classmethod\n",
    "    def new_admission(cls,info): #cls=class,school,  info=parameter    ,Parag@4th\n",
    "        lst = info.split(\"@\")            #.split makes a lst\n",
    "        print(lst)                        #1st output\n",
    "        return cls(lst[0],lst[1])           #School(\"Parag\",\"4th\")\n",
    "                                           #object is returning\n",
    "    \n",
    "std2 = School.new_admission('Parag@4th')           #class method     after return cls(lst[0],lst[1])\n",
    "print(std2.name, std2.class_)"
   ]
  },
  {
   "cell_type": "code",
   "execution_count": 6,
   "id": "e0ab1b43",
   "metadata": {},
   "outputs": [
    {
     "data": {
      "text/plain": [
       "<__main__.School at 0x1ca6fba1b40>"
      ]
     },
     "execution_count": 6,
     "metadata": {},
     "output_type": "execute_result"
    }
   ],
   "source": [
    "School('Parag',\"4th\")            #creating an obj"
   ]
  },
  {
   "cell_type": "code",
   "execution_count": 5,
   "id": "a8922678",
   "metadata": {},
   "outputs": [],
   "source": [
    "std3 = School('Parag',\"4th\")            #creating an obj"
   ]
  },
  {
   "cell_type": "markdown",
   "id": "9e6a49f6",
   "metadata": {},
   "source": [
    "# Static Method"
   ]
  },
  {
   "cell_type": "markdown",
   "id": "8bb48cb8",
   "metadata": {},
   "source": [
    "1. Similar to a normal function."
   ]
  },
  {
   "cell_type": "markdown",
   "id": "ddd94070",
   "metadata": {},
   "source": [
    "2. It does not takes the cls and self parameters."
   ]
  },
  {
   "cell_type": "markdown",
   "id": "e1a0a790",
   "metadata": {},
   "source": [
    "3. It cannot modify the state of the object or class."
   ]
  },
  {
   "cell_type": "markdown",
   "id": "ab8909d5",
   "metadata": {},
   "source": [
    "# Advantages"
   ]
  },
  {
   "cell_type": "markdown",
   "id": "94944d93",
   "metadata": {},
   "source": [
    "Safer Coder- as they cannot change the class or instance variables"
   ]
  },
  {
   "cell_type": "code",
   "execution_count": 9,
   "id": "45c23f02",
   "metadata": {},
   "outputs": [
    {
     "name": "stdout",
     "output_type": "stream",
     "text": [
      "Inside static method 10\n",
      "Inside static method 10\n"
     ]
    }
   ],
   "source": [
    "class Employee:\n",
    "    \n",
    "    @staticmethod\n",
    "    def sample(x):\n",
    "        print('Inside static method',x)\n",
    "        \n",
    " #call using class\n",
    "Employee.sample(10)\n",
    "\n",
    "#call using object\n",
    "emp = Employee()\n",
    "emp.sample(10)"
   ]
  },
  {
   "cell_type": "code",
   "execution_count": null,
   "id": "7d17956d",
   "metadata": {},
   "outputs": [],
   "source": [
    "#name phone no email prog exp comp prof\n",
    "#procedural programming"
   ]
  },
  {
   "cell_type": "code",
   "execution_count": null,
   "id": "61c5b026",
   "metadata": {},
   "outputs": [],
   "source": [
    "hello<br>\n",
    "world"
   ]
  },
  {
   "cell_type": "code",
   "execution_count": null,
   "id": "cfadbae9",
   "metadata": {},
   "outputs": [],
   "source": [
    "<font size=4> hello\n",
    "*hello*"
   ]
  },
  {
   "cell_type": "code",
   "execution_count": null,
   "id": "522a5c3e",
   "metadata": {},
   "outputs": [],
   "source": [
    "class Admission_student():\n",
    "    def __init__ (self,name,phone_no, email, prof_exp, comp_prof, qualification):\n",
    "        self.name= name\n",
    "        self.phone_no= phone_no\n",
    "        self.email= email\n",
    "        self.prof_exp = prof_exp\n",
    "        self.comp_prof= comp_prof\n",
    "        self.qualifications= qualifications\n",
    "    def performance():\n",
    "        \n",
    "        \n",
    "s1=Student(\"Joy\", 876509,\"joy@gmail.com\",\"yes\",\"no\",\"graduation\")\n",
    "s2=Student(\"ram\",876525,\"ram@gmail.com\",\"no\",\"no\",\"postgraduation\")\n",
    "s3=Student(\"rahul\",347887,\"rahul@gmail.com\",\"yes\",\"yes\",\"graduation\")\n",
    "s4=Student(\"Tom\",12345,\"tom@gmail.com\",\"no\",\"yes\",12)\n",
    "s5=Student(\"Karan\",908748, \"karan@gmail.com\", \"yes\", \"no\", \"graduation\")\n",
    "s6=Student(\"\")"
   ]
  },
  {
   "cell_type": "code",
   "execution_count": null,
   "id": "875c7b37",
   "metadata": {},
   "outputs": [],
   "source": []
  }
 ],
 "metadata": {
  "kernelspec": {
   "display_name": "Python 3 (ipykernel)",
   "language": "python",
   "name": "python3"
  },
  "language_info": {
   "codemirror_mode": {
    "name": "ipython",
    "version": 3
   },
   "file_extension": ".py",
   "mimetype": "text/x-python",
   "name": "python",
   "nbconvert_exporter": "python",
   "pygments_lexer": "ipython3",
   "version": "3.10.9"
  }
 },
 "nbformat": 4,
 "nbformat_minor": 5
}
