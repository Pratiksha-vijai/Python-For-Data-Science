{
 "cells": [
  {
   "cell_type": "code",
   "execution_count": null,
   "id": "7eac8a9a",
   "metadata": {},
   "outputs": [],
   "source": [
    "Class is the blueprint of an object cars\n",
    "object are the instances of class"
   ]
  },
  {
   "cell_type": "markdown",
   "id": "4b9cd65f",
   "metadata": {},
   "source": [
    "# OOPS"
   ]
  },
  {
   "cell_type": "markdown",
   "id": "b844b372",
   "metadata": {},
   "source": [
    "Every object has the following properties"
   ]
  },
  {
   "cell_type": "markdown",
   "id": "7a88712b",
   "metadata": {},
   "source": [
    "1. Identity: Every object must be uniquely identified.\n",
    "2. State: An object has attributes that represents the state of an object.\n",
    "3. Behaviour: An object has methods that represents its behaviour"
   ]
  },
  {
   "cell_type": "markdown",
   "id": "d94f5d6e",
   "metadata": {},
   "source": [
    "Object is an instance of a class"
   ]
  },
  {
   "cell_type": "markdown",
   "id": "11c90a5e",
   "metadata": {},
   "source": [
    "Class is a blueprint or code template for object creation. Using a class, you can create as many objects as you want."
   ]
  },
  {
   "cell_type": "code",
   "execution_count": null,
   "id": "f9cf0806",
   "metadata": {},
   "outputs": [],
   "source": [
    "help(\"keyword\")"
   ]
  },
  {
   "cell_type": "code",
   "execution_count": null,
   "id": "d414da90",
   "metadata": {},
   "outputs": [],
   "source": [
    "#CREATING A CLASS\n",
    "class class_name:\n",
    "    \"\"\"This is a docstring. I have created a class.\"\"\"\n",
    "    \n",
    "class_name.__doc__"
   ]
  },
  {
   "cell_type": "code",
   "execution_count": null,
   "id": "039a5efa",
   "metadata": {},
   "outputs": [],
   "source": [
    "obj is pa"
   ]
  },
  {
   "cell_type": "code",
   "execution_count": null,
   "id": "4dc2a8a9",
   "metadata": {},
   "outputs": [],
   "source": [
    "class Person(#x):\n",
    "    def __intit__():\n",
    "        pass"
   ]
  },
  {
   "cell_type": "code",
   "execution_count": null,
   "id": "d6403d39",
   "metadata": {},
   "outputs": [],
   "source": [
    "Person()"
   ]
  },
  {
   "cell_type": "code",
   "execution_count": null,
   "id": "3c4fb1b0",
   "metadata": {},
   "outputs": [],
   "source": [
    "#Define a class\n",
    "class Person:\n",
    "    def __init__(self,name,gender,profession):                 #Object initialisation\n",
    "        #State (attributes-variables)\n",
    "        self.name_ = name                                        #name_ is written then will be a local variable and it will \n",
    "                                                                 #be temporary and using self it will be be the value of the\n",
    "                                                                 #object which is the method i.e the attribute\n",
    "        self.gender_ =gender\n",
    "        self.profession_ =profession                              \n",
    "                                                                 #name_ it is a variable\n",
    "    "
   ]
  },
  {
   "cell_type": "code",
   "execution_count": null,
   "id": "6b5f16b9",
   "metadata": {},
   "outputs": [],
   "source": [
    "#object creation                                         #memory stored for later purpose thats why it ram is variable where\n",
    "                                                         # the value is been assigned \n",
    "ram= Person(\"ram\",\"male\",\"software developer\")\n",
    "shyam= Person(\"shyam\",\"male\",\"data scientist\")"
   ]
  },
  {
   "cell_type": "code",
   "execution_count": null,
   "id": "e3922e5f",
   "metadata": {},
   "outputs": [],
   "source": [
    "Person(\"ram\",\"male\",\"software developer\")"
   ]
  },
  {
   "cell_type": "code",
   "execution_count": null,
   "id": "571e5d80",
   "metadata": {},
   "outputs": [],
   "source": [
    "Person(\"shyam\",\"male\",\"data scientist\")"
   ]
  },
  {
   "cell_type": "code",
   "execution_count": null,
   "id": "695cd8f0",
   "metadata": {},
   "outputs": [],
   "source": [
    "shyam.profession_= \"chef\"\n",
    "print(shyam.profession_)"
   ]
  },
  {
   "cell_type": "code",
   "execution_count": null,
   "id": "8a15f244",
   "metadata": {},
   "outputs": [],
   "source": [
    "#accessing the attribute\n",
    "print(ram.profession_)\n",
    "print(ram.name_)\n",
    "print(ram.gender_)"
   ]
  },
  {
   "cell_type": "code",
   "execution_count": null,
   "id": "7babc92a",
   "metadata": {},
   "outputs": [],
   "source": [
    "#adding another attribute\n",
    "ram.salary=150000\n",
    "print(ram.salary)"
   ]
  },
  {
   "cell_type": "raw",
   "id": "1dcac097",
   "metadata": {},
   "source": []
  },
  {
   "cell_type": "code",
   "execution_count": null,
   "id": "afef44d5",
   "metadata": {},
   "outputs": [],
   "source": [
    "\n",
    "ram.profession_\n",
    "ram.name_\n",
    "ram.gender_"
   ]
  },
  {
   "cell_type": "code",
   "execution_count": null,
   "id": "a1fff569",
   "metadata": {},
   "outputs": [],
   "source": [
    "shyam.gender_"
   ]
  },
  {
   "cell_type": "code",
   "execution_count": 1,
   "id": "50220d01",
   "metadata": {},
   "outputs": [],
   "source": [
    "#Define a class\n",
    "class Person:\n",
    "    def __init__(self,name,gender,profession):                 #Object initialisation\n",
    "        #State (attributes-variables)\n",
    "        self.name_ = name                                        #name_ is written then will be a local variable and it will \n",
    "                                                                 #be temporary and using self it will be be the value of the\n",
    "                                                                 #object which is the method i.e the attribute\n",
    "        self.gender_ =gender\n",
    "        self.profession_ =profession        \n",
    "        #behaviour (method)\n",
    "    def show (self):\n",
    "        print('Name:', self.name_, 'Gender:',self.gender_, 'Profession:', self.profession_)\n",
    "    def work(self):\n",
    "        print(self.name_, 'is working as a', self.profession_)\n",
    "                                                                 #name_ it is a variable\n",
    "    "
   ]
  },
  {
   "cell_type": "code",
   "execution_count": 2,
   "id": "16defba6",
   "metadata": {},
   "outputs": [],
   "source": [
    "#object creation                                         #memory stored for later purpose thats why it ram is variable where\n",
    "                                                         # the value is been assigned \n",
    "ram= Person(\"ram\",\"male\",\"software developer\")\n",
    "shyam= Person(\"shyam\",\"male\",\"data scientist\")"
   ]
  },
  {
   "cell_type": "code",
   "execution_count": 3,
   "id": "f79db0ab",
   "metadata": {},
   "outputs": [
    {
     "name": "stdout",
     "output_type": "stream",
     "text": [
      "Name: ram Gender: male Profession: software developer\n"
     ]
    }
   ],
   "source": [
    "ram.show()"
   ]
  },
  {
   "cell_type": "code",
   "execution_count": 10,
   "id": "e902d6ed",
   "metadata": {},
   "outputs": [
    {
     "name": "stdout",
     "output_type": "stream",
     "text": [
      "shyam is working as a data scientist\n"
     ]
    }
   ],
   "source": [
    "shyam.work()"
   ]
  },
  {
   "cell_type": "code",
   "execution_count": 12,
   "id": "51ea9483",
   "metadata": {},
   "outputs": [
    {
     "name": "stdout",
     "output_type": "stream",
     "text": [
      "ram is working as a software developer\n"
     ]
    }
   ],
   "source": [
    "ram.work()"
   ]
  },
  {
   "cell_type": "code",
   "execution_count": 13,
   "id": "577e26cd",
   "metadata": {},
   "outputs": [
    {
     "name": "stdout",
     "output_type": "stream",
     "text": [
      "chef\n"
     ]
    }
   ],
   "source": [
    "shyam.profession_= \"chef\"\n",
    "print(shyam.profession_)"
   ]
  },
  {
   "cell_type": "code",
   "execution_count": null,
   "id": "fdbfef77",
   "metadata": {},
   "outputs": [],
   "source": [
    "class "
   ]
  },
  {
   "cell_type": "code",
   "execution_count": null,
   "id": "862d9e01",
   "metadata": {},
   "outputs": [],
   "source": [
    "class Phones:\n",
    "    def __init__ (self,name,colour,price,RAM,camera,weight):\n",
    "        self.name_= name\n",
    "        self.colour_= colour\n",
    "        self.price_ = price\n",
    "        self.RAM_ = RAM\n",
    "        self.camera_ = camera\n",
    "        self.weight = weight\n",
    "    def show(self):\n",
    "        print('Name:', self.name_, 'Colour:',self.colour_, 'Price:', self.price_, 'RAM:', self.RAM_, 'Camera:', self.camera_,'Weight:,self.weight')\n",
    "    def "
   ]
  },
  {
   "cell_type": "code",
   "execution_count": null,
   "id": "90ce02ba",
   "metadata": {},
   "outputs": [],
   "source": []
  },
  {
   "cell_type": "code",
   "execution_count": null,
   "id": "5b88298c",
   "metadata": {},
   "outputs": [],
   "source": [
    "iphone=Phones(\"iphone\",\"green\",150000,\"32gb\", \"48MP\",\"194g\")\n",
    "samsung= Phones(\"samsung\",\"purple\",75000,\"64gb\", \"32MP\", \"190g\")\n",
    "one_plus= Phones(\"one_plus\",\"blue\",50000, \"16gb\", \"64MP\",\"195g\")\n",
    "realme= Phones(\"realme\",\"black\",20000, \"12gb\", \"128MP\", \"200g\")\n",
    "vivo= Phones(\"vivo\",\"blue\",45000, \"32gb\", \"24MP\", \"160g\")\n",
    "oppo= Phones(\"oppo\",\"white\",23000, \"256gb\" ,\"108MP\",\"170g\")"
   ]
  },
  {
   "cell_type": "code",
   "execution_count": null,
   "id": "6dc9fe5f",
   "metadata": {},
   "outputs": [],
   "source": [
    "Phones(\"iphone\",\"green\",150000,\"32gb\", \"48MP\",\"194g\")"
   ]
  },
  {
   "cell_type": "code",
   "execution_count": null,
   "id": "65eb8b4d",
   "metadata": {},
   "outputs": [],
   "source": [
    "iphone.model= \"14 pro\"\n",
    "print(iphone.model)"
   ]
  },
  {
   "cell_type": "code",
   "execution_count": null,
   "id": "ab7572b9",
   "metadata": {},
   "outputs": [],
   "source": [
    "x= \"48MP\"\n",
    "print(x)"
   ]
  },
  {
   "cell_type": "code",
   "execution_count": null,
   "id": "f8e07623",
   "metadata": {},
   "outputs": [],
   "source": [
    "y=\"10g\"\n",
    "print(y)"
   ]
  },
  {
   "cell_type": "code",
   "execution_count": null,
   "id": "3470642d",
   "metadata": {},
   "outputs": [],
   "source": [
    "#methods are defined for the object of a particular class whereas functions are not defined for a particular class"
   ]
  },
  {
   "cell_type": "code",
   "execution_count": null,
   "id": "d2fb6ea2",
   "metadata": {},
   "outputs": [],
   "source": [
    "#methods are functions defined inside a class\n",
    "#method= def xyz:"
   ]
  },
  {
   "cell_type": "code",
   "execution_count": 1,
   "id": "bd9e828e",
   "metadata": {},
   "outputs": [
    {
     "name": "stdout",
     "output_type": "stream",
     "text": [
      "<class 'set'>\n"
     ]
    }
   ],
   "source": [
    "set1={1,2,3}\n",
    "print(type(set1))"
   ]
  },
  {
   "cell_type": "code",
   "execution_count": null,
   "id": "0ede75ba",
   "metadata": {},
   "outputs": [],
   "source": []
  },
  {
   "cell_type": "markdown",
   "id": "5ac33236",
   "metadata": {},
   "source": [
    "# Class Attributes"
   ]
  },
  {
   "cell_type": "markdown",
   "id": "586f04fe",
   "metadata": {},
   "source": [
    "1. Instance Variables\n",
    "2. class Variables"
   ]
  },
  {
   "cell_type": "code",
   "execution_count": null,
   "id": "fb545c11",
   "metadata": {},
   "outputs": [],
   "source": [
    "#Instant variables-  Attached to an instance(onject) of a class\n",
    "#                    Defined inside any method but generally inside the __init__ method (eg-.name)\n",
    "#                    Every object will have its own copy\n",
    "# Class variables-   Attached to the class\n",
    "#                -   Declared inside the class but outside of any method\n",
    "#                    Every object will share the same class variable"
   ]
  },
  {
   "cell_type": "code",
   "execution_count": 2,
   "id": "c7020ae7",
   "metadata": {},
   "outputs": [],
   "source": [
    "class Student:\n",
    "    #class variable\n",
    "    school_name= \"ABC School\"\n",
    "    \n",
    "    def __init__(self, name, age):  #init= method\n",
    "        #instance variables\n",
    "        self.name= name    #I.v= self.name, self.age   name=local variable of init method\n",
    "        self.age = age\n",
    "s1= Student(\"Jack\", 12)"
   ]
  },
  {
   "cell_type": "code",
   "execution_count": 3,
   "id": "0223eb4b",
   "metadata": {},
   "outputs": [
    {
     "name": "stdout",
     "output_type": "stream",
     "text": [
      "Student:  Jack 12\n"
     ]
    }
   ],
   "source": [
    "#access instance variables\n",
    "print(\"Student: \",s1.name,s1.age)"
   ]
  },
  {
   "cell_type": "code",
   "execution_count": 4,
   "id": "80c3ebe3",
   "metadata": {},
   "outputs": [
    {
     "name": "stdout",
     "output_type": "stream",
     "text": [
      "School name: ABC School\n"
     ]
    }
   ],
   "source": [
    "#access class variables\n",
    "print(\"School name:\", Student.school_name)"
   ]
  },
  {
   "cell_type": "code",
   "execution_count": 5,
   "id": "a7e9a3ba",
   "metadata": {},
   "outputs": [
    {
     "data": {
      "text/plain": [
       "'ABC School'"
      ]
     },
     "execution_count": 5,
     "metadata": {},
     "output_type": "execute_result"
    }
   ],
   "source": [
    "s1.school_name"
   ]
  },
  {
   "cell_type": "code",
   "execution_count": 6,
   "id": "863b582d",
   "metadata": {},
   "outputs": [
    {
     "name": "stdout",
     "output_type": "stream",
     "text": [
      "Student: Tom 14\n"
     ]
    }
   ],
   "source": [
    "#modify instance variable\n",
    "s1.name= \"Tom\"\n",
    "s1.age= 14 \n",
    "print('Student:', s1.name, s1.age)"
   ]
  },
  {
   "cell_type": "code",
   "execution_count": 7,
   "id": "34536483",
   "metadata": {},
   "outputs": [
    {
     "name": "stdout",
     "output_type": "stream",
     "text": [
      "School name: XYZ School\n"
     ]
    }
   ],
   "source": [
    "#modify class variables\n",
    "Student.school_name= 'XYZ School'\n",
    "print('School name:', Student.school_name)"
   ]
  },
  {
   "cell_type": "code",
   "execution_count": 11,
   "id": "98a7296d",
   "metadata": {},
   "outputs": [],
   "source": [
    "class Student:\n",
    "    #class variable\n",
    "    school_name= \"ABC School\"\n",
    "    \n",
    "    def __init__(self, name, age):  #init= method\n",
    "        #instance variables\n",
    "        self.name= name    #I.v= self.name, self.age   name=local variable of init method\n",
    "        self.age = age\n",
    "s1= Student(\"Jack\", 12)"
   ]
  },
  {
   "cell_type": "code",
   "execution_count": 13,
   "id": "e1b4113d",
   "metadata": {},
   "outputs": [
    {
     "name": "stdout",
     "output_type": "stream",
     "text": [
      "XYZ SCHOOL\n",
      "ABC School\n"
     ]
    }
   ],
   "source": [
    "#Experiments\n",
    "s2= Student(\"James\", 12)\n",
    "s2.school_name= \"XYZ SCHOOL\"         # this creates an instance variable 'school_name' for s2\n",
    "print(s2.school_name)\n",
    "print(Student.school_name)          #but the class variable 'school_name' does not change"
   ]
  },
  {
   "cell_type": "code",
   "execution_count": 1,
   "id": "94ccc677",
   "metadata": {},
   "outputs": [
    {
     "ename": "NameError",
     "evalue": "name 'Student' is not defined",
     "output_type": "error",
     "traceback": [
      "\u001b[1;31m---------------------------------------------------------------------------\u001b[0m",
      "\u001b[1;31mNameError\u001b[0m                                 Traceback (most recent call last)",
      "Cell \u001b[1;32mIn[1], line 2\u001b[0m\n\u001b[0;32m      1\u001b[0m \u001b[38;5;66;03m#Experiments\u001b[39;00m\n\u001b[1;32m----> 2\u001b[0m s2\u001b[38;5;241m=\u001b[39m \u001b[43mStudent\u001b[49m(\u001b[38;5;124m\"\u001b[39m\u001b[38;5;124mJames\u001b[39m\u001b[38;5;124m\"\u001b[39m, \u001b[38;5;241m12\u001b[39m)\n\u001b[0;32m      3\u001b[0m \u001b[38;5;28mprint\u001b[39m(s2\u001b[38;5;241m.\u001b[39mschool_name)\n\u001b[0;32m      4\u001b[0m s2\u001b[38;5;241m.\u001b[39mschool_name\u001b[38;5;241m=\u001b[39m \u001b[38;5;124m\"\u001b[39m\u001b[38;5;124mABC SCHOOL\u001b[39m\u001b[38;5;124m\"\u001b[39m         \u001b[38;5;66;03m# this creates an instance variable 'school_name'\u001b[39;00m\n",
      "\u001b[1;31mNameError\u001b[0m: name 'Student' is not defined"
     ]
    }
   ],
   "source": [
    "#Experiments\n",
    "s2= Student(\"James\", 12)\n",
    "print(s2.school_name)\n",
    "s2.school_name= \"ABC SCHOOL\"         # this creates an instance variable 'school_name'\n",
    "print(s2.school_name)\n",
    "print(Student.school_name)\n",
    "print(s1.school_name)              #but the class variable 'school_name' does not change"
   ]
  },
  {
   "cell_type": "code",
   "execution_count": null,
   "id": "c997233c",
   "metadata": {},
   "outputs": [],
   "source": [
    "#class variable will not change till we dont give an object or variable name to it the value will be the same\n",
    "#class variable will be the same for all i.e. school_name"
   ]
  },
  {
   "cell_type": "code",
   "execution_count": 16,
   "id": "49304ddf",
   "metadata": {},
   "outputs": [
    {
     "data": {
      "text/plain": [
       "'ABC School'"
      ]
     },
     "execution_count": 16,
     "metadata": {},
     "output_type": "execute_result"
    }
   ],
   "source": [
    "s1.school_name"
   ]
  },
  {
   "cell_type": "code",
   "execution_count": 17,
   "id": "14052159",
   "metadata": {
    "scrolled": true
   },
   "outputs": [
    {
     "ename": "AttributeError",
     "evalue": "'Student' object has no attribute 'profession'",
     "output_type": "error",
     "traceback": [
      "\u001b[1;31m---------------------------------------------------------------------------\u001b[0m",
      "\u001b[1;31mAttributeError\u001b[0m                            Traceback (most recent call last)",
      "Cell \u001b[1;32mIn[17], line 2\u001b[0m\n\u001b[0;32m      1\u001b[0m s1\u001b[38;5;241m.\u001b[39mprofession\u001b[38;5;241m=\u001b[39m \u001b[38;5;124m\"\u001b[39m\u001b[38;5;124mdata scientist\u001b[39m\u001b[38;5;124m\"\u001b[39m\n\u001b[1;32m----> 2\u001b[0m \u001b[43ms2\u001b[49m\u001b[38;5;241;43m.\u001b[39;49m\u001b[43mprofession\u001b[49m\n",
      "\u001b[1;31mAttributeError\u001b[0m: 'Student' object has no attribute 'profession'"
     ]
    }
   ],
   "source": [
    "s1.profession= \"data scientist\"\n",
    "s2.profession"
   ]
  },
  {
   "cell_type": "code",
   "execution_count": 19,
   "id": "364f2ee8",
   "metadata": {},
   "outputs": [
    {
     "ename": "AttributeError",
     "evalue": "type object 'Student' has no attribute 'profession'",
     "output_type": "error",
     "traceback": [
      "\u001b[1;31m---------------------------------------------------------------------------\u001b[0m",
      "\u001b[1;31mAttributeError\u001b[0m                            Traceback (most recent call last)",
      "Cell \u001b[1;32mIn[19], line 1\u001b[0m\n\u001b[1;32m----> 1\u001b[0m \u001b[43mStudent\u001b[49m\u001b[38;5;241;43m.\u001b[39;49m\u001b[43mprofession\u001b[49m\n\u001b[0;32m      2\u001b[0m s1\u001b[38;5;241m.\u001b[39mprofession\u001b[38;5;241m=\u001b[39m \u001b[38;5;124m\"\u001b[39m\u001b[38;5;124mdata scientist\u001b[39m\u001b[38;5;124m\"\u001b[39m\n\u001b[0;32m      3\u001b[0m s2\u001b[38;5;241m.\u001b[39mprofession\n",
      "\u001b[1;31mAttributeError\u001b[0m: type object 'Student' has no attribute 'profession'"
     ]
    }
   ],
   "source": [
    "Student.profession\n",
    "s1.profession= \"data scientist\"\n",
    "s2.profession"
   ]
  },
  {
   "cell_type": "markdown",
   "id": "26fea95b",
   "metadata": {},
   "source": [
    "# deleting object attributes"
   ]
  },
  {
   "cell_type": "code",
   "execution_count": 6,
   "id": "47a7492f",
   "metadata": {},
   "outputs": [],
   "source": [
    "class Student:\n",
    "    #class variable\n",
    "    school_name= \"ABC School\"\n",
    "    \n",
    "    def __init__(self, name, age):  #init= method\n",
    "        #instance variables\n",
    "        self.name= name    #I.v= self.name, self.age   name=local variable of init method\n",
    "        self.age = age\n",
    "s1= Student(\"Jack\", 12)"
   ]
  },
  {
   "cell_type": "code",
   "execution_count": 7,
   "id": "eab467fd",
   "metadata": {},
   "outputs": [
    {
     "name": "stdout",
     "output_type": "stream",
     "text": [
      "XYZ SCHOOL\n",
      "ABC School\n"
     ]
    }
   ],
   "source": [
    "#Experiments\n",
    "s2= Student(\"James\", 12)\n",
    "s2.school_name= \"XYZ SCHOOL\"         # this creates an instance variable 'school_name' for s2\n",
    "print(s2.school_name)\n",
    "print(Student.school_name)          #but the class variable 'school_name' does not change"
   ]
  },
  {
   "cell_type": "code",
   "execution_count": 8,
   "id": "60a518af",
   "metadata": {},
   "outputs": [],
   "source": [
    "del s2.school_name"
   ]
  },
  {
   "cell_type": "code",
   "execution_count": 9,
   "id": "c5be926f",
   "metadata": {},
   "outputs": [
    {
     "data": {
      "text/plain": [
       "'ABC School'"
      ]
     },
     "execution_count": 9,
     "metadata": {},
     "output_type": "execute_result"
    }
   ],
   "source": [
    "s2.school_name"
   ]
  },
  {
   "cell_type": "markdown",
   "id": "e6c5167b",
   "metadata": {},
   "source": [
    "# Deleting an object"
   ]
  },
  {
   "cell_type": "code",
   "execution_count": 10,
   "id": "5a395dbc",
   "metadata": {},
   "outputs": [],
   "source": [
    "del s2     #"
   ]
  },
  {
   "cell_type": "code",
   "execution_count": 11,
   "id": "b8c7ce64",
   "metadata": {},
   "outputs": [
    {
     "ename": "NameError",
     "evalue": "name 's2' is not defined",
     "output_type": "error",
     "traceback": [
      "\u001b[1;31m---------------------------------------------------------------------------\u001b[0m",
      "\u001b[1;31mNameError\u001b[0m                                 Traceback (most recent call last)",
      "Cell \u001b[1;32mIn[11], line 1\u001b[0m\n\u001b[1;32m----> 1\u001b[0m \u001b[43ms2\u001b[49m\u001b[38;5;241m.\u001b[39mschool_name\n",
      "\u001b[1;31mNameError\u001b[0m: name 's2' is not defined"
     ]
    }
   ],
   "source": [
    "s2.school_name"
   ]
  },
  {
   "cell_type": "code",
   "execution_count": null,
   "id": "7e4f0e3e",
   "metadata": {},
   "outputs": [],
   "source": [
    "del Student.school_name"
   ]
  }
 ],
 "metadata": {
  "kernelspec": {
   "display_name": "Python 3 (ipykernel)",
   "language": "python",
   "name": "python3"
  },
  "language_info": {
   "codemirror_mode": {
    "name": "ipython",
    "version": 3
   },
   "file_extension": ".py",
   "mimetype": "text/x-python",
   "name": "python",
   "nbconvert_exporter": "python",
   "pygments_lexer": "ipython3",
   "version": "3.10.9"
  }
 },
 "nbformat": 4,
 "nbformat_minor": 5
}
