{
 "cells": [
  {
   "cell_type": "markdown",
   "id": "ddb75dc8",
   "metadata": {},
   "source": [
    "The term 'polymorphism' comes from a Greek language and means 'something that takes on multiple forms'"
   ]
  },
  {
   "cell_type": "markdown",
   "id": "e0f294f5",
   "metadata": {},
   "source": [
    "Poly(many)+ morph(forms) = Polymorphism"
   ]
  },
  {
   "cell_type": "markdown",
   "id": "9bbd940f",
   "metadata": {},
   "source": [
    "In OOPs, it refers to the ability of a method to exist in various forms (behaviours)."
   ]
  },
  {
   "cell_type": "markdown",
   "id": "24f436cb",
   "metadata": {},
   "source": [
    "methods are taking multiple forms"
   ]
  },
  {
   "cell_type": "markdown",
   "id": "55ec7b2e",
   "metadata": {},
   "source": [
    "# Method Overriding"
   ]
  },
  {
   "cell_type": "markdown",
   "id": "b086c12c",
   "metadata": {},
   "source": [
    "Method overriding is a powerful feature that allows you to redefine a method of the parent class in the child class."
   ]
  },
  {
   "cell_type": "code",
   "execution_count": null,
   "id": "51d4d99d",
   "metadata": {},
   "outputs": [],
   "source": [
    "class Profession:\n",
    "    \n",
    "    def __init__ (self,name,prof):\n",
    "        self.name= name\n",
    "        self.prof= prof\n",
    "        \n",
    "    def display_prof(self):\n",
    "        print(f\"{self.name} has profession{self.prof}\")\n",
    "              \n",
    "class Data_Scientist(Profession):\n",
    "    def display_prof(self):\n",
    "        print(f\"{self.name} is a data scientist\")\n",
    "        \n",
    "x= Data_Scientist (\"roy\", \"data scientist\")\n",
    "x.display_prof()"
   ]
  },
  {
   "cell_type": "markdown",
   "id": "d06cee66",
   "metadata": {},
   "source": [
    "# Method Overloading"
   ]
  },
  {
   "cell_type": "markdown",
   "id": "1e950794",
   "metadata": {},
   "source": [
    "Two or more methods have the same name but different number of parameters within the same class."
   ]
  },
  {
   "cell_type": "code",
   "execution_count": null,
   "id": "94ab200e",
   "metadata": {},
   "outputs": [],
   "source": [
    "#python does not support method overloading"
   ]
  },
  {
   "cell_type": "code",
   "execution_count": null,
   "id": "803a9245",
   "metadata": {},
   "outputs": [],
   "source": [
    "class Person:\n",
    "    def __init__(self,name,age,exp):\n",
    "        self.name= name\n",
    "        self.age= age\n",
    "        self.exp= exp\n",
    "    def display(self):\n",
    "        print(f\"{self.name} has work experience of {self.exp} years\")\n",
    "        \n",
    "    def display (self, new_exp):\n",
    "        self.exp= new_exp\n",
    "        print(f\"{self.name} has work experience of {self.exp} years\")\n",
    "        \n",
    "p1= Person(\"Roy\",18,5)\n",
    "p1.display(4)\n",
    "p1.display()"
   ]
  },
  {
   "cell_type": "code",
   "execution_count": null,
   "id": "93bd21f6",
   "metadata": {},
   "outputs": [],
   "source": [
    "class Person:\n",
    "    def __init__ (self,name,age,exp):      #self is an object\n",
    "        self.name= name\n",
    "        self.age= age\n",
    "        self.exp= exp\n",
    "        \n",
    "    def display(self,new_exp=None):\n",
    "        if new_exp!= None:\n",
    "            self.exp= new_exp\n",
    "            print(f\"{self.name} has work experience of {self.exp} years\")\n",
    "        else:\n",
    "            print(f\"{self.name} has work experience of {self.exp} years\")\n",
    "                \n",
    "p1= Person(\"Roy\",18,5)\n",
    "p1.display()\n",
    "p1.display(10)\n",
    "\n",
    "        \n",
    "        "
   ]
  },
  {
   "cell_type": "code",
   "execution_count": null,
   "id": "b4f3b7ea",
   "metadata": {},
   "outputs": [],
   "source": [
    "class Person:\n",
    "    def __init__ (self,name,age,exp):                                   #error is coming because\n",
    "        self.name= name                                                 #p1= object of person\n",
    "                                                                        #self is an obj as a parameter in init method \n",
    "        self.age= age                                                   \n",
    "        self.exp= exp                                             #self =local outside the init method self does not exist\n",
    "                                                                  \n",
    "    def display(self,new_exp=None):\n",
    "        if new_exp!= None:\n",
    "            self.exp= new_exp\n",
    "            print(f\"{self.name} has work experience of {self.exp} years\")\n",
    "        else:\n",
    "            print(f\"{self.name} has work experience of {self.exp} years\")\n",
    "                \n",
    "p1= Person(\"Roy\",18,5)\n",
    "self.display()\n",
    "p1.display(10)\n",
    "        \n",
    "        "
   ]
  },
  {
   "cell_type": "markdown",
   "id": "a665cd0a",
   "metadata": {},
   "source": [
    "# Operator Overloading"
   ]
  },
  {
   "cell_type": "markdown",
   "id": "fc893092",
   "metadata": {},
   "source": [
    "Operator Overloading is a feature in Python that allows developers to redefine the behaviour of mathematical and comparison operators for custom data types(class). This means that you can use the standard mathematical operators (+,-, *,/,etc) and comparison opearators (<,>,==, etc) in your own classes."
   ]
  },
  {
   "cell_type": "markdown",
   "id": "0b2a1ba0",
   "metadata": {},
   "source": [
    "Addition            +               __add__ (self,other)\n",
    "Subraction          -               __diff__(self,other)\n",
    "Multiplication      *               __mul__ (self,other)\n",
    "Division            /               __truediv__ (self,other)\n",
    "Floor Division      //              __floordiv__ (self,other)\n",
    "Less Than           <               __lt__ (self,other)\n",
    "Greater Than        >               __gt__ (self,other)\n",
    "Equal to            ==              __eq__ (self,other)\n",
    "Not Equal to        !=              __ne__ (self,other)"
   ]
  },
  {
   "cell_type": "code",
   "execution_count": null,
   "id": "261e2f35",
   "metadata": {},
   "outputs": [],
   "source": [
    "class Exp:\n",
    "    def __init__(self,a,b):\n",
    "        self.a = a\n",
    "        self.b = b\n",
    "        \n",
    "    def __truediv__ (self,other):\n",
    "        "
   ]
  },
  {
   "cell_type": "code",
   "execution_count": null,
   "id": "d4a4ea60",
   "metadata": {},
   "outputs": [],
   "source": [
    "class Poly:\n",
    "    def __init__ (self,a,b):\n",
    "        self.a= a\n",
    "        self.b= b\n",
    "    def __add__ (self,other):               #self,other= obj of class POly\n",
    "        sum_a= self.a + other.a                      # \n",
    "        sum_b= self.b + other.b\n",
    "        return [sum_a, sum_b]\n",
    "     def __sub__ (self,other):               #self,other= obj of class POly\n",
    "        diff_a= self.a - other.a\n",
    "        diff_b= self.b - other.b\n",
    "        return [diff_a, diff_b]\n",
    "    \n",
    "p= Poly(1,2)\n",
    "p1= Poly (3,4)\n",
    "print(p+p1)\n",
    "print(p-p1)\n",
    "   \n",
    "    "
   ]
  },
  {
   "cell_type": "code",
   "execution_count": null,
   "id": "69070105",
   "metadata": {},
   "outputs": [],
   "source": [
    "12+34"
   ]
  },
  {
   "cell_type": "code",
   "execution_count": null,
   "id": "2bd8c9de",
   "metadata": {},
   "outputs": [],
   "source": [
    "\"hello\"+\"world\""
   ]
  },
  {
   "cell_type": "code",
   "execution_count": null,
   "id": "7a92561e",
   "metadata": {},
   "outputs": [],
   "source": [
    "[1,2,3] + [4,5]"
   ]
  },
  {
   "cell_type": "code",
   "execution_count": null,
   "id": "f6d8906c",
   "metadata": {},
   "outputs": [],
   "source": [
    "p1+p2"
   ]
  },
  {
   "cell_type": "code",
   "execution_count": null,
   "id": "eef11802",
   "metadata": {},
   "outputs": [],
   "source": [
    "type(23)"
   ]
  },
  {
   "cell_type": "code",
   "execution_count": null,
   "id": "29d300ff",
   "metadata": {},
   "outputs": [],
   "source": [
    "12/23"
   ]
  },
  {
   "cell_type": "code",
   "execution_count": null,
   "id": "1d1fdff4",
   "metadata": {},
   "outputs": [],
   "source": [
    "int.__truediv__(12,23)           #method of integer class=truediv\n",
    "\n"
   ]
  },
  {
   "cell_type": "code",
   "execution_count": null,
   "id": "144779b8",
   "metadata": {},
   "outputs": [],
   "source": [
    "class Person:\n",
    "    def __init__ (self,name,age,exp):      #self is an object\n",
    "        self.name= name\n",
    "        self.age= age\n",
    "        self.exp= exp\n",
    "        \n",
    "    def display(self,new_exp=None):\n",
    "        if new_exp!= None:\n",
    "            self.exp= new_exp\n",
    "            print(f\"{self.name} has work experience of {self.exp} years\")\n",
    "        else:\n",
    "            print(f\"{self.name} has work experience of {self.exp} years\")\n",
    "                \n",
    "p1= Person(\"Roy\",18,5)\n",
    "Person.display(p1,10)  #classname.method(self, , , ,)\n",
    "\n",
    "        \n",
    "        "
   ]
  },
  {
   "cell_type": "code",
   "execution_count": null,
   "id": "03a33a03",
   "metadata": {},
   "outputs": [],
   "source": [
    "class Poly:\n",
    "    def __init__ (self,a,b):\n",
    "        self.a= a\n",
    "        self.b= b\n",
    "    def __add__ (self,other):\n",
    "        sum_a = self.a + other.a\n",
    "        sum_b = self.b + other.b\n",
    "        return [sum_a,sum_b]\n",
    "    def __sub__ (self,other):\n",
    "        diff_a = self.a - other.a\n",
    "        dif_b = self.b - other.b\n",
    "        return [diff_a,diff_b]\n",
    "    \n",
    "    \n",
    "p= Poly(1,2)\n",
    "p1= Poly (3,4)\n",
    "print(p+p1)\n",
    "print(p-p1)\n",
    "\n",
    "   \n",
    "    "
   ]
  },
  {
   "cell_type": "code",
   "execution_count": null,
   "id": "388ad561",
   "metadata": {},
   "outputs": [],
   "source": []
  },
  {
   "cell_type": "code",
   "execution_count": 3,
   "id": "ec47df52",
   "metadata": {},
   "outputs": [
    {
     "ename": "TypeError",
     "evalue": "Poly() takes no arguments",
     "output_type": "error",
     "traceback": [
      "\u001b[1;31m---------------------------------------------------------------------------\u001b[0m",
      "\u001b[1;31mTypeError\u001b[0m                                 Traceback (most recent call last)",
      "Cell \u001b[1;32mIn[3], line 10\u001b[0m\n\u001b[0;32m      8\u001b[0m         product_y \u001b[38;5;241m=\u001b[39m \u001b[38;5;28mself\u001b[39m\u001b[38;5;241m.\u001b[39my \u001b[38;5;241m*\u001b[39m other\u001b[38;5;241m.\u001b[39my\n\u001b[0;32m      9\u001b[0m         \u001b[38;5;28;01mreturn\u001b[39;00m[product_x,product_y]\n\u001b[1;32m---> 10\u001b[0m p\u001b[38;5;241m=\u001b[39m \u001b[43mPoly\u001b[49m\u001b[43m(\u001b[49m\u001b[38;5;241;43m4\u001b[39;49m\u001b[43m,\u001b[49m\u001b[38;5;241;43m8\u001b[39;49m\u001b[43m)\u001b[49m\n\u001b[0;32m     11\u001b[0m p1\u001b[38;5;241m=\u001b[39m Poly(\u001b[38;5;241m7\u001b[39m,\u001b[38;5;241m2\u001b[39m)\n\u001b[0;32m     13\u001b[0m \u001b[38;5;28mprint\u001b[39m(p\u001b[38;5;241m*\u001b[39mp1)\n",
      "\u001b[1;31mTypeError\u001b[0m: Poly() takes no arguments"
     ]
    }
   ],
   "source": [
    "class Poly:\n",
    "    def __init(self,x,y):\n",
    "        self.x= x\n",
    "        self.y= y\n",
    "        \n",
    "    def __mul__(self,other):\n",
    "        product_x = self.x * other.x\n",
    "        product_y = self.y * other.y\n",
    "        return[product_x,product_y]\n",
    "    def __\n",
    "p= Poly(4,8)\n",
    "p1= Poly(7,2)\n",
    "\n",
    "print(p*p1)"
   ]
  },
  {
   "cell_type": "markdown",
   "id": "0efdeb38",
   "metadata": {},
   "source": [
    "# Magic / Dunder / Special Methods"
   ]
  },
  {
   "cell_type": "markdown",
   "id": "fa206f2f",
   "metadata": {},
   "source": [
    "These are special methods that you can define in your classes, and when ivoked, they give you a powerful way to manipulate objects and their behaviours."
   ]
  },
  {
   "cell_type": "markdown",
   "id": "e0614134",
   "metadata": {},
   "source": [
    "These methods begin and end with double underscores."
   ]
  },
  {
   "cell_type": "markdown",
   "id": "a6bad648",
   "metadata": {},
   "source": [
    "Most common magic methods used --\n",
    "\n",
    "1. __init__() ---- return NOne\n",
    "2. __str__()  ----- return string\n",
    "3. __repr__()  ----- return string\n",
    "4. __len__()   ----- return integer/bool\n",
    "5. __call__()  ----- return any type"
   ]
  },
  {
   "cell_type": "code",
   "execution_count": 1,
   "id": "ed03af4e",
   "metadata": {},
   "outputs": [
    {
     "ename": "TypeError",
     "evalue": "object of type 'Employee' has no len()",
     "output_type": "error",
     "traceback": [
      "\u001b[1;31m---------------------------------------------------------------------------\u001b[0m",
      "\u001b[1;31mTypeError\u001b[0m                                 Traceback (most recent call last)",
      "Cell \u001b[1;32mIn[1], line 11\u001b[0m\n\u001b[0;32m      8\u001b[0m         \u001b[38;5;28mself\u001b[39m\u001b[38;5;241m.\u001b[39mage \u001b[38;5;241m=\u001b[39m \u001b[38;5;241m18\u001b[39m\n\u001b[0;32m     10\u001b[0m x\u001b[38;5;241m=\u001b[39m Employee(\u001b[38;5;241m123\u001b[39m) \u001b[38;5;66;03m#magic of __init__ (init use karne ke zarurat ni padhi)\u001b[39;00m\n\u001b[1;32m---> 11\u001b[0m \u001b[38;5;28;43mlen\u001b[39;49m\u001b[43m(\u001b[49m\u001b[43mx\u001b[49m\u001b[43m)\u001b[49m\n",
      "\u001b[1;31mTypeError\u001b[0m: object of type 'Employee' has no len()"
     ]
    }
   ],
   "source": [
    "#__len__\n",
    "class Employee:\n",
    "    def __init__ (self,name):\n",
    "        self.name = name\n",
    "    \n",
    "    def show_name(self):\n",
    "        print(self.name)\n",
    "        self.age = 18\n",
    "        \n",
    "x= Employee(123) #magic of __init__ (init use karne ke zarurat ni padhi)\n",
    "len(x)           #x.show_name()"
   ]
  },
  {
   "cell_type": "code",
   "execution_count": 2,
   "id": "031074eb",
   "metadata": {},
   "outputs": [
    {
     "ename": "TypeError",
     "evalue": "object of type 'int' has no len()",
     "output_type": "error",
     "traceback": [
      "\u001b[1;31m---------------------------------------------------------------------------\u001b[0m",
      "\u001b[1;31mTypeError\u001b[0m                                 Traceback (most recent call last)",
      "Cell \u001b[1;32mIn[2], line 1\u001b[0m\n\u001b[1;32m----> 1\u001b[0m \u001b[38;5;28;43mlen\u001b[39;49m\u001b[43m(\u001b[49m\u001b[38;5;241;43m35\u001b[39;49m\u001b[43m)\u001b[49m\n",
      "\u001b[1;31mTypeError\u001b[0m: object of type 'int' has no len()"
     ]
    }
   ],
   "source": [
    "len(35)           #type= class\n",
    "                  #class int has no len method"
   ]
  },
  {
   "cell_type": "code",
   "execution_count": 3,
   "id": "dc79d214",
   "metadata": {},
   "outputs": [
    {
     "data": {
      "text/plain": [
       "2"
      ]
     },
     "execution_count": 3,
     "metadata": {},
     "output_type": "execute_result"
    }
   ],
   "source": [
    "len(\"34\")"
   ]
  },
  {
   "cell_type": "code",
   "execution_count": 4,
   "id": "2d0693cf",
   "metadata": {},
   "outputs": [
    {
     "data": {
      "text/plain": [
       "str"
      ]
     },
     "execution_count": 4,
     "metadata": {},
     "output_type": "execute_result"
    }
   ],
   "source": [
    "type(\"34\")"
   ]
  },
  {
   "cell_type": "code",
   "execution_count": 5,
   "id": "50935c3a",
   "metadata": {},
   "outputs": [
    {
     "data": {
      "text/plain": [
       "2"
      ]
     },
     "execution_count": 5,
     "metadata": {},
     "output_type": "execute_result"
    }
   ],
   "source": [
    "str.__len__(\"34\")"
   ]
  },
  {
   "cell_type": "code",
   "execution_count": 6,
   "id": "e3ba288e",
   "metadata": {},
   "outputs": [
    {
     "ename": "TypeError",
     "evalue": "object of type 'bool' has no len()",
     "output_type": "error",
     "traceback": [
      "\u001b[1;31m---------------------------------------------------------------------------\u001b[0m",
      "\u001b[1;31mTypeError\u001b[0m                                 Traceback (most recent call last)",
      "Cell \u001b[1;32mIn[6], line 1\u001b[0m\n\u001b[1;32m----> 1\u001b[0m \u001b[38;5;28;43mlen\u001b[39;49m\u001b[43m(\u001b[49m\u001b[38;5;28;43;01mTrue\u001b[39;49;00m\u001b[43m)\u001b[49m\n",
      "\u001b[1;31mTypeError\u001b[0m: object of type 'bool' has no len()"
     ]
    }
   ],
   "source": [
    "len(True)"
   ]
  },
  {
   "cell_type": "code",
   "execution_count": 7,
   "id": "ba75cccc",
   "metadata": {},
   "outputs": [
    {
     "ename": "TypeError",
     "evalue": "object of type 'float' has no len()",
     "output_type": "error",
     "traceback": [
      "\u001b[1;31m---------------------------------------------------------------------------\u001b[0m",
      "\u001b[1;31mTypeError\u001b[0m                                 Traceback (most recent call last)",
      "Cell \u001b[1;32mIn[7], line 1\u001b[0m\n\u001b[1;32m----> 1\u001b[0m \u001b[38;5;28;43mlen\u001b[39;49m\u001b[43m(\u001b[49m\u001b[38;5;241;43m3.57\u001b[39;49m\u001b[43m)\u001b[49m\n",
      "\u001b[1;31mTypeError\u001b[0m: object of type 'float' has no len()"
     ]
    }
   ],
   "source": [
    "len(3.57)"
   ]
  },
  {
   "cell_type": "code",
   "execution_count": 8,
   "id": "3b242a6c",
   "metadata": {},
   "outputs": [
    {
     "data": {
      "text/plain": [
       "7"
      ]
     },
     "execution_count": 8,
     "metadata": {},
     "output_type": "execute_result"
    }
   ],
   "source": [
    "class Employee:\n",
    "    def __init__ (self,name):\n",
    "        self.name= name\n",
    "        \n",
    "    def __len__(self): #7\n",
    "        \n",
    "        return len(self.name) #pranjal\n",
    "x= Employee(\"Pranjal\")\n",
    "len(x)  #This is the magic"
   ]
  },
  {
   "cell_type": "code",
   "execution_count": null,
   "id": "8f566cc9",
   "metadata": {},
   "outputs": [],
   "source": []
  },
  {
   "cell_type": "code",
   "execution_count": 1,
   "id": "31bf2a96",
   "metadata": {},
   "outputs": [
    {
     "name": "stdout",
     "output_type": "stream",
     "text": [
      "This is an object\n"
     ]
    },
    {
     "data": {
      "text/plain": [
       "<__main__.Employee at 0x1e713306dd0>"
      ]
     },
     "execution_count": 1,
     "metadata": {},
     "output_type": "execute_result"
    }
   ],
   "source": [
    "#__str__ -  returns the informal string representation of an object\n",
    "\n",
    "class Employee:\n",
    "    def __init__ (self,name):\n",
    "        self.name = name\n",
    "        \n",
    "    def __len__ (self):\n",
    "        return len(self.name)\n",
    "    def __str__ (self):\n",
    "        return \"This is an object\"\n",
    "x= Employee(\"Pranjal\")\n",
    "print(x)       #informal string representation\n",
    "x               #formal      \"      \"\n"
   ]
  },
  {
   "cell_type": "code",
   "execution_count": 4,
   "id": "75e1791b",
   "metadata": {},
   "outputs": [
    {
     "ename": "TypeError",
     "evalue": "__str__ returned non-string (type bool)",
     "output_type": "error",
     "traceback": [
      "\u001b[1;31m---------------------------------------------------------------------------\u001b[0m",
      "\u001b[1;31mTypeError\u001b[0m                                 Traceback (most recent call last)",
      "Cell \u001b[1;32mIn[4], line 12\u001b[0m\n\u001b[0;32m     10\u001b[0m         \u001b[38;5;28;01mreturn\u001b[39;00m \u001b[38;5;28;01mTrue\u001b[39;00m\n\u001b[0;32m     11\u001b[0m x\u001b[38;5;241m=\u001b[39m Employee(\u001b[38;5;124m\"\u001b[39m\u001b[38;5;124mPranjal\u001b[39m\u001b[38;5;124m\"\u001b[39m)\n\u001b[1;32m---> 12\u001b[0m \u001b[38;5;28;43mprint\u001b[39;49m\u001b[43m(\u001b[49m\u001b[43mx\u001b[49m\u001b[43m)\u001b[49m       \u001b[38;5;66;03m#informal string representation\u001b[39;00m\n\u001b[0;32m     13\u001b[0m x\n",
      "\u001b[1;31mTypeError\u001b[0m: __str__ returned non-string (type bool)"
     ]
    }
   ],
   "source": [
    "#__str__ -  returns the informal string representation of an object\n",
    "\n",
    "class Employee:\n",
    "    def __init__ (self,name):\n",
    "        self.name = name\n",
    "        \n",
    "    def __len__ (self):                       #str will only return a string\n",
    "        return len(self.name)\n",
    "    def __str__ (self):\n",
    "        return True           #123\n",
    "x= Employee(\"Pranjal\")\n",
    "print(x)       #informal string representation\n",
    "x               #formal      \"      \"\n"
   ]
  },
  {
   "cell_type": "code",
   "execution_count": 5,
   "id": "b9d140c6",
   "metadata": {},
   "outputs": [
    {
     "ename": "TypeError",
     "evalue": "__str__ returned non-string (type NoneType)",
     "output_type": "error",
     "traceback": [
      "\u001b[1;31m---------------------------------------------------------------------------\u001b[0m",
      "\u001b[1;31mTypeError\u001b[0m                                 Traceback (most recent call last)",
      "Cell \u001b[1;32mIn[5], line 12\u001b[0m\n\u001b[0;32m     10\u001b[0m         \u001b[38;5;28;01mpass\u001b[39;00m           \u001b[38;5;66;03m#123\u001b[39;00m\n\u001b[0;32m     11\u001b[0m x\u001b[38;5;241m=\u001b[39m Employee(\u001b[38;5;124m\"\u001b[39m\u001b[38;5;124mPranjal\u001b[39m\u001b[38;5;124m\"\u001b[39m)\n\u001b[1;32m---> 12\u001b[0m \u001b[38;5;28;43mprint\u001b[39;49m\u001b[43m(\u001b[49m\u001b[43mx\u001b[49m\u001b[43m)\u001b[49m       \u001b[38;5;66;03m#informal string representation\u001b[39;00m\n\u001b[0;32m     13\u001b[0m x\n",
      "\u001b[1;31mTypeError\u001b[0m: __str__ returned non-string (type NoneType)"
     ]
    }
   ],
   "source": [
    "#__str__ -  returns the informal string representation of an object\n",
    "\n",
    "class Employee:\n",
    "    def __init__ (self,name):\n",
    "        self.name = name\n",
    "        \n",
    "    def __len__ (self):                       #str will only return a string\n",
    "        return len(self.name)\n",
    "    def __str__ (self):\n",
    "        pass           #123\n",
    "x= Employee(\"Pranjal\")\n",
    "print(x)       #informal string representation\n",
    "x               #formal      \"      \"\n"
   ]
  },
  {
   "cell_type": "code",
   "execution_count": null,
   "id": "7eb50ad1",
   "metadata": {},
   "outputs": [],
   "source": [
    "\n",
    "#describing your object= string representation\n",
    "\n",
    "#print(x) = informal representation\n",
    "#x      = formal  \"\""
   ]
  },
  {
   "cell_type": "code",
   "execution_count": 6,
   "id": "705378e2",
   "metadata": {},
   "outputs": [
    {
     "ename": "SyntaxError",
     "evalue": "unterminated string literal (detected at line 8) (582886131.py, line 8)",
     "output_type": "error",
     "traceback": [
      "\u001b[1;36m  Cell \u001b[1;32mIn[6], line 8\u001b[1;36m\u001b[0m\n\u001b[1;33m    return  \"len(self.name)\"\"\u001b[0m\n\u001b[1;37m                            ^\u001b[0m\n\u001b[1;31mSyntaxError\u001b[0m\u001b[1;31m:\u001b[0m unterminated string literal (detected at line 8)\n"
     ]
    }
   ],
   "source": [
    "#__str__ -  returns the informal string representation of an object\n",
    "\n",
    "class Employee:\n",
    "    def __init__ (self,name):\n",
    "        self.name = name\n",
    "        \n",
    "    def __len__ (self):                       #str will only return a string\n",
    "        return  \"len(self.name)\"\"\n",
    "    def __str__ (self):\n",
    "        return \"this is an object\"      #123\n",
    "x= Employee(\"Pranjal\")\n",
    "print(x)       #informal string representation\n",
    "x               #formal      \"      \"\n"
   ]
  },
  {
   "cell_type": "code",
   "execution_count": null,
   "id": "a9d529a6",
   "metadata": {},
   "outputs": [],
   "source": [
    "# what does __init__ return?\n",
    "#ans None"
   ]
  },
  {
   "cell_type": "code",
   "execution_count": null,
   "id": "026a2ed7",
   "metadata": {},
   "outputs": [],
   "source": []
  },
  {
   "cell_type": "code",
   "execution_count": 13,
   "id": "345a0686",
   "metadata": {},
   "outputs": [
    {
     "name": "stdout",
     "output_type": "stream",
     "text": [
      "We have an employee Pranjal\n"
     ]
    },
    {
     "data": {
      "text/plain": [
       "We have an employee Pranjal"
      ]
     },
     "execution_count": 13,
     "metadata": {},
     "output_type": "execute_result"
    }
   ],
   "source": [
    "# __repr -   returns the \"official\" or formal string representation of an object\n",
    "\n",
    "class Employee:\n",
    "    def __init__(self,name):\n",
    "        self.name= name\n",
    "        #return \"hello world\"\n",
    "        \n",
    "    def __len__(self):\n",
    "        return len(self.name)\n",
    "    def __repr__ (self):\n",
    "        return f\"We have an employee {self.name}\"\n",
    "x= Employee(\"Pranjal\")\n",
    "\n",
    "print(x)\n",
    "x\n",
    "#len(x)\n",
    "    "
   ]
  },
  {
   "cell_type": "code",
   "execution_count": 9,
   "id": "cf953deb",
   "metadata": {},
   "outputs": [
    {
     "name": "stdout",
     "output_type": "stream",
     "text": [
      "We have an employee Pranjal\n"
     ]
    }
   ],
   "source": [
    "# __repr -   returns the \"official\" or formal string representation of an object\n",
    "\n",
    "class Employee:\n",
    "    def __init__(self,name):\n",
    "        self.name= name\n",
    "        #return \"hello world\"\n",
    "        \n",
    "    def __len__(self):\n",
    "        return len(self.name)\n",
    "    def __repr__ (self):\n",
    "        return f\"We have an employee {self.name}\"\n",
    "x= Employee(\"Pranjal\")\n",
    "x\n",
    "\n",
    "print(x)\n",
    "\n",
    "    "
   ]
  },
  {
   "cell_type": "code",
   "execution_count": 11,
   "id": "57fa2e4b",
   "metadata": {},
   "outputs": [
    {
     "name": "stdout",
     "output_type": "stream",
     "text": [
      "hi\n"
     ]
    }
   ],
   "source": [
    "\"helo world\"\n",
    "print(\"hi\")"
   ]
  },
  {
   "cell_type": "code",
   "execution_count": null,
   "id": "2fd43548",
   "metadata": {},
   "outputs": [],
   "source": [
    "#func and methods are callable in python"
   ]
  },
  {
   "cell_type": "code",
   "execution_count": 20,
   "id": "9dacb8b1",
   "metadata": {},
   "outputs": [
    {
     "name": "stdout",
     "output_type": "stream",
     "text": [
      "hey I am good\n"
     ]
    },
    {
     "data": {
      "text/plain": [
       "True"
      ]
     },
     "execution_count": 20,
     "metadata": {},
     "output_type": "execute_result"
    }
   ],
   "source": [
    "# __call__ - The call method is used to make an object callable\n",
    "\n",
    "class Employee:\n",
    "    def __init__(self,name):\n",
    "        self.name = name\n",
    "        \n",
    "    def __len__ (self):\n",
    "        return len(self.name)\n",
    "    def __str__ (self):\n",
    "        return f\" {self.name} is an employee of the company\"\n",
    "    def __repr__ (self):\n",
    "        return f\" We have an employee{self.name}\"\n",
    "    def __call__(self):\n",
    "        print(\"hey I am good\")\n",
    "        return True    #123,\"abc\"\n",
    "x= Employee(\"Pranajl\")\n",
    "x()\n",
    "#x.main"
   ]
  },
  {
   "cell_type": "code",
   "execution_count": null,
   "id": "1854e9b2",
   "metadata": {},
   "outputs": [],
   "source": [
    "class Emp:\n",
    "    pass \n",
    "e1"
   ]
  },
  {
   "cell_type": "markdown",
   "id": "be9a2fc9",
   "metadata": {},
   "source": [
    "# Abstraction"
   ]
  },
  {
   "cell_type": "markdown",
   "id": "3f22a935",
   "metadata": {},
   "source": [
    "Abstraction is used to hide the internal implementation details of methods from the users."
   ]
  },
  {
   "cell_type": "markdown",
   "id": "42bb64dd",
   "metadata": {},
   "source": [
    "The user is familiar with \"what method does\" but they don't know \"how it does\""
   ]
  },
  {
   "cell_type": "markdown",
   "id": "0dcbf37f",
   "metadata": {},
   "source": [
    "Abstraction is implemented by creating \"Abstract Base Classes\" which contain \"Abstract Methods\""
   ]
  },
  {
   "cell_type": "markdown",
   "id": "75311b13",
   "metadata": {},
   "source": [
    "The abstract method do not have any implementation. All the implementations are performed within the subclasses."
   ]
  },
  {
   "cell_type": "markdown",
   "id": "48fe4162",
   "metadata": {},
   "source": [
    "All the subclasses of the abstract base class are required to implement the abstract methods."
   ]
  },
  {
   "cell_type": "markdown",
   "id": "68438d1b",
   "metadata": {},
   "source": [
    "You cannont create an object of the abstract base class."
   ]
  },
  {
   "cell_type": "code",
   "execution_count": null,
   "id": "577a78b6",
   "metadata": {},
   "outputs": [],
   "source": []
  },
  {
   "cell_type": "code",
   "execution_count": 1,
   "id": "f561b601",
   "metadata": {},
   "outputs": [],
   "source": [
    "from abc import ABC, abstractmethod\n",
    "\n",
    "class Shape(ABC):\n",
    "    @abstractmethod\n",
    "    def area (self):     #Implementation details are hidden\n",
    "        pass\n",
    "    @abstractmethod\n",
    "    def perimeter(self):   #Implementation details are hidden\n",
    "        pass"
   ]
  },
  {
   "cell_type": "code",
   "execution_count": 20,
   "id": "8066bd3d",
   "metadata": {},
   "outputs": [
    {
     "data": {
      "text/plain": [
       "12"
      ]
     },
     "execution_count": 20,
     "metadata": {},
     "output_type": "execute_result"
    }
   ],
   "source": [
    "class Rectangle(Shape):\n",
    "    def area (self,length,breadth):\n",
    "        return length*breadth\n",
    "    def perimeter(self,length,breadth):\n",
    "        return 2*(length+breadth)\n",
    "    \n",
    "rect= Rectangle()\n",
    "rect.perimeter(4,6)\n",
    "rect.area(2,6)\n"
   ]
  },
  {
   "cell_type": "code",
   "execution_count": 17,
   "id": "50c87c86",
   "metadata": {},
   "outputs": [],
   "source": [
    "from abc import ABC, abstractmethod\n",
    "\n",
    "class Shape(ABC):\n",
    "    @abstractmethod\n",
    "    def area (self):     #Implementation details are hidden\n",
    "        pass\n",
    "    @abstractmethod\n",
    "    def perimeter(self):   #Implementation details are hidden\n",
    "        pass\n",
    "    def display (self):\n",
    "        return \"this is not an abstract method\""
   ]
  },
  {
   "cell_type": "code",
   "execution_count": 18,
   "id": "04c5d7a1",
   "metadata": {},
   "outputs": [
    {
     "ename": "TypeError",
     "evalue": "Can't instantiate abstract class Shape with abstract methods area, perimeter",
     "output_type": "error",
     "traceback": [
      "\u001b[1;31m---------------------------------------------------------------------------\u001b[0m",
      "\u001b[1;31mTypeError\u001b[0m                                 Traceback (most recent call last)",
      "Cell \u001b[1;32mIn[18], line 1\u001b[0m\n\u001b[1;32m----> 1\u001b[0m shp\u001b[38;5;241m=\u001b[39m \u001b[43mShape\u001b[49m\u001b[43m(\u001b[49m\u001b[43m)\u001b[49m\n",
      "\u001b[1;31mTypeError\u001b[0m: Can't instantiate abstract class Shape with abstract methods area, perimeter"
     ]
    }
   ],
   "source": [
    "shp= Shape()  #you cannnot create an object of the abstract class"
   ]
  },
  {
   "cell_type": "code",
   "execution_count": 19,
   "id": "5745833b",
   "metadata": {},
   "outputs": [
    {
     "data": {
      "text/plain": [
       "'this is not an abstract method'"
      ]
     },
     "execution_count": 19,
     "metadata": {},
     "output_type": "execute_result"
    }
   ],
   "source": [
    "class Rectangle(Shape):\n",
    "    def area (self,length,breadth):\n",
    "        return length*breadth\n",
    "    def perimeter(self,length,breadth):\n",
    "        return 2*(length+breadth)\n",
    "    \n",
    "rect= Rectangle()\n",
    "rect.perimeter(4,6)\n",
    "rect.area(2,6)\n",
    "rect.display()"
   ]
  },
  {
   "cell_type": "code",
   "execution_count": 13,
   "id": "7bf53f14",
   "metadata": {},
   "outputs": [
    {
     "ename": "TypeError",
     "evalue": "Can't instantiate abstract class Rectangle with abstract method perimeter",
     "output_type": "error",
     "traceback": [
      "\u001b[1;31m---------------------------------------------------------------------------\u001b[0m",
      "\u001b[1;31mTypeError\u001b[0m                                 Traceback (most recent call last)",
      "Cell \u001b[1;32mIn[13], line 7\u001b[0m\n\u001b[0;32m      3\u001b[0m         \u001b[38;5;28;01mreturn\u001b[39;00m length\u001b[38;5;241m*\u001b[39mbreadth\n\u001b[0;32m      4\u001b[0m    \u001b[38;5;66;03m# def perimeter(self,length,breadth):\u001b[39;00m\n\u001b[0;32m      5\u001b[0m       \u001b[38;5;66;03m#  return 2*(length+breadth)\u001b[39;00m\n\u001b[1;32m----> 7\u001b[0m rect\u001b[38;5;241m=\u001b[39m \u001b[43mRectangle\u001b[49m\u001b[43m(\u001b[49m\u001b[43m)\u001b[49m\n\u001b[0;32m      8\u001b[0m \u001b[38;5;66;03m#rect.perimeter(4,6)\u001b[39;00m\n\u001b[0;32m      9\u001b[0m rect\u001b[38;5;241m.\u001b[39marea(\u001b[38;5;241m2\u001b[39m,\u001b[38;5;241m6\u001b[39m)\n",
      "\u001b[1;31mTypeError\u001b[0m: Can't instantiate abstract class Rectangle with abstract method perimeter"
     ]
    }
   ],
   "source": [
    "class Rectangle(Shape):\n",
    "    def area (self,length,breadth):\n",
    "        return length*breadth\n",
    "   # def perimeter(self,length,breadth):\n",
    "      #  return 2*(length+breadth)                            #2nd last point od abstraction\n",
    "                                                              #shape me both area and perimeter is given\n",
    "                                                              \n",
    "    \n",
    "rect= Rectangle()\n",
    "#rect.perimeter(4,6)\n",
    "rect.area(2,6)"
   ]
  },
  {
   "cell_type": "code",
   "execution_count": 12,
   "id": "529dc011",
   "metadata": {},
   "outputs": [
    {
     "data": {
      "text/plain": [
       "153.86"
      ]
     },
     "execution_count": 12,
     "metadata": {},
     "output_type": "execute_result"
    }
   ],
   "source": [
    "class Circle(Shape):\n",
    "    def area(self,radius):\n",
    "        return 3.14*radius**2\n",
    "    def perimeter(self,radius):\n",
    "        return 2*3.14*radius\n",
    "cir= Circle()\n",
    "cir.perimeter(8)\n",
    "cir.area(7)"
   ]
  },
  {
   "cell_type": "code",
   "execution_count": 9,
   "id": "50bf87e7",
   "metadata": {},
   "outputs": [
    {
     "data": {
      "text/plain": [
       "50.24"
      ]
     },
     "execution_count": 9,
     "metadata": {},
     "output_type": "execute_result"
    }
   ],
   "source": [
    "cir.perimeter(8)"
   ]
  },
  {
   "cell_type": "code",
   "execution_count": null,
   "id": "23cebc8e",
   "metadata": {},
   "outputs": [],
   "source": []
  },
  {
   "cell_type": "code",
   "execution_count": null,
   "id": "46b8c96b",
   "metadata": {},
   "outputs": [],
   "source": []
  },
  {
   "cell_type": "code",
   "execution_count": null,
   "id": "b14fe12b",
   "metadata": {},
   "outputs": [],
   "source": []
  },
  {
   "cell_type": "code",
   "execution_count": null,
   "id": "5e8fcbfa",
   "metadata": {},
   "outputs": [],
   "source": []
  }
 ],
 "metadata": {
  "kernelspec": {
   "display_name": "Python 3 (ipykernel)",
   "language": "python",
   "name": "python3"
  },
  "language_info": {
   "codemirror_mode": {
    "name": "ipython",
    "version": 3
   },
   "file_extension": ".py",
   "mimetype": "text/x-python",
   "name": "python",
   "nbconvert_exporter": "python",
   "pygments_lexer": "ipython3",
   "version": "3.10.9"
  }
 },
 "nbformat": 4,
 "nbformat_minor": 5
}
