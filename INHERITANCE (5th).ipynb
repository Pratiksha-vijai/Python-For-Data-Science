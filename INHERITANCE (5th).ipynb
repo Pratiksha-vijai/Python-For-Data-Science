{
 "cells": [
  {
   "cell_type": "markdown",
   "id": "2d67cd6f",
   "metadata": {},
   "source": [
    "Process of inheriting the properties of the parent class into a child class is called inheritance."
   ]
  },
  {
   "cell_type": "markdown",
   "id": "2276dd42",
   "metadata": {},
   "source": [
    "The child class acquires all the attributes and methods from the parent class.Also, a child class can provide its specific implementations to the attributes and methods of the parent class"
   ]
  },
  {
   "cell_type": "code",
   "execution_count": null,
   "id": "2cbfa1c8",
   "metadata": {},
   "outputs": [],
   "source": [
    "#parent class ,super class, base class\n",
    "#child class, sub class, derived class"
   ]
  },
  {
   "cell_type": "code",
   "execution_count": null,
   "id": "1bb2bff3",
   "metadata": {},
   "outputs": [],
   "source": [
    "class ParentClass:\n",
    "    pass\n",
    "class ChildClass(ParentClass):\n",
    "    pass"
   ]
  },
  {
   "cell_type": "code",
   "execution_count": null,
   "id": "bda7f61b",
   "metadata": {},
   "outputs": [],
   "source": [
    "class Employee:\n",
    "    def __init__(self,name,age,gender,salary,id):\n",
    "        self.name= name\n",
    "        self.age= age\n",
    "        slef.gender= gender\n",
    "        self.salary= salary\n",
    "        self.id= id\n",
    "class Programmer(Employee):\n",
    "    def \n",
    "    "
   ]
  },
  {
   "cell_type": "markdown",
   "id": "32ea99de",
   "metadata": {},
   "source": [
    "# Types of inheritance"
   ]
  },
  {
   "cell_type": "markdown",
   "id": "fa281be6",
   "metadata": {},
   "source": [
    "1. Single inheritance\n",
    "2. Multiple inheritance\n",
    "3. Multilevel inheritance\n",
    "4. Hierarchial inheritance\n",
    "5. Hybrid inheritance"
   ]
  },
  {
   "cell_type": "markdown",
   "id": "a7b6be33",
   "metadata": {},
   "source": [
    "# 1.Single Inheritance"
   ]
  },
  {
   "cell_type": "code",
   "execution_count": null,
   "id": "9ea56628",
   "metadata": {},
   "outputs": [],
   "source": [
    "#parent class\n",
    "class Vehicle:\n",
    "    def Vehicle_info(self):\n",
    "        print('Inside vehicle class')\n",
    "#child class\n",
    "class Car (Vehicle):\n",
    "    def car_info(self):\n",
    "        print('Inside Car class')\n",
    "        \n",
    "car= Car()\n",
    "car.Vehicle_info()\n",
    "car.car_info()"
   ]
  },
  {
   "cell_type": "code",
   "execution_count": null,
   "id": "1516e9ef",
   "metadata": {},
   "outputs": [],
   "source": [
    "#can a parent class object access the child class attributes and methods = NO \n",
    "car will inherit vehicle\n"
   ]
  },
  {
   "cell_type": "code",
   "execution_count": null,
   "id": "b97f6720",
   "metadata": {},
   "outputs": [],
   "source": [
    "veh= Vehicle()\n",
    "veh.car_info()"
   ]
  },
  {
   "cell_type": "code",
   "execution_count": null,
   "id": "342313ec",
   "metadata": {},
   "outputs": [],
   "source": [
    "Vehicle= Vehicle()\n",
    "Vehicle.Vehicle_info()\n",
    "Vehicle.car_info()\n",
    "        \n"
   ]
  },
  {
   "cell_type": "code",
   "execution_count": null,
   "id": "ef1af8ca",
   "metadata": {},
   "outputs": [],
   "source": [
    "#car is inheriting vehicle but vehicle is not inheriting car"
   ]
  },
  {
   "cell_type": "code",
   "execution_count": null,
   "id": "023e9a08",
   "metadata": {},
   "outputs": [],
   "source": [
    "#parent class\n",
    "class Vehicle(Car):\n",
    "    def Vehicle_info(self):\n",
    "        print('Inside vehicle class')\n",
    "#child class\n",
    "class Car (Vehicle):\n",
    "    def car_info(self):\n",
    "        print('Inside Car class')\n",
    "        \n",
    "car= Car()\n",
    "car.Vehicle_info()\n",
    "car.car_info()"
   ]
  },
  {
   "cell_type": "code",
   "execution_count": null,
   "id": "8508d399",
   "metadata": {},
   "outputs": [],
   "source": [
    "Vehicle= Vehicle()\n",
    "Vehicle.Vehicle_info()\n",
    "Vehicle.car_info()\n",
    "        \n"
   ]
  },
  {
   "cell_type": "code",
   "execution_count": null,
   "id": "34f52259",
   "metadata": {},
   "outputs": [],
   "source": [
    "del Car"
   ]
  },
  {
   "cell_type": "code",
   "execution_count": null,
   "id": "e0fcbe27",
   "metadata": {},
   "outputs": [],
   "source": [
    "#parent class\n",
    "\n",
    "class Vehicle:\n",
    "    def __init__(self):\n",
    "        self.brand=\"Mercedes Benz\"\n",
    "        print(self.brand)\n",
    "        \n",
    "    def Vehicle_info(self):\n",
    "        print('Inside Vehicle class')\n",
    "#Child class\n",
    "\n",
    "class Car(Vehicle):\n",
    "    def car_info(self):\n",
    "        print('Inside car class')\n",
    "        \n",
    "car= Car()\n"
   ]
  },
  {
   "cell_type": "code",
   "execution_count": null,
   "id": "184f7640",
   "metadata": {},
   "outputs": [],
   "source": [
    "#parent class\n",
    "\n",
    "class Vehicle:\n",
    "    def __init__(self):\n",
    "        self.brand=\"Mercedes Benz\"\n",
    "        print(self.brand)\n",
    "        \n",
    "    def Vehicle_info(self):\n",
    "        print('Inside Vehicle class')\n",
    "#Child class\n",
    "\n",
    "class Car(Vehicle):\n",
    "    def car_info(self):\n",
    "        print('Inside car class')\n",
    "        \n",
    "car= Car()\n",
    "car.brand"
   ]
  },
  {
   "cell_type": "code",
   "execution_count": null,
   "id": "7d99d249",
   "metadata": {},
   "outputs": [],
   "source": [
    "class Car:\n",
    "    def __init__(self):\n",
    "        self.brand= \"BMW\"\n",
    "        print(self.brand)\n",
    "    def car_info(self)\n",
    "    print('inside a class')"
   ]
  },
  {
   "cell_type": "code",
   "execution_count": null,
   "id": "b066c384",
   "metadata": {},
   "outputs": [],
   "source": []
  },
  {
   "cell_type": "code",
   "execution_count": null,
   "id": "56285f0f",
   "metadata": {},
   "outputs": [],
   "source": []
  },
  {
   "cell_type": "markdown",
   "id": "269b9434",
   "metadata": {},
   "source": [
    "# Multilevel inheritanace"
   ]
  },
  {
   "cell_type": "code",
   "execution_count": null,
   "id": "49dd42e2",
   "metadata": {},
   "outputs": [],
   "source": [
    "#parent class\n",
    "class Vehicle:\n",
    "    def Vehicle_info(self):\n",
    "        print('Inside vehicle class')\n",
    "#child class\n",
    "class Car (Vehicle):\n",
    "    def car_info(self):\n",
    "        print('Inside Car class')\n",
    "        \n",
    "class Car (Vehicle):\n",
    "    def car_model(self):\n",
    "        print(\"Jagauar\")\n",
    "car= Car()\n",
    "car.Vehicle_info()\n",
    "car.car_info()\n",
    "car.car_model()"
   ]
  },
  {
   "cell_type": "code",
   "execution_count": null,
   "id": "e8159139",
   "metadata": {},
   "outputs": [],
   "source": [
    "#  Make constructors both in parent and child classes\n",
    "#  Create an object of the child class \n",
    "#  Do both the constructors run?"
   ]
  },
  {
   "cell_type": "code",
   "execution_count": null,
   "id": "86668afc",
   "metadata": {},
   "outputs": [],
   "source": [
    "#parent class\n",
    "\n",
    "class Vehicle:\n",
    "    def __init__(self):\n",
    "        self.brand=\"Mercedes Benz\"\n",
    "        print(self.brand)\n",
    "        \n",
    "    def Vehicle_info(self):\n",
    "        print('Inside Vehicle class')\n",
    "#Child class\n",
    "\n",
    "class Car(Vehicle):\n",
    "    def car_info(self):\n",
    "        print('Inside car class')\n",
    "class bike(Car):\n",
    "    def bike_info(self):\n",
    "        print(\"inside bike class\")\n",
    "        \n",
    "c1=bike()\n",
    "c1.vehicle_info"
   ]
  },
  {
   "cell_type": "code",
   "execution_count": null,
   "id": "49d5ba7b",
   "metadata": {},
   "outputs": [],
   "source": [
    "#EXAMPLE OF MULTILEVEL INHERITANCE\n",
    "#Base class\n",
    "class Vehicle:\n",
    "    def Vehicle_info(self):\n",
    "        print('Inside Vehicle Class')\n",
    "        \n",
    "#child class\n",
    "class Car(Vehicle):\n",
    "    def car_info(self):\n",
    "        print('Inside Car Class')\n",
    "        \n",
    "#child class\n",
    "class SportsCar(Car):\n",
    "    def sports_car_info(self):\n",
    "        print('Inside SportsCar Class')\n",
    "        \n",
    "#Create object of Sportscar\n",
    "\n",
    "s_car = SportsCar()\n",
    "\n",
    "#access Vehicle's and Car's info using SportsCar object\n",
    "\n",
    "s_car.Vehicle_info()\n",
    "s_car.car_info()\n",
    "s_car.sports_car_info()"
   ]
  },
  {
   "cell_type": "code",
   "execution_count": null,
   "id": "c2acb013",
   "metadata": {},
   "outputs": [],
   "source": [
    "#EXAMPLE OF HIERARCHIAL INHERITANCE\n",
    "\n",
    "#parent class\n",
    "class Vehicle:\n",
    "    def Vehicle_info(self):\n",
    "        print('Inside Vehicle Class')\n",
    "        \n",
    "#child class\n",
    "class Car(Vehicle):\n",
    "    def car_info(self):\n",
    "        print('Inside Car Class')\n",
    "        \n",
    "#child class\n",
    "class SportsCar(Vehicle):\n",
    "    def sports_car_info(self):\n",
    "        print('Inside SportsCar Class')\n",
    "        \n",
    "#Create object of Sportscar\n",
    "\n",
    "s_car = SportsCar()\n",
    "\n",
    "#access Vehicle's and Car's info using SportsCar object\n",
    "\n",
    "s_car.Vehicle_info()\n",
    "\n",
    "s_car.sports_car_info()"
   ]
  },
  {
   "cell_type": "code",
   "execution_count": null,
   "id": "745b41af",
   "metadata": {},
   "outputs": [],
   "source": [
    "#example of hybrid inheritance\n"
   ]
  },
  {
   "cell_type": "markdown",
   "id": "3ad726b6",
   "metadata": {},
   "source": [
    "# super()"
   ]
  },
  {
   "cell_type": "markdown",
   "id": "0209de69",
   "metadata": {},
   "source": [
    "The super() function is used to refer to the parent class."
   ]
  },
  {
   "cell_type": "code",
   "execution_count": null,
   "id": "e7bbfdae",
   "metadata": {},
   "outputs": [],
   "source": [
    "class Tech_Dept:\n",
    "    def descrip(self):\n",
    "        print(\"This is tech dept\")\n",
    "        \n",
    "class Programmer(Tech_Dept):\n",
    "    def descrip(self):\n",
    "        print(\"This is tech dept\")\n",
    "        print(\"This is a Programmer\")\n",
    "tech1= Programmer()\n",
    "tech1.descrip()"
   ]
  },
  {
   "cell_type": "code",
   "execution_count": null,
   "id": "1f9f6213",
   "metadata": {},
   "outputs": [],
   "source": [
    "class Tech_Dept:\n",
    "    def descrip(self):\n",
    "        print(\"This is tech dept\")\n",
    "class Programmer(Tech_Dept):\n",
    "    def descrip(self):\n",
    "        super().descrip()             #try to write here self.descrip()\n",
    "        print('This is a Programmer')\n",
    "tech1 = Programmer()\n",
    "tech1.descrip()"
   ]
  },
  {
   "cell_type": "code",
   "execution_count": null,
   "id": "17d02011",
   "metadata": {},
   "outputs": [],
   "source": [
    "class Tech_Dept:\n",
    "    def descrip(self):\n",
    "        print(\"This is tech dept\")\n",
    "class Programmer(Tech_Dept):\n",
    "    def descrip(self):\n",
    "        self.descrip()             #try to write here self.descrip() the same method is being called infinite thats why its \n",
    "                                   #showing kernel dead (reccursion)\n",
    "        print('This is a Programmer')\n",
    "tech1 = Programmer()\n",
    "tech1.descrip()"
   ]
  },
  {
   "cell_type": "code",
   "execution_count": null,
   "id": "88f82496",
   "metadata": {},
   "outputs": [],
   "source": []
  },
  {
   "cell_type": "markdown",
   "id": "2bc5b887",
   "metadata": {},
   "source": [
    "# Method Overriding"
   ]
  },
  {
   "cell_type": "markdown",
   "id": "46204b78",
   "metadata": {},
   "source": [
    "Method overiding is a powerful feature that allows you to redefine a method of the parent class in the child class."
   ]
  },
  {
   "cell_type": "markdown",
   "id": "b1c46039",
   "metadata": {},
   "source": [
    "When a child class method has the same name, same parameter and same return types as a method in its parent class, then the method in the child is said to override the method in the parent class."
   ]
  },
  {
   "cell_type": "code",
   "execution_count": null,
   "id": "014951d0",
   "metadata": {},
   "outputs": [],
   "source": [
    "class Animal:\n",
    "    def show_name(self):                     #same name,parameter and\n",
    "        print(\"This is Animal Class\")       #both are returning the same i.e. None\n",
    "class Dog (Animal):\n",
    "    def show_name(self):\n",
    "        print(\"This is Dog Class\")\n",
    "    "
   ]
  },
  {
   "cell_type": "code",
   "execution_count": null,
   "id": "f77a7a3a",
   "metadata": {},
   "outputs": [],
   "source": [
    "dog1= Dog()\n",
    "dog1.show_name()\n"
   ]
  },
  {
   "cell_type": "markdown",
   "id": "8b4eed3e",
   "metadata": {},
   "source": [
    "# Method Resolution Order\n"
   ]
  },
  {
   "cell_type": "markdown",
   "id": "6bba50b9",
   "metadata": {},
   "source": [
    "It is the order in which methods are searched for an object."
   ]
  },
  {
   "cell_type": "code",
   "execution_count": null,
   "id": "f3480304",
   "metadata": {},
   "outputs": [],
   "source": [
    "class A:\n",
    "    def process(self):\n",
    "        print(\"In class A\")\n",
    "        \n",
    "class B:\n",
    "    def process(self):\n",
    "        print(\"In class B\")\n",
    "        \n",
    "class C(B,A):\n",
    "    pass\n",
    "\n",
    "#creating object of C class\n",
    "C1= C()\n",
    "C1.process()"
   ]
  },
  {
   "cell_type": "code",
   "execution_count": null,
   "id": "89d5245c",
   "metadata": {},
   "outputs": [],
   "source": [
    "C.__mro__"
   ]
  },
  {
   "cell_type": "code",
   "execution_count": null,
   "id": "57c8ba93",
   "metadata": {},
   "outputs": [],
   "source": [
    "A.__mro__  #all classes inherit the object\n"
   ]
  },
  {
   "cell_type": "code",
   "execution_count": null,
   "id": "68f4457b",
   "metadata": {},
   "outputs": [],
   "source": [
    "B.__mro__"
   ]
  },
  {
   "cell_type": "code",
   "execution_count": null,
   "id": "1b863bbf",
   "metadata": {},
   "outputs": [],
   "source": [
    "#all the classes are objects a,b,c classes will also be said as an object"
   ]
  },
  {
   "cell_type": "code",
   "execution_count": null,
   "id": "56e615fd",
   "metadata": {},
   "outputs": [],
   "source": [
    "type(B)"
   ]
  },
  {
   "cell_type": "code",
   "execution_count": null,
   "id": "0905e57e",
   "metadata": {},
   "outputs": [],
   "source": [
    "print(type(B))"
   ]
  },
  {
   "cell_type": "markdown",
   "id": "61731ab2",
   "metadata": {},
   "source": [
    "class A:\n",
    "    def process(self):\n",
    "        print(\"In class A\")\n",
    "        \n",
    "class B:\n",
    "    def process(self):\n",
    "        print(\"In class B\")\n",
    "        \n",
    "class C(A,B):\n",
    "    pass\n",
    "\n",
    "#creating object of C class\n",
    "C1= C()\n",
    "C1.process()"
   ]
  },
  {
   "cell_type": "markdown",
   "id": "6962aec2",
   "metadata": {},
   "source": [
    "Encapsulation involves bundling of data(attributes) and functions(methods) within a single unit. "
   ]
  },
  {
   "cell_type": "markdown",
   "id": "e6636f99",
   "metadata": {},
   "source": [
    "Encapsulation is a way to restrict access to methods and attributes from outside of class. \n",
    "Whenever we are working with the class and dealing with sensitive data, providing acccess to all variables used within the class is not a good choice."
   ]
  },
  {
   "cell_type": "markdown",
   "id": "5a0e0be8",
   "metadata": {},
   "source": [
    "# Access Modifiers in Python"
   ]
  },
  {
   "cell_type": "markdown",
   "id": "f1250911",
   "metadata": {},
   "source": [
    "1. Access Modifiers limit acccess to the attributes and methods of a class.\n",
    "2. Python provides three types of access modifiers public,private and protected."
   ]
  },
  {
   "cell_type": "markdown",
   "id": "459f92c2",
   "metadata": {},
   "source": [
    "# Public Member"
   ]
  },
  {
   "cell_type": "markdown",
   "id": "624d289d",
   "metadata": {},
   "source": [
    "1. Accessible within and outside of a class.\n",
    "2. All variables and methods are public by default."
   ]
  },
  {
   "cell_type": "code",
   "execution_count": null,
   "id": "1c1406e9",
   "metadata": {},
   "outputs": [],
   "source": [
    "class Aspirant:\n",
    "    \n",
    "    def __init__(self,name,age):\n",
    "        #public attributes\n",
    "        self.name= name\n",
    "        self.age= age\n",
    "        \n",
    "    def show(self):\n",
    "        print(self.name,self.age)           #public\n",
    "        \n",
    "a1= Aspirant(\"xyz\", 25)\n",
    "print(a1.age)\n",
    "a1.show()"
   ]
  },
  {
   "cell_type": "markdown",
   "id": "11f629d5",
   "metadata": {},
   "source": [
    "# Private Member"
   ]
  },
  {
   "cell_type": "markdown",
   "id": "8cb1ddb4",
   "metadata": {},
   "source": [
    "1. Accessible only within the class.\n",
    "2. Can't access them directly from the class objects.\n",
    "3. We can create private members using double underscores."
   ]
  },
  {
   "cell_type": "code",
   "execution_count": null,
   "id": "9f662558",
   "metadata": {},
   "outputs": [],
   "source": [
    "class Aspirant:\n",
    "    def __init__ (self,name,age,profession):\n",
    "        \n",
    "        self.name= name\n",
    "        self.age= age\n",
    "        self.__profession= profession         #private variable\n",
    "        \n",
    "a1= Aspirant(\"xyz\",25,\"CA\")              #error because it can access directly from the class object\n",
    "print(a1.__profession)"
   ]
  },
  {
   "cell_type": "code",
   "execution_count": 3,
   "id": "6802b25f",
   "metadata": {},
   "outputs": [
    {
     "ename": "AttributeError",
     "evalue": "'Aspirant' object has no attribute '__show'",
     "output_type": "error",
     "traceback": [
      "\u001b[1;31m---------------------------------------------------------------------------\u001b[0m",
      "\u001b[1;31mAttributeError\u001b[0m                            Traceback (most recent call last)",
      "Cell \u001b[1;32mIn[3], line 12\u001b[0m\n\u001b[0;32m      9\u001b[0m         \u001b[38;5;28mprint\u001b[39m(\u001b[38;5;124mf\u001b[39m\u001b[38;5;124m\"\u001b[39m\u001b[38;5;132;01m{\u001b[39;00m\u001b[38;5;28mself\u001b[39m\u001b[38;5;241m.\u001b[39mname\u001b[38;5;132;01m}\u001b[39;00m\u001b[38;5;124m with age \u001b[39m\u001b[38;5;132;01m{\u001b[39;00m\u001b[38;5;28mself\u001b[39m\u001b[38;5;241m.\u001b[39mage\u001b[38;5;132;01m}\u001b[39;00m\u001b[38;5;124m is a \u001b[39m\u001b[38;5;132;01m{\u001b[39;00m\u001b[38;5;28mself\u001b[39m\u001b[38;5;241m.\u001b[39m__profession\u001b[38;5;132;01m}\u001b[39;00m\u001b[38;5;124m\"\u001b[39m)\n\u001b[0;32m     11\u001b[0m a1\u001b[38;5;241m=\u001b[39m Aspirant(\u001b[38;5;124m\"\u001b[39m\u001b[38;5;124mxyz\u001b[39m\u001b[38;5;124m\"\u001b[39m,\u001b[38;5;241m25\u001b[39m,\u001b[38;5;124m\"\u001b[39m\u001b[38;5;124mCA\u001b[39m\u001b[38;5;124m\"\u001b[39m)              \n\u001b[1;32m---> 12\u001b[0m \u001b[38;5;28mprint\u001b[39m(\u001b[43ma1\u001b[49m\u001b[38;5;241;43m.\u001b[39;49m\u001b[43m__show\u001b[49m())\n",
      "\u001b[1;31mAttributeError\u001b[0m: 'Aspirant' object has no attribute '__show'"
     ]
    }
   ],
   "source": [
    "class Aspirant:\n",
    "    def __init__ (self,name,age,profession):\n",
    "        \n",
    "        self.name= name\n",
    "        self.age= age\n",
    "        self.__profession= profession   #private variable\n",
    "        \n",
    "    def __show(self):\n",
    "        print(f\"{self.name} with age {self.age} is a {self.__profession}\")\n",
    "        \n",
    "a1= Aspirant(\"xyz\",25,\"CA\")              \n",
    "print(a1.__show())"
   ]
  },
  {
   "cell_type": "code",
   "execution_count": 6,
   "id": "522d2fc0",
   "metadata": {},
   "outputs": [
    {
     "name": "stdout",
     "output_type": "stream",
     "text": [
      "xyz with age 25 is a CA\n",
      "xyz with age 25 is a CA\n"
     ]
    }
   ],
   "source": [
    "class Aspirant:\n",
    "    def __init__ (self,name,age,profession):\n",
    "        \n",
    "        self.name= name\n",
    "        self.age= age\n",
    "        self.__profession= profession      #private variable\n",
    "        self.__show()\n",
    "        \n",
    "    def __show(self):\n",
    "        print(f\"{self.name} with age {self.age} is a {self.__profession}\")\n",
    "        \n",
    "    def access_show(self):\n",
    "        self.__show()\n",
    "        \n",
    "        \n",
    "         \n",
    "a1= Aspirant(\"xyz\",25,\"CA\")  \n",
    "a1.access_show()\n",
    "\n",
    "\n",
    "\n"
   ]
  },
  {
   "cell_type": "code",
   "execution_count": null,
   "id": "bd7a8bac",
   "metadata": {},
   "outputs": [],
   "source": [
    "def show():\n",
    "    print(\"inside show()\")\n",
    "    \n",
    "def access"
   ]
  },
  {
   "cell_type": "markdown",
   "id": "e54000ba",
   "metadata": {},
   "source": [
    "# Accessing private attribute using a method"
   ]
  },
  {
   "cell_type": "code",
   "execution_count": null,
   "id": "4271b9de",
   "metadata": {},
   "outputs": [],
   "source": [
    "class Aspirant:\n",
    "    def __init__ (self,name,age,profession):\n",
    "        \n",
    "        self.name= name\n",
    "        self.age= age\n",
    "        self.__profession= profession   #public variable\n",
    "        \n",
    "    def show(self):\n",
    "        print(f\"{self.name} with age {self.age} is a {self.__profession}\")\n",
    "        \n",
    "a1= Aspirant(\"xyz\",25,\"CA\")               #return is not written thats why by default it will give none\n",
    "print(a1.show())"
   ]
  },
  {
   "cell_type": "code",
   "execution_count": null,
   "id": "328f19b0",
   "metadata": {},
   "outputs": [],
   "source": []
  }
 ],
 "metadata": {
  "kernelspec": {
   "display_name": "Python 3 (ipykernel)",
   "language": "python",
   "name": "python3"
  },
  "language_info": {
   "codemirror_mode": {
    "name": "ipython",
    "version": 3
   },
   "file_extension": ".py",
   "mimetype": "text/x-python",
   "name": "python",
   "nbconvert_exporter": "python",
   "pygments_lexer": "ipython3",
   "version": "3.10.9"
  }
 },
 "nbformat": 4,
 "nbformat_minor": 5
}
