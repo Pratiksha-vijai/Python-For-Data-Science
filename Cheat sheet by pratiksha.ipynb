{
 "cells": [
  {
   "cell_type": "markdown",
   "id": "014292f7",
   "metadata": {},
   "source": [
    "# WHAT IS PYTHON??WHAT IS PYTHON LANGUAGE??WHY WE USE THIS??\n"
   ]
  },
  {
   "cell_type": "markdown",
   "id": "7416aa1d",
   "metadata": {},
   "source": [
    "Python is a computer programming language developed by 'GUIDO VAN ROSSUM' often used to build websites and softwares, automate takes and conduct data analysis originally released in 1991.\n",
    "\n",
    "Python has a simple syntax similar to the English language,designed to be easy as well as fun.\n",
    "\n",
    "Python is easy to understand lauguage that feels like reading simple english.This persue code \n",
    "nature of python makes it easy to learn and understandable for beginners.\n",
    "\n",
    "Python is an HIGH LEVEL general purpose PROGRAMING LANGUAGE and is DYNAMICALLY TYPED , which works with OR in an IDE(Integrated Development Enviroment).\n",
    " \n",
    "WRITE LESS, DO MORE : Python has syntax that allows developers to write programs with fewer lines than some other programming languages.That means prototyping can be very quick. \n",
    "\n",
    "Python provides larger developer community, or open-source community for strong ,supportand helpful documentation.\n",
    "\n",
    "It offers a wide range of libraries that can be used across various applications.For example:Numpy, SciPY , Keras and Seaborn."
   ]
  },
  {
   "cell_type": "markdown",
   "id": "b9d7a11f",
   "metadata": {},
   "source": [
    "# WHAT IS PROGRAMMING???\n",
    "\n",
    "* Just like we use hindi and english to communicate with each other, we use a progrmming language \n",
    "  like python to communicate witth the computer.\n",
    "  Programming is a way to instruct the computer to perform various tasks. "
   ]
  },
  {
   "cell_type": "markdown",
   "id": "216deaad",
   "metadata": {},
   "source": [
    "# HOW TO WRITE YOUR FIRST PYTHON PROGRAM "
   ]
  },
  {
   "cell_type": "markdown",
   "id": "cb348255",
   "metadata": {},
   "source": [
    "* Use the print() funtion and write a message. print function gives an output of the input you give to   the python in its language.\n",
    "* In python,strings are enclosed inside single quotes,double quotes,or triple quotes.\n",
    "  * PROGRAM: print(\"HELLO,world\")\n",
    "  * OUTPUT: HELLO,world"
   ]
  },
  {
   "cell_type": "markdown",
   "id": "a7d384e9",
   "metadata": {},
   "source": [
    "# SYNTAX\n",
    "\n",
    "* Syntax is a structure of language or a set of rules that defines how a python program will be \n",
    "  written and interpreted."
   ]
  },
  {
   "cell_type": "markdown",
   "id": "e22a3e3f",
   "metadata": {},
   "source": [
    "# WHAT IS A STATEMENT IN PYTHON??\n",
    "\n",
    "* A statement is an instrution that a python interpreter can execute. So, in simple words,we \n",
    "  can say anything written in python is a statment.\n",
    "* In python, we can add MULTIPLE statements on a single line seprated by semicolons, as follows:\n",
    "  * TWO STATEMENTS IN A SINGLE LINE:\n",
    "    1 = 2 ; B = 6\n",
    "    print(\"area of rectangle:\" l*b)"
   ]
  },
  {
   "cell_type": "markdown",
   "id": "b1f33df7",
   "metadata": {},
   "source": [
    "# COMMENTS IN PYTHON\n",
    "\n",
    "* Comments are used to write something which the programmer does not want to excute.Comments can be used to mark the author's name, data , etc\n"
   ]
  },
  {
   "cell_type": "markdown",
   "id": "b9caf423",
   "metadata": {},
   "source": [
    "# OPERATORS IN PYTHON\n",
    "\n",
    "* There are some common operators in python :\n",
    "  * ARITHMETRIC OPERATIONS(+,-,*,/)\n",
    "  * ASSIGNMENT OPERATERS(=,+=,=+,==)\n",
    "  * FLOOR DIVISION(//)\n",
    "  * MODULE OPERATION(%)\n",
    "  * POWER(**)\n",
    "  * LOGICAL OPERATERS(help,import,and)"
   ]
  },
  {
   "cell_type": "markdown",
   "id": "cf0790a0",
   "metadata": {},
   "source": [
    "# DATA TYPES\n",
    "\n",
    "* There are two types of data: Primitive or Non-Primitive data type.\n",
    "* In which Primitive data has its own three types:(Numbers,String,None)\n",
    "  * NUMBER: 1. INTEGER\n",
    "            2. FLOAT\n",
    "            3. COMPLEX\n",
    "            4. BOOLEAN"
   ]
  },
  {
   "cell_type": "code",
   "execution_count": 1,
   "id": "042856d7",
   "metadata": {},
   "outputs": [
    {
     "data": {
      "text/plain": [
       "7"
      ]
     },
     "execution_count": 1,
     "metadata": {},
     "output_type": "execute_result"
    }
   ],
   "source": [
    "7 # THIS IS AN INTEGER"
   ]
  },
  {
   "cell_type": "code",
   "execution_count": 2,
   "id": "866754ee",
   "metadata": {},
   "outputs": [
    {
     "data": {
      "text/plain": [
       "7.8"
      ]
     },
     "execution_count": 2,
     "metadata": {},
     "output_type": "execute_result"
    }
   ],
   "source": [
    "7.8 # THIS IS AN FLOAT"
   ]
  },
  {
   "cell_type": "code",
   "execution_count": 3,
   "id": "5ed4fd39",
   "metadata": {},
   "outputs": [
    {
     "data": {
      "text/plain": [
       "78j"
      ]
     },
     "execution_count": 3,
     "metadata": {},
     "output_type": "execute_result"
    }
   ],
   "source": [
    "78j # THIS IS AN COMPLEX"
   ]
  },
  {
   "cell_type": "code",
   "execution_count": 1,
   "id": "d8206924",
   "metadata": {},
   "outputs": [
    {
     "data": {
      "text/plain": [
       "False"
      ]
     },
     "execution_count": 1,
     "metadata": {},
     "output_type": "execute_result"
    }
   ],
   "source": [
    "False # THIS IS AN BOOLEAN"
   ]
  },
  {
   "cell_type": "markdown",
   "id": "2048181f",
   "metadata": {},
   "source": [
    "# TYPE FUNCTION\n",
    "\n",
    "* Type function is used to find the data type of a given variable in python."
   ]
  },
  {
   "cell_type": "code",
   "execution_count": 5,
   "id": "d5fa4805",
   "metadata": {},
   "outputs": [
    {
     "data": {
      "text/plain": [
       "int"
      ]
     },
     "execution_count": 5,
     "metadata": {},
     "output_type": "execute_result"
    }
   ],
   "source": [
    "type(\"9\")"
   ]
  },
  {
   "cell_type": "code",
   "execution_count": 6,
   "id": "3f4386a4",
   "metadata": {},
   "outputs": [
    {
     "data": {
      "text/plain": [
       "float"
      ]
     },
     "execution_count": 6,
     "metadata": {},
     "output_type": "execute_result"
    }
   ],
   "source": [
    "type(9.9)"
   ]
  },
  {
   "cell_type": "code",
   "execution_count": 7,
   "id": "9facdebd",
   "metadata": {},
   "outputs": [
    {
     "data": {
      "text/plain": [
       "complex"
      ]
     },
     "execution_count": 7,
     "metadata": {},
     "output_type": "execute_result"
    }
   ],
   "source": [
    "type(99j)"
   ]
  },
  {
   "cell_type": "code",
   "execution_count": 8,
   "id": "2fc5c58e",
   "metadata": {},
   "outputs": [
    {
     "data": {
      "text/plain": [
       "bool"
      ]
     },
     "execution_count": 8,
     "metadata": {},
     "output_type": "execute_result"
    }
   ],
   "source": [
    "type(True)"
   ]
  },
  {
   "cell_type": "markdown",
   "id": "e0858b46",
   "metadata": {},
   "source": [
    "# HOW TO FIND AN CODE ADDRESS(ID)"
   ]
  },
  {
   "cell_type": "markdown",
   "id": "bcc95dab",
   "metadata": {},
   "source": [
    "* LETS UNDERSTAND IT BY AN EXAMPLE:"
   ]
  },
  {
   "cell_type": "code",
   "execution_count": 3,
   "id": "5717561f",
   "metadata": {},
   "outputs": [
    {
     "name": "stdout",
     "output_type": "stream",
     "text": [
      "1958250546288\n",
      "1958250546288\n",
      "1958250546288\n"
     ]
    },
    {
     "data": {
      "text/plain": [
       "'to find the id addresss of the code we use (id()) function to get an code address, therefore,\\nthis denotes that in which container, whrere or in which id the code is stored.'"
      ]
     },
     "execution_count": 3,
     "metadata": {},
     "output_type": "execute_result"
    }
   ],
   "source": [
    "a = 29               # we maked an variable by giving it an value\n",
    "b = 29               # the second variable \n",
    "c = b                # and the third one, which we can also write as (a =b = c),\n",
    "print(id(a))         # cause the values are same.\n",
    "print(id(b))\n",
    "print(id(c))\n",
    "\"\"\"to find the id addresss of the code we use (id()) function to get an code address, therefore,\n",
    "this denotes that in which container, whrere or in which id the code is stored.\"\"\""
   ]
  },
  {
   "cell_type": "markdown",
   "id": "c8a37465",
   "metadata": {},
   "source": [
    "# VARIABLES\n",
    "\n",
    "* A VARIABLES IS A CONTAINER THAT STORES DATA IN THE MEMORY OF YOUR CCOMPUTER.\n",
    "\n",
    "* SYNTAX - variable_name = data_to_be_stored.\n"
   ]
  },
  {
   "cell_type": "markdown",
   "id": "95f2d1c8",
   "metadata": {},
   "source": [
    "## RULES OF VARIABLE IN PYTHON\n",
    "\n",
    "* A variable name must start with an alphabet or an underscore.\n",
    "* A variable name cannot start with a number or any special character (#,@,%,^,&).\n",
    "* A variable name can only contain alphabets, numbers and underscores.\n",
    "* The use of special character is prohibited.\n",
    "* Variable names are case sensitive in python.\n",
    "* Python keywords cannot be used as variable names."
   ]
  },
  {
   "cell_type": "code",
   "execution_count": 9,
   "id": "44dadc19",
   "metadata": {},
   "outputs": [],
   "source": [
    "abc = 1"
   ]
  },
  {
   "cell_type": "code",
   "execution_count": 22,
   "id": "6a21fb9b",
   "metadata": {},
   "outputs": [
    {
     "ename": "SyntaxError",
     "evalue": "cannot assign to expression here. Maybe you meant '==' instead of '='? (565179728.py, line 1)",
     "output_type": "error",
     "traceback": [
      "\u001b[1;36m  Cell \u001b[1;32mIn[22], line 1\u001b[1;36m\u001b[0m\n\u001b[1;33m    python@gmail = 65 # not a variable because there is an special character.\u001b[0m\n\u001b[1;37m    ^\u001b[0m\n\u001b[1;31mSyntaxError\u001b[0m\u001b[1;31m:\u001b[0m cannot assign to expression here. Maybe you meant '==' instead of '='?\n"
     ]
    }
   ],
   "source": [
    "python@gmail = 65 # not a variable because there is an special character."
   ]
  },
  {
   "cell_type": "code",
   "execution_count": 10,
   "id": "0ce13442",
   "metadata": {},
   "outputs": [],
   "source": [
    "_5njh = 1"
   ]
  },
  {
   "cell_type": "code",
   "execution_count": 11,
   "id": "915d4114",
   "metadata": {},
   "outputs": [
    {
     "ename": "SyntaxError",
     "evalue": "invalid syntax (2619681554.py, line 1)",
     "output_type": "error",
     "traceback": [
      "\u001b[1;36m  Cell \u001b[1;32mIn[11], line 1\u001b[1;36m\u001b[0m\n\u001b[1;33m    xyz@ = 1\u001b[0m\n\u001b[1;37m         ^\u001b[0m\n\u001b[1;31mSyntaxError\u001b[0m\u001b[1;31m:\u001b[0m invalid syntax\n"
     ]
    }
   ],
   "source": [
    "xyz@ = 1"
   ]
  },
  {
   "cell_type": "code",
   "execution_count": 13,
   "id": "bf0c8bfb",
   "metadata": {},
   "outputs": [],
   "source": [
    "_vhkj = 7"
   ]
  },
  {
   "cell_type": "code",
   "execution_count": 14,
   "id": "61311235",
   "metadata": {},
   "outputs": [],
   "source": [
    "x = 77\n"
   ]
  },
  {
   "cell_type": "code",
   "execution_count": 15,
   "id": "adc0286d",
   "metadata": {},
   "outputs": [
    {
     "name": "stdout",
     "output_type": "stream",
     "text": [
      "77\n"
     ]
    }
   ],
   "source": [
    "print(x)"
   ]
  },
  {
   "cell_type": "markdown",
   "id": "2e098ab7",
   "metadata": {},
   "source": [
    "# EXPRESSIONS\n",
    "\n",
    "* EXPRESSIONS ARE THE PIECE OF CODES( MUST INCLUDES OPERATER AND OPERANDS)THAT EVALUTES THE VALUES.(+,-,*,=)"
   ]
  },
  {
   "cell_type": "code",
   "execution_count": 18,
   "id": "8a251bec",
   "metadata": {},
   "outputs": [
    {
     "data": {
      "text/plain": [
       "'mobilephone'"
      ]
     },
     "execution_count": 18,
     "metadata": {},
     "output_type": "execute_result"
    }
   ],
   "source": [
    "a = \"mobile\"\n",
    "b = \"phone\"\n",
    "a+b"
   ]
  },
  {
   "cell_type": "code",
   "execution_count": 20,
   "id": "96f50699",
   "metadata": {},
   "outputs": [
    {
     "name": "stdout",
     "output_type": "stream",
     "text": [
      "icucpu\n"
     ]
    }
   ],
   "source": [
    "print(\"icu\"+\"cpu\") # the merging of two str is called as cancatenation."
   ]
  },
  {
   "cell_type": "code",
   "execution_count": 21,
   "id": "869f68b0",
   "metadata": {},
   "outputs": [
    {
     "name": "stdout",
     "output_type": "stream",
     "text": [
      "abc\n"
     ]
    }
   ],
   "source": [
    "print('abc') # not an expression because there is no operater"
   ]
  },
  {
   "cell_type": "markdown",
   "id": "eb780be9",
   "metadata": {},
   "source": [
    "# TYPE CASTING\n",
    "\n",
    "* Type casting converts one data to another data type. (int(),float(),complex(),str(),list(),tuple(),dict(),set("
   ]
  },
  {
   "cell_type": "code",
   "execution_count": 23,
   "id": "78a0e3b0",
   "metadata": {},
   "outputs": [
    {
     "data": {
      "text/plain": [
       "10.0"
      ]
     },
     "execution_count": 23,
     "metadata": {},
     "output_type": "execute_result"
    }
   ],
   "source": [
    "a = 10\n",
    "float(a)"
   ]
  },
  {
   "cell_type": "code",
   "execution_count": 24,
   "id": "8bfa5390",
   "metadata": {},
   "outputs": [
    {
     "data": {
      "text/plain": [
       "56"
      ]
     },
     "execution_count": 24,
     "metadata": {},
     "output_type": "execute_result"
    }
   ],
   "source": [
    "x = 56.89\n",
    "int(x)"
   ]
  },
  {
   "cell_type": "code",
   "execution_count": 25,
   "id": "1eccb3cf",
   "metadata": {},
   "outputs": [
    {
     "data": {
      "text/plain": [
       "True"
      ]
     },
     "execution_count": 25,
     "metadata": {},
     "output_type": "execute_result"
    }
   ],
   "source": [
    "p = 8\n",
    "bool(p)"
   ]
  },
  {
   "cell_type": "code",
   "execution_count": 26,
   "id": "a6496c92",
   "metadata": {},
   "outputs": [
    {
     "data": {
      "text/plain": [
       "int"
      ]
     },
     "execution_count": 26,
     "metadata": {},
     "output_type": "execute_result"
    }
   ],
   "source": [
    "type(int(\"1\")) # type is used to find the data type of the given data. "
   ]
  },
  {
   "cell_type": "code",
   "execution_count": 27,
   "id": "83149a32",
   "metadata": {},
   "outputs": [
    {
     "name": "stdout",
     "output_type": "stream",
     "text": [
      "10.0\n"
     ]
    }
   ],
   "source": [
    "print(float(a))"
   ]
  },
  {
   "cell_type": "markdown",
   "id": "f5ddf285",
   "metadata": {},
   "source": [
    "# ESCAPE SEQUENCES\n",
    "\n",
    "- ( \\\\' = SINGLE SLASH )\n",
    "* ( \\n = NEW LINE )\n",
    "* ( \\\\\\ = BACKSLASH )\n",
    "* ( \\b = BACKSPACE )\n",
    "* ( \\t = TAB )\n",
    "* ( \\r = CARRIAGE RETURN )"
   ]
  },
  {
   "cell_type": "code",
   "execution_count": 28,
   "id": "6598a8fd",
   "metadata": {},
   "outputs": [
    {
     "name": "stdout",
     "output_type": "stream",
     "text": [
      "hi, everyone ! 'my name is bhumi'\n"
     ]
    }
   ],
   "source": [
    "print('hi, everyone ! \\'my name is bhumi\\'')"
   ]
  },
  {
   "cell_type": "code",
   "execution_count": 29,
   "id": "86336280",
   "metadata": {},
   "outputs": [
    {
     "name": "stdout",
     "output_type": "stream",
     "text": [
      "'notebook saved'\n"
     ]
    }
   ],
   "source": [
    "print('\\'notebook saved\\'')"
   ]
  },
  {
   "cell_type": "code",
   "execution_count": 30,
   "id": "8bbc47c9",
   "metadata": {},
   "outputs": [
    {
     "name": "stdout",
     "output_type": "stream",
     "text": [
      "'python'\n"
     ]
    }
   ],
   "source": [
    "print('\\'python\\'') # here by using single slash we can print python with an single quoets to get an highlighted output"
   ]
  },
  {
   "cell_type": "code",
   "execution_count": 31,
   "id": "d8a416d6",
   "metadata": {},
   "outputs": [
    {
     "name": "stdout",
     "output_type": "stream",
     "text": [
      "python\n"
     ]
    }
   ],
   "source": [
    "print('''python''') # by putting three single quotation marks it will became an doc strings. "
   ]
  },
  {
   "cell_type": "code",
   "execution_count": 32,
   "id": "9d1b7264",
   "metadata": {},
   "outputs": [
    {
     "name": "stdout",
     "output_type": "stream",
     "text": [
      "PYTHON\n",
      "      Data Science\n"
     ]
    }
   ],
   "source": [
    "print(\"\"\"PYTHON\n",
    "      Data Science\"\"\")"
   ]
  },
  {
   "cell_type": "code",
   "execution_count": 33,
   "id": "535afd3e",
   "metadata": {},
   "outputs": [
    {
     "name": "stdout",
     "output_type": "stream",
     "text": [
      "\n",
      "\n"
     ]
    }
   ],
   "source": [
    "print(\"\\n\") # by printing \\n we have the output with the space given by \\n ."
   ]
  },
  {
   "cell_type": "code",
   "execution_count": 34,
   "id": "08b2fd28",
   "metadata": {},
   "outputs": [
    {
     "name": "stdout",
     "output_type": "stream",
     "text": [
      "\\n\n"
     ]
    }
   ],
   "source": [
    "print(\"\\\\n\") # to print \\n we have to use backslash "
   ]
  },
  {
   "cell_type": "code",
   "execution_count": 35,
   "id": "7e490cd6",
   "metadata": {},
   "outputs": [
    {
     "name": "stdout",
     "output_type": "stream",
     "text": [
      "\n",
      "abc\n"
     ]
    }
   ],
   "source": [
    "print(\"\\nabc\")"
   ]
  },
  {
   "cell_type": "code",
   "execution_count": 36,
   "id": "a4d1b3b1",
   "metadata": {},
   "outputs": [
    {
     "name": "stdout",
     "output_type": "stream",
     "text": [
      "'\n",
      "'\n"
     ]
    }
   ],
   "source": [
    "print('\\'\\n\\'')"
   ]
  },
  {
   "cell_type": "code",
   "execution_count": 37,
   "id": "a8c537e0",
   "metadata": {},
   "outputs": [
    {
     "name": "stdout",
     "output_type": "stream",
     "text": [
      "\\b\n"
     ]
    }
   ],
   "source": [
    "print(\"\\\\b\")"
   ]
  },
  {
   "cell_type": "code",
   "execution_count": 38,
   "id": "4c2bc9e9",
   "metadata": {},
   "outputs": [
    {
     "name": "stdout",
     "output_type": "stream",
     "text": [
      "myself :\tbhumi\n"
     ]
    }
   ],
   "source": [
    "print(\"myself :\\tbhumi\") # using tab escape sequence"
   ]
  },
  {
   "cell_type": "code",
   "execution_count": 39,
   "id": "a6555e6a",
   "metadata": {},
   "outputs": [
    {
     "name": "stdout",
     "output_type": "stream",
     "text": [
      "\tcar \tbrands\t = \tsupraa\t\n"
     ]
    }
   ],
   "source": [
    "print('\\tcar \\tbrands\\t = \\tsupraa\\t')"
   ]
  },
  {
   "cell_type": "code",
   "execution_count": 40,
   "id": "f89b20ce",
   "metadata": {},
   "outputs": [
    {
     "name": "stdout",
     "output_type": "stream",
     "text": [
      "helloo\b\n"
     ]
    }
   ],
   "source": [
    "print(\"helloo\\b\")"
   ]
  },
  {
   "cell_type": "code",
   "execution_count": 2,
   "id": "204e3b83",
   "metadata": {},
   "outputs": [
    {
     "name": "stdout",
     "output_type": "stream",
     "text": [
      "namee\b\n"
     ]
    }
   ],
   "source": [
    "print(\"namee\\b\")"
   ]
  },
  {
   "cell_type": "code",
   "execution_count": 3,
   "id": "f666e86a",
   "metadata": {},
   "outputs": [
    {
     "name": "stdout",
     "output_type": "stream",
     "text": [
      "my name is moon\r",
      " my name is bh\n"
     ]
    }
   ],
   "source": [
    "print(\"my name is moon\\r my name is bh\")"
   ]
  },
  {
   "cell_type": "code",
   "execution_count": 4,
   "id": "6c4508e4",
   "metadata": {},
   "outputs": [
    {
     "name": "stdout",
     "output_type": "stream",
     "text": [
      "my name is rohit\r",
      "my name is mohit\n"
     ]
    }
   ],
   "source": [
    "print(\"my name is rohit\\rmy name is mohit\")"
   ]
  },
  {
   "cell_type": "code",
   "execution_count": 42,
   "id": "5e6d684f",
   "metadata": {},
   "outputs": [
    {
     "name": "stdout",
     "output_type": "stream",
     "text": [
      " my name is \\     \n",
      "bhumi\n"
     ]
    }
   ],
   "source": [
    "x = \"\"\" my name is \\     \n",
    "bhumi\"\"\"\n",
    "print(x)"
   ]
  },
  {
   "cell_type": "code",
   "execution_count": 43,
   "id": "419d3047",
   "metadata": {},
   "outputs": [
    {
     "name": "stdout",
     "output_type": "stream",
     "text": [
      "the topic is about 'type castings'\b,\t'escape sequences'\n"
     ]
    }
   ],
   "source": [
    "print(\"the topic is about \\'type castings\\'\\b,\\t\\'escape sequences\\'\")"
   ]
  },
  {
   "cell_type": "markdown",
   "id": "d6a1f6e2",
   "metadata": {},
   "source": [
    "# INPUT IN PYTHON\n",
    " \n",
    "*  In python using the input() function, we take input from the user and using the print() function ,we display the output on the screen . (Any data given in input is string.)"
   ]
  },
  {
   "cell_type": "code",
   "execution_count": 7,
   "id": "4d89f5ab",
   "metadata": {},
   "outputs": [
    {
     "name": "stdout",
     "output_type": "stream",
     "text": [
      "aura name : bhni\n"
     ]
    }
   ],
   "source": [
    "name = input(\"aura name : \")"
   ]
  },
  {
   "cell_type": "code",
   "execution_count": 45,
   "id": "b2e3c020",
   "metadata": {},
   "outputs": [
    {
     "name": "stdout",
     "output_type": "stream",
     "text": [
      " enter your name : BHUMI\n",
      "hello,BHUMI! nice to meet you\n"
     ]
    }
   ],
   "source": [
    "name = input(\" enter your name : \")\n",
    "print(\"hello,\" + name + \"! nice to meet you\")"
   ]
  },
  {
   "cell_type": "code",
   "execution_count": 1,
   "id": "110183b4",
   "metadata": {},
   "outputs": [
    {
     "name": "stdout",
     "output_type": "stream",
     "text": [
      " total no. of students : 56\n",
      " science students 56 in the class \n"
     ]
    }
   ],
   "source": [
    "name = input(\" total no. of students : \")\n",
    "print(\" science students \" + name + \" in the class \")"
   ]
  },
  {
   "cell_type": "code",
   "execution_count": 2,
   "id": "59eb0eef",
   "metadata": {},
   "outputs": [
    {
     "name": "stdout",
     "output_type": "stream",
     "text": [
      "student name :REYANSH \n",
      "student age :5\n",
      "student address :HALDWANI\n",
      "father's name :MR,RAJEEV SHARMA\n",
      "student stream :COMMERCE\n",
      "\n",
      "\n",
      "name REYANSH \n",
      "age 5\n",
      "address HALDWANI\n",
      "parents MR,RAJEEV SHARMA\n",
      "feild COMMERCE\n",
      "REYANSH  5 HALDWANI MR,RAJEEV SHARMA COMMERCE\n"
     ]
    }
   ],
   "source": [
    "name = input(\"student name :\")\n",
    "age = input(\"student age :\")\n",
    "address = input(\"student address :\")\n",
    "parents = input(\"father's name :\")\n",
    "feild = input(\"student stream :\")\n",
    "\n",
    "print(\"\\n\")\n",
    "print(\"name\",name)\n",
    "print(\"age\", age)\n",
    "print(\"address\" , address)\n",
    "print(\"parents\" , parents)\n",
    "print(\"feild\", feild)\n",
    "print(name,age,address,parents,feild)"
   ]
  },
  {
   "cell_type": "code",
   "execution_count": 3,
   "id": "ec1044de",
   "metadata": {},
   "outputs": [
    {
     "name": "stdout",
     "output_type": "stream",
     "text": [
      "even number :2\n",
      "odd number :1\n",
      "21\n"
     ]
    }
   ],
   "source": [
    "x  = input(\"even number :\") # the output which is givem here is an the part of concatination.\n",
    "y = input(\"odd number :\")\n",
    "z = x+y # HERE THE INPUT GIVEN BY THE USER IS AN STRING SO THE OPERATER WILL OPERATE AS AN CONCATINATION.\n",
    "print(z)"
   ]
  },
  {
   "cell_type": "code",
   "execution_count": 4,
   "id": "6542be7d",
   "metadata": {},
   "outputs": [
    {
     "name": "stdout",
     "output_type": "stream",
     "text": [
      "values given : 67\n",
      "<class 'float'> <class 'int'> <class 'complex'>\n"
     ]
    }
   ],
   "source": [
    "q = input(\"values given : \")\n",
    "print(type(float(q)),type(int(q)),type(complex(q)))"
   ]
  },
  {
   "cell_type": "code",
   "execution_count": 5,
   "id": "ac48e16b",
   "metadata": {},
   "outputs": [
    {
     "name": "stdout",
     "output_type": "stream",
     "text": [
      "no. of products sold77544\n",
      "type is : <class 'float'>\n"
     ]
    }
   ],
   "source": [
    "h = float(input(\"no. of products sold\"))\n",
    "print(\"type is :\" , type(h))"
   ]
  },
  {
   "cell_type": "code",
   "execution_count": 6,
   "id": "131007dd",
   "metadata": {},
   "outputs": [
    {
     "name": "stdout",
     "output_type": "stream",
     "text": [
      " name of flowers : tulip\n"
     ]
    },
    {
     "ename": "ValueError",
     "evalue": "complex() arg is a malformed string",
     "output_type": "error",
     "traceback": [
      "\u001b[1;31m---------------------------------------------------------------------------\u001b[0m",
      "\u001b[1;31mValueError\u001b[0m                                Traceback (most recent call last)",
      "Cell \u001b[1;32mIn[6], line 1\u001b[0m\n\u001b[1;32m----> 1\u001b[0m flowers \u001b[38;5;241m=\u001b[39m \u001b[38;5;28;43mcomplex\u001b[39;49m\u001b[43m(\u001b[49m\u001b[38;5;28;43minput\u001b[39;49m\u001b[43m(\u001b[49m\u001b[38;5;124;43m\"\u001b[39;49m\u001b[38;5;124;43m name of flowers : \u001b[39;49m\u001b[38;5;124;43m\"\u001b[39;49m\u001b[43m)\u001b[49m\u001b[43m)\u001b[49m\n\u001b[0;32m      2\u001b[0m \u001b[38;5;28mprint\u001b[39m(\u001b[38;5;124m\"\u001b[39m\u001b[38;5;130;01m\\n\u001b[39;00m\u001b[38;5;124m\"\u001b[39m)\n\u001b[0;32m      3\u001b[0m \u001b[38;5;28mprint\u001b[39m(\u001b[38;5;124m\"\u001b[39m\u001b[38;5;124mname of flower :\u001b[39m\u001b[38;5;124m\"\u001b[39m , name )\n",
      "\u001b[1;31mValueError\u001b[0m: complex() arg is a malformed string"
     ]
    }
   ],
   "source": [
    "flowers = complex(input(\" name of flowers : \"))\n",
    "print(\"\\n\")\n",
    "print(\"name of flower :\" , name )\n",
    "                  "
   ]
  },
  {
   "cell_type": "code",
   "execution_count": 8,
   "id": "7b8f50e4",
   "metadata": {},
   "outputs": [
    {
     "name": "stdout",
     "output_type": "stream",
     "text": [
      " name of flowers : 67\n",
      "\n",
      "\n"
     ]
    },
    {
     "ename": "NameError",
     "evalue": "name 'flower' is not defined",
     "output_type": "error",
     "traceback": [
      "\u001b[1;31m---------------------------------------------------------------------------\u001b[0m",
      "\u001b[1;31mNameError\u001b[0m                                 Traceback (most recent call last)",
      "Cell \u001b[1;32mIn[8], line 3\u001b[0m\n\u001b[0;32m      1\u001b[0m flowers \u001b[38;5;241m=\u001b[39m \u001b[38;5;28mcomplex\u001b[39m(\u001b[38;5;28minput\u001b[39m(\u001b[38;5;124m\"\u001b[39m\u001b[38;5;124m name of flowers : \u001b[39m\u001b[38;5;124m\"\u001b[39m))\n\u001b[0;32m      2\u001b[0m \u001b[38;5;28mprint\u001b[39m(\u001b[38;5;124m\"\u001b[39m\u001b[38;5;130;01m\\n\u001b[39;00m\u001b[38;5;124m\"\u001b[39m)\n\u001b[1;32m----> 3\u001b[0m \u001b[38;5;28mprint\u001b[39m(\u001b[38;5;124m\"\u001b[39m\u001b[38;5;124mname of flower :\u001b[39m\u001b[38;5;124m\"\u001b[39m , \u001b[43mflower\u001b[49m )\n",
      "\u001b[1;31mNameError\u001b[0m: name 'flower' is not defined"
     ]
    }
   ],
   "source": [
    "flowers = complex(input(\" name of flowers : \"))\n",
    "print(\"\\n\")\n",
    "print(\"name of flower :\" , flower )\n",
    "                  "
   ]
  },
  {
   "cell_type": "code",
   "execution_count": 11,
   "id": "66d17134",
   "metadata": {},
   "outputs": [
    {
     "ename": "SyntaxError",
     "evalue": "invalid syntax (476155978.py, line 3)",
     "output_type": "error",
     "traceback": [
      "\u001b[1;36m  Cell \u001b[1;32mIn[11], line 3\u001b[1;36m\u001b[0m\n\u001b[1;33m    class : a\u001b[0m\n\u001b[1;37m          ^\u001b[0m\n\u001b[1;31mSyntaxError\u001b[0m\u001b[1;31m:\u001b[0m invalid syntax\n"
     ]
    }
   ],
   "source": [
    "a = (float(input(\"user id:\")))\n",
    "print(\"\\n\"), print(\"user id:\", a )\n",
    "class : a"
   ]
  },
  {
   "cell_type": "markdown",
   "id": "3ec8504e",
   "metadata": {},
   "source": [
    "print escape sequence "
   ]
  }
 ],
 "metadata": {
  "kernelspec": {
   "display_name": "Python 3 (ipykernel)",
   "language": "python",
   "name": "python3"
  },
  "language_info": {
   "codemirror_mode": {
    "name": "ipython",
    "version": 3
   },
   "file_extension": ".py",
   "mimetype": "text/x-python",
   "name": "python",
   "nbconvert_exporter": "python",
   "pygments_lexer": "ipython3",
   "version": "3.10.9"
  }
 },
 "nbformat": 4,
 "nbformat_minor": 5
}
