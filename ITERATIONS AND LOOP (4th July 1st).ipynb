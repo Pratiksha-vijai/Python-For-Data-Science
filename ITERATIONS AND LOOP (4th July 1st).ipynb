{
 "cells": [
  {
   "cell_type": "code",
   "execution_count": 1,
   "id": "e913205e",
   "metadata": {},
   "outputs": [
    {
     "name": "stdout",
     "output_type": "stream",
     "text": [
      "Enter the first number\n"
     ]
    },
    {
     "ename": "ValueError",
     "evalue": "invalid literal for int() with base 10: ''",
     "output_type": "error",
     "traceback": [
      "\u001b[1;31m---------------------------------------------------------------------------\u001b[0m",
      "\u001b[1;31mValueError\u001b[0m                                Traceback (most recent call last)",
      "Cell \u001b[1;32mIn[1], line 2\u001b[0m\n\u001b[0;32m      1\u001b[0m \u001b[38;5;66;03m#build a calculator\u001b[39;00m\n\u001b[1;32m----> 2\u001b[0m x\u001b[38;5;241m=\u001b[39m\u001b[38;5;28;43mint\u001b[39;49m\u001b[43m(\u001b[49m\u001b[38;5;28;43minput\u001b[39;49m\u001b[43m(\u001b[49m\u001b[38;5;124;43m\"\u001b[39;49m\u001b[38;5;124;43mEnter the first number\u001b[39;49m\u001b[38;5;124;43m\"\u001b[39;49m\u001b[43m)\u001b[49m\u001b[43m)\u001b[49m\n\u001b[0;32m      3\u001b[0m y\u001b[38;5;241m=\u001b[39m\u001b[38;5;28mint\u001b[39m(\u001b[38;5;28minput\u001b[39m(\u001b[38;5;124m\"\u001b[39m\u001b[38;5;124mEnter the second number\u001b[39m\u001b[38;5;124m\"\u001b[39m))\n\u001b[0;32m      4\u001b[0m z\u001b[38;5;241m=\u001b[39m\u001b[38;5;28mint\u001b[39m(\u001b[38;5;28minput\u001b[39m(\u001b[38;5;124m\"\u001b[39m\u001b[38;5;124mEnter the operation +,-,*,/\u001b[39m\u001b[38;5;124m\"\u001b[39m))\n",
      "\u001b[1;31mValueError\u001b[0m: invalid literal for int() with base 10: ''"
     ]
    }
   ],
   "source": [
    "#build a calculator\n",
    "x=int(input(\"Enter the first number\"))\n",
    "y=int(input(\"Enter the second number\"))\n",
    "z=int(input(\"Enter the operation +,-,*,/\"))\n",
    "if z== '+':\n",
    "    print (x+y)\n",
    "elif z=='-':\n",
    "    print(x-y)\n",
    "elif z=='*':\n",
    "    print (x*y)\n",
    "else:\n",
    "    print(x/y)\n",
    "\n",
    "           \n",
    "           \n",
    "    \n",
    "        \n",
    "\n",
    "\n",
    "\n"
   ]
  },
  {
   "cell_type": "code",
   "execution_count": null,
   "id": "25656ddd",
   "metadata": {},
   "outputs": [],
   "source": [
    "#make a calculator\n",
    "n1=int(input(\"enter n1 :\"))\n",
    "n2=int(input(\"enter n2 :\"))\n",
    "print(\"press \\'1\\' for Addition:\")\n",
    "print(\"press \\'2\\' for Subraction:\")\n",
    "print(\"press \\'3\\'for Multiplication:\")\n",
    "print(\"press \\'4\\' for Division:\")\n",
    "opp=int(input(\"Enter operation:\"))\n",
    "\n",
    "if opp==1:\n",
    "    print(n1+n2)\n",
    "elif opp==2:\n",
    "    if n1>n2:\n",
    "        print(n1-n2)\n",
    "    else:\n",
    "        print(n2-n1)\n",
    "elif opp==3:\n",
    "    print(n1*n2)\n",
    "elif opp==4:\n",
    "    if n1>n2:\n",
    "        print(n1/n2)\n",
    "    else:\n",
    "        print(n2/n1)\n",
    "else:\n",
    "    print(\"Invalid selection,please choose correct operation\")"
   ]
  },
  {
   "cell_type": "code",
   "execution_count": null,
   "id": "51957025",
   "metadata": {},
   "outputs": [],
   "source": [
    "a=45\n",
    "if a/5:\n",
    "    print('yes')\n",
    "else:\n",
    "    print('no')\n",
    "    "
   ]
  },
  {
   "cell_type": "code",
   "execution_count": null,
   "id": "45319465",
   "metadata": {},
   "outputs": [],
   "source": [
    "a=45\n",
    "if a==45:\n",
    "    print('yes')\n",
    "else:\n",
    "    print('no')"
   ]
  },
  {
   "cell_type": "code",
   "execution_count": null,
   "id": "85222cdd",
   "metadata": {},
   "outputs": [],
   "source": [
    "#key is immutable and value can be mutable or immutable both\n",
    "#roll no of students\n",
    "students={1:\"aa\",2:\"bb\",3:\"cc\",4:\"dd\",5:\"ee\",6:\"ff\",7:\"gg\",8:\"hh\",9:\"ii\",10:\"jj\"}\n",
    "x=int(input(\"students:\"))\n",
    "students[x]"
   ]
  },
  {
   "cell_type": "code",
   "execution_count": null,
   "id": "b045fc24",
   "metadata": {},
   "outputs": [],
   "source": [
    "#add one more roll no\n",
    "students={1:\"aa\",2:\"bb\",3:\"cc\",4:\"dd\",5:\"ee\",6:\"ff\",7:\"gg\",8:\"hh\",9:\"ii\",10:\"jj\"}\n",
    "x=int(input)"
   ]
  },
  {
   "cell_type": "code",
   "execution_count": 1,
   "id": "3d953f2e",
   "metadata": {},
   "outputs": [
    {
     "name": "stdout",
     "output_type": "stream",
     "text": [
      "9\n",
      "\n",
      "1\n",
      "22\n",
      "333\n",
      "4444\n",
      "55555\n",
      "666666\n",
      "7777777\n",
      "88888888\n"
     ]
    }
   ],
   "source": [
    "#printing pattern\n",
    "f=list(range(int(input())))\n",
    "for i in f:\n",
    "    g=str(i)\n",
    "    print(i*g)"
   ]
  },
  {
   "cell_type": "code",
   "execution_count": null,
   "id": "e2322a2c",
   "metadata": {},
   "outputs": [],
   "source": [
    "#table of any nymber\n",
    "t=int(input('enter the number:'))\n",
    "w=1,2,3,4,5,6,7,8,9,10\n",
    "for e in w:\n",
    "    print(t,'*',e,'=',t*e)"
   ]
  },
  {
   "cell_type": "code",
   "execution_count": 2,
   "id": "2f30f4d2",
   "metadata": {},
   "outputs": [
    {
     "ename": "TypeError",
     "evalue": "unsupported operand type(s) for %: 'list' and 'int'",
     "output_type": "error",
     "traceback": [
      "\u001b[1;31m---------------------------------------------------------------------------\u001b[0m",
      "\u001b[1;31mTypeError\u001b[0m                                 Traceback (most recent call last)",
      "Cell \u001b[1;32mIn[2], line 3\u001b[0m\n\u001b[0;32m      1\u001b[0m \u001b[38;5;66;03m#display number divisible by 5 from a list\u001b[39;00m\n\u001b[0;32m      2\u001b[0m x\u001b[38;5;241m=\u001b[39m[\u001b[38;5;241m5\u001b[39m,\u001b[38;5;241m12\u001b[39m,\u001b[38;5;241m14\u001b[39m,\u001b[38;5;241m16\u001b[39m,\u001b[38;5;241m30\u001b[39m]\n\u001b[1;32m----> 3\u001b[0m \u001b[38;5;28;01mif\u001b[39;00m \u001b[43mx\u001b[49m\u001b[38;5;241;43m%\u001b[39;49m\u001b[38;5;241;43m5\u001b[39;49m\u001b[38;5;241m==\u001b[39m\u001b[38;5;241m0\u001b[39m:\n\u001b[0;32m      4\u001b[0m     \u001b[38;5;28mprint\u001b[39m(\u001b[38;5;124m\"\u001b[39m\u001b[38;5;124mdivisible by 5:\u001b[39m\u001b[38;5;124m\"\u001b[39m)\n",
      "\u001b[1;31mTypeError\u001b[0m: unsupported operand type(s) for %: 'list' and 'int'"
     ]
    }
   ],
   "source": [
    "#display number divisible by 5 from a list\n",
    "x=[5,12,14,16,30]\n",
    "if x%5==0:\n",
    "    print(\"divisible by 5:\")"
   ]
  },
  {
   "cell_type": "code",
   "execution_count": null,
   "id": "1518eeb2",
   "metadata": {},
   "outputs": [],
   "source": [
    "#enter the value in a dictationary and key should be printed\n",
    "students={1:\"aa\",2:\"bb\",3:\"cc\",4:\"dd\",5:\"ee\",6:\"ff\",7:\"gg\",8:\"hh\",9:\"ii\",10:\"jj\"}\n"
   ]
  },
  {
   "cell_type": "code",
   "execution_count": null,
   "id": "b993c6b0",
   "metadata": {},
   "outputs": [],
   "source": [
    "#write a code to display names of 10 students through their roll number\n",
    "a=int(input('enter a no between 0 and 11:'))\n",
    "if a ==1:\n",
    "    print('rishi')\n",
    "elif a==2:\n",
    "    print('rohit')\n",
    "elif a==3:\n",
    "    print('gaurav')\n",
    "elif a==4:\n",
    "    print('bhumika')\n",
    "elif a==5:\n",
    "    print('rahul')\n",
    "elif a==6:\n",
    "    print('divya')\n",
    "elif a==7:\n",
    "    print('varun')\n",
    "elif a==8:\n",
    "    print('karan')\n",
    "elif a==9:\n",
    "    print('varun')\n",
    "else:\n",
    "    print('vicky')"
   ]
  },
  {
   "cell_type": "code",
   "execution_count": null,
   "id": "380bee50",
   "metadata": {},
   "outputs": [],
   "source": [
    "x=input()\n",
    "if x==8:\n",
    "    print('x is',x)\n",
    "elif x==10:\n",
    "    print('x is',x)\n",
    "else:\n",
    "    print('x is not 10')"
   ]
  },
  {
   "cell_type": "code",
   "execution_count": null,
   "id": "3b358525",
   "metadata": {},
   "outputs": [],
   "source": [
    "x=int(input())\n",
    "if x==8:\n",
    "    print('x is',x)\n",
    "elif x==10:\n",
    "    print('x is',x)\n",
    "else:\n",
    "    print('x is not 10')"
   ]
  },
  {
   "cell_type": "code",
   "execution_count": null,
   "id": "07e32ca3",
   "metadata": {},
   "outputs": [],
   "source": [
    "x=10\n",
    "if x==8:\n",
    "    print('x is',x)\n",
    "else:\n",
    "    print('x is not 10')\n",
    "elif x==10:\n",
    "    print('x is',x)"
   ]
  },
  {
   "cell_type": "code",
   "execution_count": null,
   "id": "6a9263be",
   "metadata": {},
   "outputs": [],
   "source": [
    "x=10\n",
    "if x==8:\n",
    "    print('x is',x)\n",
    "else:\n",
    "    print('x is not 10')\n",
    "if x==10:\n",
    "    print('x is',x)"
   ]
  },
  {
   "cell_type": "markdown",
   "id": "58c71340",
   "metadata": {},
   "source": [
    "# nested if else"
   ]
  },
  {
   "cell_type": "code",
   "execution_count": 6,
   "id": "446f0019",
   "metadata": {},
   "outputs": [
    {
     "name": "stdout",
     "output_type": "stream",
     "text": [
      "\"hello\"\n",
      "hello\n"
     ]
    },
    {
     "data": {
      "text/plain": [
       "str"
      ]
     },
     "execution_count": 6,
     "metadata": {},
     "output_type": "execute_result"
    }
   ],
   "source": [
    "x=eval (input())\n",
    "print(x)\n",
    "\n",
    "type(x)"
   ]
  },
  {
   "cell_type": "code",
   "execution_count": null,
   "id": "5bdbf269",
   "metadata": {},
   "outputs": [],
   "source": [
    "x=int(input(\"value of x\"))\n",
    "y=int(input(\"value of y\"))\n",
    "z=int(input(\"value of z\"))\n",
    "if x>y:\n",
    "    if x>z:\n",
    "        print(\"x>y>z\")\n",
    "        else:\n",
    "            print()"
   ]
  },
  {
   "cell_type": "code",
   "execution_count": null,
   "id": "32cd9083",
   "metadata": {},
   "outputs": [],
   "source": []
  },
  {
   "cell_type": "code",
   "execution_count": null,
   "id": "aa3191cb",
   "metadata": {},
   "outputs": [],
   "source": []
  },
  {
   "cell_type": "code",
   "execution_count": null,
   "id": "55be8ef5",
   "metadata": {},
   "outputs": [],
   "source": []
  },
  {
   "cell_type": "markdown",
   "id": "8c36c14f",
   "metadata": {},
   "source": [
    "# loops\n",
    "Loops are used to execute a block of code repeatedly.\n",
    "\n",
    "FOR LOOP\n",
    "The for loop iterates over an iterable object.\n",
    "\n",
    "1.for loops are used when you havw a block of code which you want to repeat a fixed number of times.<br>\n",
    "2 for loops are also used to perform the same set of operations\n",
    "for each item in an iterable\n",
    "3.Thus, for lopps reduce the code complexity and saves time. \n"
   ]
  },
  {
   "cell_type": "code",
   "execution_count": 7,
   "id": "0d64277d",
   "metadata": {},
   "outputs": [
    {
     "name": "stdout",
     "output_type": "stream",
     "text": [
      "1\n",
      "2\n",
      "3\n",
      "4\n",
      "value of a 4\n"
     ]
    }
   ],
   "source": [
    "# string,list,tuple dictationary,sets,range - iterable data types\n",
    "x=[1,2,3,4]\n",
    "for a in x:\n",
    "    print(a)\n",
    "print(\"value of a\",a)"
   ]
  },
  {
   "cell_type": "code",
   "execution_count": 8,
   "id": "717454fe",
   "metadata": {},
   "outputs": [
    {
     "name": "stdout",
     "output_type": "stream",
     "text": [
      "[0, 1, 2, 3]\n"
     ]
    }
   ],
   "source": [
    "x=list(range(0,4))\n",
    "print(x)"
   ]
  },
  {
   "cell_type": "code",
   "execution_count": null,
   "id": "721f4acc",
   "metadata": {},
   "outputs": [],
   "source": [
    "x=range(0,4)\n",
    "print(x[0])\n",
    "print(x[1])\n",
    "print(x[2])\n",
    "print(x[3])\n",
    "\n"
   ]
  },
  {
   "cell_type": "code",
   "execution_count": null,
   "id": "99380f52",
   "metadata": {},
   "outputs": [],
   "source": [
    "y = range(0,4)\n",
    "for x in y:\n",
    "    print(x)"
   ]
  },
  {
   "cell_type": "code",
   "execution_count": null,
   "id": "3798c4a8",
   "metadata": {},
   "outputs": [],
   "source": [
    "y = range(0,4)\n",
    "for x in y:\n",
    "    print(x)"
   ]
  },
  {
   "cell_type": "code",
   "execution_count": null,
   "id": "c5e0f83d",
   "metadata": {},
   "outputs": [],
   "source": [
    "y = list(range(1,4,2))\n",
    "for x in y:\n",
    "    print(x)"
   ]
  },
  {
   "cell_type": "code",
   "execution_count": null,
   "id": "cc282fdb",
   "metadata": {},
   "outputs": [],
   "source": [
    "for x in [True,\"six\",9]:\n",
    "    print(x)"
   ]
  },
  {
   "cell_type": "code",
   "execution_count": 9,
   "id": "9f945183",
   "metadata": {},
   "outputs": [
    {
     "name": "stdout",
     "output_type": "stream",
     "text": [
      "30\n"
     ]
    }
   ],
   "source": [
    "#print sum of all even numbers from 1 to 10\n",
    "sum=0\n",
    "for x in range(2,11,2):\n",
    "    sum=sum+x\n",
    "print(sum)"
   ]
  },
  {
   "cell_type": "code",
   "execution_count": null,
   "id": "a5681e9e",
   "metadata": {},
   "outputs": [],
   "source": [
    "#table of 2 \n",
    "for i in range (1,11):\n",
    "    print(f\" 2*{i}={2*i}\")"
   ]
  },
  {
   "cell_type": "code",
   "execution_count": 10,
   "id": "b0189368",
   "metadata": {},
   "outputs": [
    {
     "name": "stdout",
     "output_type": "stream",
     "text": [
      "sum of all even numbers 30\n"
     ]
    }
   ],
   "source": [
    "sum=0\n",
    "for i in range (1,11):\n",
    "    if i%2==0:\n",
    "        sum=sum+i\n",
    "print(\"sum of all even numbers\",sum)"
   ]
  },
  {
   "cell_type": "code",
   "execution_count": null,
   "id": "047d5f60",
   "metadata": {},
   "outputs": [],
   "source": [
    "sum=0\n",
    "for i in range (1,11):\n",
    "    if i%2==0:\n",
    "        sum=sum+i\n",
    "    print(\"sum of all even numbers\",sum)"
   ]
  },
  {
   "cell_type": "code",
   "execution_count": null,
   "id": "3cf2612a",
   "metadata": {},
   "outputs": [],
   "source": [
    "sum=0\n",
    "for i in range (1,11):\n",
    "    if i%2==0:\n",
    "        sum=sum+i\n",
    "    print(\"hello\",sum)"
   ]
  },
  {
   "cell_type": "code",
   "execution_count": null,
   "id": "1924533e",
   "metadata": {},
   "outputs": [],
   "source": [
    "#ask the user for the range from which the sum of the even numbers should be printedr\n",
    "#eg. 10 to 20, 60 to 1000 , 70 to 80\n",
    "r=int(input(\"start\"))\n",
    "e= int(input(\"stop\"))\n",
    "sum=0\n",
    "for q in range(r,e+1,2):\n",
    "    if q%2==0:     #if ko remove\n",
    "        sum= sum+ q\n",
    "print(sum)"
   ]
  },
  {
   "cell_type": "code",
   "execution_count": null,
   "id": "02ef5915",
   "metadata": {},
   "outputs": [],
   "source": [
    "#square each number inside a list and finally print it\n",
    "x=[1,2,3,4]\n",
    "square=[a**2]\n",
    "for  a in x:\n",
    "    print(\"square numbers\",square)"
   ]
  },
  {
   "cell_type": "markdown",
   "id": "8428d9c3",
   "metadata": {},
   "source": [
    "\n",
    "for i in x:\n",
    "    square=i*"
   ]
  },
  {
   "cell_type": "markdown",
   "id": "737b659f",
   "metadata": {},
   "source": [
    "# if-else in for loop"
   ]
  },
  {
   "cell_type": "code",
   "execution_count": 23,
   "id": "98677cf1",
   "metadata": {},
   "outputs": [
    {
     "name": "stdout",
     "output_type": "stream",
     "text": [
      "1 no is odd\n",
      "2 no is even\n",
      "3 no is odd\n",
      "4 no is even\n",
      "5 no is odd\n",
      "6 no is even\n",
      "7 no is odd\n",
      "8 no is even\n",
      "9 no is odd\n",
      "10 no is even\n",
      "11 no is odd\n",
      "12 no is even\n",
      "13 no is odd\n",
      "14 no is even\n",
      "15 no is odd\n",
      "16 no is even\n",
      "17 no is odd\n",
      "18 no is even\n",
      "19 no is odd\n",
      "20 no is even\n",
      "21 no is odd\n",
      "22 no is even\n",
      "23 no is odd\n",
      "24 no is even\n",
      "25 no is odd\n",
      "26 no is even\n",
      "27 no is odd\n",
      "28 no is even\n",
      "29 no is odd\n",
      "30 no is even\n",
      "31 no is odd\n",
      "32 no is even\n",
      "33 no is odd\n",
      "34 no is even\n",
      "35 no is odd\n",
      "36 no is even\n",
      "37 no is odd\n",
      "38 no is even\n",
      "39 no is odd\n",
      "40 no is even\n",
      "41 no is odd\n",
      "42 no is even\n",
      "43 no is odd\n",
      "44 no is even\n",
      "45 no is odd\n",
      "46 no is even\n",
      "47 no is odd\n",
      "48 no is even\n",
      "49 no is odd\n",
      "50 no is even\n",
      "51 no is odd\n",
      "52 no is even\n",
      "53 no is odd\n",
      "54 no is even\n",
      "55 no is odd\n",
      "56 no is even\n",
      "57 no is odd\n",
      "58 no is even\n",
      "59 no is odd\n",
      "60 no is even\n",
      "61 no is odd\n",
      "62 no is even\n",
      "63 no is odd\n",
      "64 no is even\n",
      "65 no is odd\n",
      "66 no is even\n",
      "67 no is odd\n",
      "68 no is even\n",
      "69 no is odd\n",
      "70 no is even\n",
      "71 no is odd\n",
      "72 no is even\n",
      "73 no is odd\n",
      "74 no is even\n",
      "75 no is odd\n",
      "76 no is even\n",
      "77 no is odd\n",
      "78 no is even\n",
      "79 no is odd\n",
      "80 no is even\n",
      "81 no is odd\n",
      "82 no is even\n",
      "83 no is odd\n",
      "84 no is even\n",
      "85 no is odd\n",
      "86 no is even\n",
      "87 no is odd\n",
      "88 no is even\n",
      "89 no is odd\n",
      "90 no is even\n",
      "91 no is odd\n",
      "92 no is even\n",
      "93 no is odd\n",
      "94 no is even\n",
      "95 no is odd\n",
      "96 no is even\n",
      "97 no is odd\n",
      "98 no is even\n",
      "99 no is odd\n",
      "100 no is even\n"
     ]
    }
   ],
   "source": [
    "#classify numbers from 1 to 100 as even or odd\n",
    "for i in range(1,101):\n",
    "    if i%2==0:\n",
    "        print(i,\"no is even\")\n",
    "    else:\n",
    "        print(i,\"no is odd\")"
   ]
  },
  {
   "cell_type": "code",
   "execution_count": null,
   "id": "e7668087",
   "metadata": {},
   "outputs": [],
   "source": [
    "#table of 10\n",
    "x=int(input(\"enter a number\"))\n",
    "for i in range(1,11):\n",
    "    print(f\"x*{i}={x*i}\")"
   ]
  },
  {
   "cell_type": "markdown",
   "id": "2d50b29d",
   "metadata": {},
   "source": [
    "# NESTED FOR LOOPS"
   ]
  },
  {
   "cell_type": "code",
   "execution_count": null,
   "id": "7d67056c",
   "metadata": {},
   "outputs": [],
   "source": [
    "#Print the ,ultiplication table of two\n",
    "\n",
    "for x in range(1,11):\n",
    "    print(2, \"X\", x,\"=\",x*2)"
   ]
  },
  {
   "cell_type": "code",
   "execution_count": null,
   "id": "a69f8e95",
   "metadata": {},
   "outputs": [],
   "source": [
    "range(1,5)"
   ]
  },
  {
   "cell_type": "code",
   "execution_count": null,
   "id": "7079451c",
   "metadata": {},
   "outputs": [],
   "source": [
    "#print the multiplication table of 2,3,4,5,6,7\n",
    "for x in range(1,11):\n",
    "    print(2,\"x\",x,\"=\",x*2)\n",
    "    if x>=10:\n",
    "        for x in range(1,11):\n",
    "            print(3,\"x\",x,\"=\",x*3)\n",
    "        for x in range(1,11):\n",
    "            print(4,\"x\",x,\"=\",x*4)\n",
    "        for x in range(1,11):\n",
    "            print(5,\"x\",x,\"=\",x*5)\n",
    "        for x in range(1,11):\n",
    "            print(6,\"x\",x,\"=\",x*6)\n",
    "        for x in range(1,11):\n",
    "            print(7,\"x\",x,\"=\",x*7)\n",
    "        "
   ]
  },
  {
   "cell_type": "code",
   "execution_count": null,
   "id": "ed73a353",
   "metadata": {},
   "outputs": [],
   "source": [
    "for x in range(1,11):\n",
    "    for i in range(2,8):\n",
    "        print(i,\"x\",x,\"=\",x*i)"
   ]
  },
  {
   "cell_type": "code",
   "execution_count": null,
   "id": "ad8f93af",
   "metadata": {},
   "outputs": [],
   "source": [
    "print(\"hello\")\n",
    "print(\"world\")"
   ]
  },
  {
   "cell_type": "code",
   "execution_count": null,
   "id": "4961e532",
   "metadata": {},
   "outputs": [],
   "source": [
    "print(\"hello\",end=\" \")\n",
    "print(\"python\")"
   ]
  },
  {
   "cell_type": "code",
   "execution_count": null,
   "id": "8c0f22af",
   "metadata": {},
   "outputs": [],
   "source": [
    "x= \"*\"\n",
    "for a in x:\n",
    "    print(a)\n",
    "    for a in x:\n",
    "        print(a)\n",
    "    for a in x:\n",
    "        print(a)\n",
    "    \n",
    "    "
   ]
  },
  {
   "cell_type": "code",
   "execution_count": null,
   "id": "2ac89786",
   "metadata": {},
   "outputs": [],
   "source": [
    "x=range(5)\n",
    "for a in x:\n",
    "    print(\"*\")\n",
    "\n",
    "    "
   ]
  },
  {
   "cell_type": "code",
   "execution_count": null,
   "id": "4d60cc63",
   "metadata": {},
   "outputs": [],
   "source": [
    "for x in range(5):\n",
    "    print(\"*\")"
   ]
  },
  {
   "cell_type": "code",
   "execution_count": null,
   "id": "ff86feae",
   "metadata": {},
   "outputs": [],
   "source": [
    "for i in range(6):\n",
    "    print(\"*\"*i)"
   ]
  },
  {
   "cell_type": "code",
   "execution_count": null,
   "id": "58933ef0",
   "metadata": {},
   "outputs": [],
   "source": [
    "for x in range(6):\n",
    "    for y in range(1,x+1):\n",
    "        print(\"*\",end=\"\")\n",
    "    print()"
   ]
  },
  {
   "cell_type": "code",
   "execution_count": null,
   "id": "d43ed403",
   "metadata": {},
   "outputs": [],
   "source": [
    "for x in range(6):\n",
    "    for y in range(1,x+1):\n",
    "        print(\"*\",end=\" \")\n",
    "    print()"
   ]
  },
  {
   "cell_type": "code",
   "execution_count": null,
   "id": "5f2aa3c7",
   "metadata": {},
   "outputs": [],
   "source": [
    "for i in range(6):\n",
    "    print(\"*\" *i)"
   ]
  },
  {
   "cell_type": "code",
   "execution_count": null,
   "id": "94956ddd",
   "metadata": {},
   "outputs": [],
   "source": [
    "for x in range(6):\n",
    "    for y in range(6,0,-1):\n",
    "        print(\"*\",end=\" \")\n",
    "    print()"
   ]
  },
  {
   "cell_type": "markdown",
   "id": "3493789a",
   "metadata": {},
   "source": [
    "# for loop in one line"
   ]
  },
  {
   "cell_type": "code",
   "execution_count": null,
   "id": "85292b0b",
   "metadata": {},
   "outputs": [],
   "source": [
    "list=[]\n",
    "for x in range(0,4): list.append(x)\n",
    "print(list)"
   ]
  },
  {
   "cell_type": "markdown",
   "id": "1cbfb59c",
   "metadata": {},
   "source": [
    "# Transfer statements"
   ]
  },
  {
   "cell_type": "markdown",
   "id": "289c9b29",
   "metadata": {},
   "source": [
    "break\n",
    "The break statement is used to terminate the loop instantly when it is encountered."
   ]
  },
  {
   "cell_type": "code",
   "execution_count": null,
   "id": "c3de2f00",
   "metadata": {},
   "outputs": [],
   "source": [
    "for x in range(1,5):\n",
    "    if x>3:\n",
    "        break\n",
    "    print(x)\n",
    "print(\"hello world\")"
   ]
  },
  {
   "cell_type": "code",
   "execution_count": null,
   "id": "c027b3bd",
   "metadata": {},
   "outputs": [],
   "source": [
    "for x in range(3):\n",
    "    for y in range(4):\n",
    "        for z in range(5):\n",
    "            if z>2:\n",
    "                print(\"i am breaking it\")\n",
    "                break\n",
    "        print(z)"
   ]
  },
  {
   "cell_type": "code",
   "execution_count": null,
   "id": "f98348cc",
   "metadata": {},
   "outputs": [],
   "source": [
    "#here it breaks the innermost loop\n",
    "for x in range(3):\n",
    "    for y in range(4):\n",
    "        if y>2:\n",
    "            print(\"i am breaking it\")\n",
    "            break\n",
    "        print(y)"
   ]
  },
  {
   "cell_type": "code",
   "execution_count": null,
   "id": "b6fa3a02",
   "metadata": {},
   "outputs": [],
   "source": [
    "for x in range(3):\n",
    "    for y in range(4):\n",
    "        for z in range(5):\n",
    "            if z>2:\n",
    "                print(\"i am breaking it\")\n",
    "                break\n",
    "            print(z)"
   ]
  },
  {
   "cell_type": "markdown",
   "id": "f81b0de9",
   "metadata": {},
   "source": [
    "# CONTINUE"
   ]
  },
  {
   "cell_type": "raw",
   "id": "75992ccf",
   "metadata": {},
   "source": [
    "The continue statement skips the current iteration of the loop and jumps to the next iteration. #break and continue will only woek for loop"
   ]
  },
  {
   "cell_type": "code",
   "execution_count": null,
   "id": "751166d3",
   "metadata": {},
   "outputs": [],
   "source": [
    "for x in{1,2,3,4}:\n",
    "    print(x)"
   ]
  },
  {
   "cell_type": "code",
   "execution_count": null,
   "id": "f4ab1056",
   "metadata": {},
   "outputs": [],
   "source": [
    "for x in{1,2,3,4}:\n",
    "    if x==3:\n",
    "        continue\n",
    "    print(x)\n",
    "    print(\"python\")"
   ]
  },
  {
   "cell_type": "code",
   "execution_count": null,
   "id": "1cea096f",
   "metadata": {},
   "outputs": [],
   "source": [
    "for x in range(5): #print func written after continue won't work\n",
    "    print(x)\n",
    "    continue\n",
    "    print(x+1)"
   ]
  },
  {
   "cell_type": "code",
   "execution_count": null,
   "id": "2d1b99f5",
   "metadata": {},
   "outputs": [],
   "source": [
    "for x in range(5):\n",
    "    print(x)\n",
    "    continue\n",
    "    "
   ]
  },
  {
   "cell_type": "markdown",
   "id": "795d2a25",
   "metadata": {},
   "source": [
    "# PASS"
   ]
  },
  {
   "cell_type": "raw",
   "id": "91c5a745",
   "metadata": {},
   "source": [
    "Pass statement does nothing. It is used to create an empty block that may be useful in the future."
   ]
  },
  {
   "cell_type": "code",
   "execution_count": null,
   "id": "1403a0b1",
   "metadata": {},
   "outputs": [],
   "source": [
    "for x in range(10):\n",
    "    pass"
   ]
  },
  {
   "cell_type": "code",
   "execution_count": null,
   "id": "26a69aac",
   "metadata": {},
   "outputs": [],
   "source": [
    "for t in range(4):\n",
    "    continue"
   ]
  },
  {
   "cell_type": "code",
   "execution_count": null,
   "id": "d150da59",
   "metadata": {},
   "outputs": [],
   "source": [
    "for x in range(5):\n",
    "    pass\n",
    "    print(\"hello\")"
   ]
  },
  {
   "cell_type": "code",
   "execution_count": null,
   "id": "f1a3d1eb",
   "metadata": {},
   "outputs": [],
   "source": [
    "for t in range(4):\n",
    "    continue\n",
    "    print(\"big data\")"
   ]
  },
  {
   "cell_type": "code",
   "execution_count": null,
   "id": "8d978834",
   "metadata": {},
   "outputs": [],
   "source": [
    "for q in range(4):\n",
    "    if q==3:\n",
    "        pass\n",
    "    print(q)"
   ]
  },
  {
   "cell_type": "code",
   "execution_count": null,
   "id": "cadf1b80",
   "metadata": {},
   "outputs": [],
   "source": [
    "for q in range(4):\n",
    "    if q==3:\n",
    "        continue\n",
    "    print(q)"
   ]
  },
  {
   "cell_type": "code",
   "execution_count": null,
   "id": "12b4112e",
   "metadata": {},
   "outputs": [],
   "source": [
    "y=6\n",
    "if y>4:\n",
    "    pass\n",
    "print(\"xyz\")"
   ]
  },
  {
   "cell_type": "code",
   "execution_count": null,
   "id": "7a2fc3d9",
   "metadata": {},
   "outputs": [],
   "source": [
    "y=6                                             #continue is applicable for loop only\n",
    "if y>4:\n",
    "    continue\n",
    "print(\"xyz\")"
   ]
  },
  {
   "cell_type": "code",
   "execution_count": null,
   "id": "2048faaa",
   "metadata": {},
   "outputs": [],
   "source": [
    "y=6                                             #break is applicable for loop only\n",
    "if y>4:\n",
    "    break\n",
    "print(\"xyz\")"
   ]
  },
  {
   "cell_type": "markdown",
   "id": "38b56b0a",
   "metadata": {},
   "source": [
    "# WHILE LOOP"
   ]
  },
  {
   "cell_type": "markdown",
   "id": "308462a5",
   "metadata": {},
   "source": [
    "Works till a condition is true.\n",
    "used for indefinite iterations."
   ]
  },
  {
   "cell_type": "code",
   "execution_count": null,
   "id": "495a5f42",
   "metadata": {},
   "outputs": [],
   "source": [
    "#stop when the condition becomes false\n",
    "x=9\n",
    "while x<15:\n",
    "    print(x)\n",
    "    x=x+1"
   ]
  },
  {
   "cell_type": "code",
   "execution_count": null,
   "id": "3c31c833",
   "metadata": {},
   "outputs": [],
   "source": [
    "#stop when the condition becomes false\n",
    "x=9\n",
    "while x<15:\n",
    "    print(x)\n",
    "    x=x+1"
   ]
  },
  {
   "cell_type": "code",
   "execution_count": null,
   "id": "7395ef40",
   "metadata": {},
   "outputs": [],
   "source": [
    "y=2\n",
    "while y<15:\n",
    "    print(y)\n",
    "    y=y+15"
   ]
  },
  {
   "cell_type": "code",
   "execution_count": null,
   "id": "d82607f1",
   "metadata": {},
   "outputs": [],
   "source": [
    "x=10\n",
    "while x>20:\n",
    "    print(x)\n",
    "print(\"hello\")"
   ]
  },
  {
   "cell_type": "code",
   "execution_count": null,
   "id": "9f245fbd",
   "metadata": {},
   "outputs": [],
   "source": [
    "i=1\n",
    "while i<4:\n",
    "    list=[1,2,3]\n",
    "    x=1\n",
    "    print(list)\n",
    "    while list!=[]:\n",
    "        list.remove(x)\n",
    "        print(list)\n",
    "        x= x+1\n",
    "    i=i+1"
   ]
  },
  {
   "cell_type": "code",
   "execution_count": null,
   "id": "766dcc5d",
   "metadata": {},
   "outputs": [],
   "source": [
    "#take a positive integer (3-digit) as input from the user.\n",
    "#check whether the given no is armstrong no.\n",
    "#eg. 153= 1**3+5**3+3**3\n",
    "#    407= 4**3+0**3+7**3\n"
   ]
  },
  {
   "cell_type": "code",
   "execution_count": null,
   "id": "7703ba28",
   "metadata": {},
   "outputs": [],
   "source": [
    "#take a positive integer as input from the user. Find the factorial of that number\n",
    "#eg. factorial of 4= 1*2*3*4\n",
    "#factorial of 0= 1\n"
   ]
  },
  {
   "cell_type": "code",
   "execution_count": null,
   "id": "0898732f",
   "metadata": {},
   "outputs": [],
   "source": [
    "x=1,4,3\n",
    "x[0]**3+x[1]**3+x[2]**3"
   ]
  },
  {
   "cell_type": "code",
   "execution_count": null,
   "id": "dff217dd",
   "metadata": {},
   "outputs": [],
   "source": [
    "#printing pattern\n",
    "f=list(range(int(input(\"enter a number\"))))\n",
    "for i in f:\n",
    "    g=str(i)\n",
    "    print(i*g)"
   ]
  },
  {
   "cell_type": "code",
   "execution_count": null,
   "id": "4bd056b9",
   "metadata": {},
   "outputs": [],
   "source": [
    "\"2\"+\"2\""
   ]
  },
  {
   "cell_type": "code",
   "execution_count": null,
   "id": "629fd0a1",
   "metadata": {},
   "outputs": [],
   "source": [
    "for i in range(1,6):\n",
    "    for j in range(1,i+1):\n",
    "        print(j,end=\" \")\n",
    "    print()"
   ]
  },
  {
   "cell_type": "code",
   "execution_count": null,
   "id": "c71c996a",
   "metadata": {},
   "outputs": [],
   "source": [
    "#printing pattern\n",
    "f=range(int(input(\"enter a number\")))\n",
    "for i in f:\n",
    "    g=str(i)\n",
    "    print(i*g)"
   ]
  },
  {
   "cell_type": "code",
   "execution_count": null,
   "id": "ca452255",
   "metadata": {},
   "outputs": [],
   "source": [
    "i=3\n",
    "g=str(i)\n",
    "print(i*g)"
   ]
  },
  {
   "cell_type": "code",
   "execution_count": null,
   "id": "b6eeeb6a",
   "metadata": {},
   "outputs": [],
   "source": [
    "g=str(3)\n",
    "print(3*g)"
   ]
  },
  {
   "cell_type": "code",
   "execution_count": null,
   "id": "51e69815",
   "metadata": {},
   "outputs": [],
   "source": [
    "2*str(2)"
   ]
  },
  {
   "cell_type": "code",
   "execution_count": null,
   "id": "c37f8513",
   "metadata": {},
   "outputs": [],
   "source": [
    "2*'2'#integer * string = no will be printed the no of times the value of a string"
   ]
  },
  {
   "cell_type": "code",
   "execution_count": null,
   "id": "38e35b0a",
   "metadata": {},
   "outputs": [],
   "source": [
    "3*'3'"
   ]
  },
  {
   "cell_type": "code",
   "execution_count": null,
   "id": "608b5a1e",
   "metadata": {},
   "outputs": [],
   "source": [
    "i=2\n",
    "g=str(i)\n",
    "print(2*g)"
   ]
  },
  {
   "cell_type": "code",
   "execution_count": null,
   "id": "ff30e3f7",
   "metadata": {},
   "outputs": [],
   "source": [
    "g=str(3)\n",
    "print(g)"
   ]
  },
  {
   "cell_type": "code",
   "execution_count": null,
   "id": "3af1a8cf",
   "metadata": {},
   "outputs": [],
   "source": [
    "str(3)*4 #multiplying it will repeat the string i no of times"
   ]
  },
  {
   "cell_type": "code",
   "execution_count": 28,
   "id": "fa597fff",
   "metadata": {},
   "outputs": [
    {
     "name": "stdout",
     "output_type": "stream",
     "text": [
      "enter any number170\n",
      "not an armstrong no\n"
     ]
    }
   ],
   "source": [
    "num=input(\"enter any number\")\n",
    "sum=0\n",
    "for i in num:\n",
    "    sum+=int(i)**3\n",
    "if sum==int(num):\n",
    "    print(\"it is an armstrong no\")\n",
    "else:\n",
    "    print(\"not an armstrong no\")"
   ]
  },
  {
   "cell_type": "code",
   "execution_count": 30,
   "id": "77797e5d",
   "metadata": {},
   "outputs": [
    {
     "name": "stdout",
     "output_type": "stream",
     "text": [
      "enter 1st no\n",
      "enter 2nd no\n",
      "enter the operation +,-,*,/+\n",
      "\n"
     ]
    }
   ],
   "source": [
    "#build\n",
    "\n",
    "x=input(\"enter 1st no\")\n",
    "y=input(\"enter 2nd no\")\n",
    "z=input(\"enter the operation +,-,*,/\")\n",
    "if z== '+':\n",
    "    print (x+y)\n",
    "elif z=='-':\n",
    "    print(x-y)\n",
    "elif z=='*':\n",
    "    print (x*y)\n",
    "else:\n",
    "    print(x/y)\n",
    "\n",
    "           \n",
    "           \n",
    "    \n",
    "        \n",
    "\n",
    "\n",
    "\n"
   ]
  },
  {
   "cell_type": "code",
   "execution_count": null,
   "id": "e645dbe2",
   "metadata": {},
   "outputs": [],
   "source": []
  }
 ],
 "metadata": {
  "kernelspec": {
   "display_name": "Python 3 (ipykernel)",
   "language": "python",
   "name": "python3"
  },
  "language_info": {
   "codemirror_mode": {
    "name": "ipython",
    "version": 3
   },
   "file_extension": ".py",
   "mimetype": "text/x-python",
   "name": "python",
   "nbconvert_exporter": "python",
   "pygments_lexer": "ipython3",
   "version": "3.10.9"
  }
 },
 "nbformat": 4,
 "nbformat_minor": 5
}
