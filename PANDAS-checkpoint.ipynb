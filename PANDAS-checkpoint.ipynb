{
 "cells": [
  {
   "cell_type": "code",
   "execution_count": null,
   "id": "3babea84",
   "metadata": {},
   "outputs": [],
   "source": [
    "import pandas as pd"
   ]
  },
  {
   "cell_type": "markdown",
   "id": "9116fae6",
   "metadata": {},
   "source": [
    "### Series "
   ]
  },
  {
   "cell_type": "markdown",
   "id": "d72c3660",
   "metadata": {},
   "source": [
    "Pandas series objects are generally created from the following data types.-"
   ]
  },
  {
   "cell_type": "markdown",
   "id": "37c9e39f",
   "metadata": {},
   "source": [
    "1.  Scalar\n",
    "2.  ndarray\n",
    "3.  Dictationary\n",
    "4.  List"
   ]
  },
  {
   "cell_type": "markdown",
   "id": "01521ea6",
   "metadata": {},
   "source": [
    "pd.Series(data,index,dtype)"
   ]
  },
  {
   "cell_type": "code",
   "execution_count": null,
   "id": "a535cf1a",
   "metadata": {},
   "outputs": [],
   "source": [
    "#creating from scalar value\n",
    "x=pd.Series(\"string\")\n",
    "x"
   ]
  },
  {
   "cell_type": "code",
   "execution_count": null,
   "id": "6e400c87",
   "metadata": {},
   "outputs": [],
   "source": [
    "#Creating from an ndarray\n",
    "import numpy as np\n",
    "arr= np.array([1,2,3,4,5])\n",
    "series1= pd.Series(arr)\n",
    "print(series1)"
   ]
  },
  {
   "cell_type": "code",
   "execution_count": null,
   "id": "423454d0",
   "metadata": {},
   "outputs": [],
   "source": [
    "#Creqtinfg from a dictationary\n",
    "#Keys of the dictationary become the index \n",
    "dict_= {\"a\":1,\"b\":2,\"c\":3,\"d\":4}\n",
    "series3= pd.Series(dict_)\n",
    "print(series3)"
   ]
  },
  {
   "cell_type": "markdown",
   "id": "ece1ec5c",
   "metadata": {},
   "source": [
    "Let's provide the index also"
   ]
  },
  {
   "cell_type": "code",
   "execution_count": null,
   "id": "719219ea",
   "metadata": {},
   "outputs": [],
   "source": [
    "x= pd.Series([\"Welcome\",\"to\",\"vijAI\"], index=[\"a\",\"b\",\"c\"])\n",
    "x"
   ]
  },
  {
   "cell_type": "code",
   "execution_count": null,
   "id": "478a6bf5",
   "metadata": {},
   "outputs": [],
   "source": [
    "x= pd.Series([\"Welcome\",\"to\",\"vijAI\"], index=[\"a\",\"b\",\"c\",4,5])\n",
    "x"
   ]
  },
  {
   "cell_type": "code",
   "execution_count": null,
   "id": "76f5ad79",
   "metadata": {},
   "outputs": [],
   "source": [
    "x= pd.Series([\"welcome\",\"to\",\"vijAI\"], index=[1,2,3])\n",
    "x"
   ]
  },
  {
   "cell_type": "code",
   "execution_count": null,
   "id": "b09e02c9",
   "metadata": {},
   "outputs": [],
   "source": []
  },
  {
   "cell_type": "markdown",
   "id": "5bea4524",
   "metadata": {},
   "source": []
  },
  {
   "cell_type": "code",
   "execution_count": null,
   "id": "992f2e9a",
   "metadata": {},
   "outputs": [],
   "source": []
  },
  {
   "cell_type": "markdown",
   "id": "19cd7a9e",
   "metadata": {},
   "source": [
    "Important operations"
   ]
  },
  {
   "cell_type": "markdown",
   "id": "3df4aadb",
   "metadata": {},
   "source": [
    "Data alignment is intrinsic"
   ]
  },
  {
   "cell_type": "markdown",
   "id": "c745dbce",
   "metadata": {},
   "source": [
    "Using NumPy functions or Numpy operations, such as filtering with a Boolean array and scalar multiplication will preserve the index-value link."
   ]
  },
  {
   "cell_type": "code",
   "execution_count": null,
   "id": "87a48ef2",
   "metadata": {},
   "outputs": [],
   "source": [
    "import pandas as pd"
   ]
  },
  {
   "cell_type": "code",
   "execution_count": null,
   "id": "52cfb96e",
   "metadata": {},
   "outputs": [],
   "source": [
    "#Boolean Series\n",
    "y=pd.Series([1,2,3,4,5,6,7,8])\n",
    "y>=4   #This gives a boolean series"
   ]
  },
  {
   "cell_type": "code",
   "execution_count": null,
   "id": "d00d455b",
   "metadata": {},
   "outputs": [],
   "source": [
    "y[y>=4]"
   ]
  },
  {
   "cell_type": "code",
   "execution_count": null,
   "id": "2b2dfbf9",
   "metadata": {},
   "outputs": [],
   "source": [
    "#Multiplying by a scalar\n",
    "y*3"
   ]
  },
  {
   "cell_type": "code",
   "execution_count": null,
   "id": "26c35bcc",
   "metadata": {},
   "outputs": [],
   "source": [
    "np.sqrt(y)"
   ]
  },
  {
   "cell_type": "code",
   "execution_count": null,
   "id": "380fdb46",
   "metadata": {},
   "outputs": [],
   "source": [
    "y+3"
   ]
  },
  {
   "cell_type": "code",
   "execution_count": null,
   "id": "7f0bc5cf",
   "metadata": {},
   "outputs": [],
   "source": [
    "y-3"
   ]
  },
  {
   "cell_type": "code",
   "execution_count": null,
   "id": "5d5431c1",
   "metadata": {},
   "outputs": [],
   "source": [
    "y/3"
   ]
  },
  {
   "cell_type": "code",
   "execution_count": null,
   "id": "2afceb22",
   "metadata": {},
   "outputs": [],
   "source": [
    "y%3"
   ]
  },
  {
   "cell_type": "code",
   "execution_count": null,
   "id": "0112c801",
   "metadata": {},
   "outputs": [],
   "source": [
    "y//2"
   ]
  },
  {
   "cell_type": "code",
   "execution_count": null,
   "id": "0b1d5cff",
   "metadata": {},
   "outputs": [],
   "source": [
    "y+4"
   ]
  },
  {
   "cell_type": "code",
   "execution_count": null,
   "id": "56a9c0a3",
   "metadata": {},
   "outputs": [],
   "source": [
    "a=pd.Series([1,2,3,4,5])\n",
    "b=pd.Series([7,8,9,])\n"
   ]
  },
  {
   "cell_type": "code",
   "execution_count": null,
   "id": "732ab800",
   "metadata": {},
   "outputs": [],
   "source": [
    "a+b            #NaN= not a number(missing value)"
   ]
  },
  {
   "cell_type": "code",
   "execution_count": null,
   "id": "be6f050e",
   "metadata": {},
   "outputs": [],
   "source": [
    "s=pd.Series((\"a\",\"b\",\"c\"))\n",
    "j=pd.Series((\"d\",\"e\",\"f\"))"
   ]
  },
  {
   "cell_type": "code",
   "execution_count": null,
   "id": "776cd4c7",
   "metadata": {},
   "outputs": [],
   "source": [
    "s+j"
   ]
  },
  {
   "cell_type": "code",
   "execution_count": null,
   "id": "038f38ca",
   "metadata": {},
   "outputs": [],
   "source": [
    "s=pd.Series((\"1\",\"b\",\"c\"))\n",
    "j=pd.Series((\"d\",\"e\",\"f\"))"
   ]
  },
  {
   "cell_type": "code",
   "execution_count": null,
   "id": "2a7c7263",
   "metadata": {},
   "outputs": [],
   "source": [
    "s+j"
   ]
  },
  {
   "cell_type": "code",
   "execution_count": null,
   "id": "4d0978c3",
   "metadata": {},
   "outputs": [],
   "source": [
    "s=pd.Series((\"aab\",\"b\",\"c\"))\n",
    "j=pd.Series((\"d\",\"ehjd\",\"fsoe\"))"
   ]
  },
  {
   "cell_type": "code",
   "execution_count": null,
   "id": "df5e45b9",
   "metadata": {},
   "outputs": [],
   "source": [
    "s+j"
   ]
  },
  {
   "cell_type": "code",
   "execution_count": null,
   "id": "e09c0862",
   "metadata": {},
   "outputs": [],
   "source": [
    "r=pd.Series((\"aa\",1,\"hello\"))\n",
    "p=pd.Series((\"hdhd\",8,\"python\"))"
   ]
  },
  {
   "cell_type": "code",
   "execution_count": null,
   "id": "4bfe8f4e",
   "metadata": {},
   "outputs": [],
   "source": [
    "r+p"
   ]
  },
  {
   "cell_type": "code",
   "execution_count": null,
   "id": "8f29a7e7",
   "metadata": {},
   "outputs": [],
   "source": [
    "r=pd.Series((\"aa\",1,56.9))\n",
    "p=pd.Series((\"hdhd\",\"zzzz\",\"python\"))"
   ]
  },
  {
   "cell_type": "code",
   "execution_count": null,
   "id": "37e25607",
   "metadata": {},
   "outputs": [],
   "source": [
    "r+p"
   ]
  },
  {
   "cell_type": "code",
   "execution_count": null,
   "id": "7d1a2d44",
   "metadata": {},
   "outputs": [],
   "source": [
    "x=pd.Series([1,2,3,4],index= [\"a\",\"b\",\"c\",\"d\"])\n",
    "y=pd.Series([5,6,7,8],index= [\"c\",\"a\",\"d\",\"b\"])          #this can't be done in arrays but in Series it can be done thats why data \n",
    "                                                        #alignment is intrinsic\n",
    "x+y\n",
    "\n",
    "\n"
   ]
  },
  {
   "cell_type": "code",
   "execution_count": null,
   "id": "776f1c10",
   "metadata": {},
   "outputs": [],
   "source": [
    "x=pd.Series([1,2,3,4],index= [\"a\",\"b\",\"c\",\"d\"])\n",
    "y=pd.Series([5,6,7,8],index= [\"c\",\"a\",\"d\",3])          #this can't be done in arrays but in Series it can be done thats why data \n",
    "                                                        #alignment is intrinsic\n",
    "x+y\n",
    "\n",
    "\n"
   ]
  },
  {
   "cell_type": "code",
   "execution_count": null,
   "id": "5c58261c",
   "metadata": {},
   "outputs": [],
   "source": []
  },
  {
   "cell_type": "markdown",
   "id": "ebafe96f",
   "metadata": {},
   "source": [
    "# Data Frame"
   ]
  },
  {
   "cell_type": "markdown",
   "id": "c3c03dc0",
   "metadata": {},
   "source": [
    "Pandas DataFrame objects are generally created from the following data types:"
   ]
  },
  {
   "cell_type": "markdown",
   "id": "84247360",
   "metadata": {},
   "source": [
    "\n",
    "1. ndarray\n",
    "2. Dictionary\n",
    "3. List\n",
    "4. Series \n",
    "5. DataFrame"
   ]
  },
  {
   "cell_type": "code",
   "execution_count": null,
   "id": "5739403c",
   "metadata": {},
   "outputs": [],
   "source": [
    "import pandas as pd"
   ]
  },
  {
   "cell_type": "code",
   "execution_count": null,
   "id": "2048488d",
   "metadata": {},
   "outputs": [],
   "source": [
    "import numpy as np"
   ]
  },
  {
   "cell_type": "code",
   "execution_count": null,
   "id": "4aa43cc3",
   "metadata": {},
   "outputs": [],
   "source": [
    "#Using ndarray\n",
    "new_data= pd.DataFrame(np.array([[1,2,3,4,5],        #Can only create from 2nd and 1st array\n",
    "                                [6,7,8,9,10]]))"
   ]
  },
  {
   "cell_type": "code",
   "execution_count": null,
   "id": "3e407fe2",
   "metadata": {},
   "outputs": [],
   "source": [
    "new_data"
   ]
  },
  {
   "cell_type": "code",
   "execution_count": null,
   "id": "03a893f2",
   "metadata": {},
   "outputs": [],
   "source": [
    "#Using a list\n",
    "x=pd.DataFrame([[1,2,3,4],[5,6,7,8]])\n",
    "x"
   ]
  },
  {
   "cell_type": "code",
   "execution_count": null,
   "id": "e2870a18",
   "metadata": {},
   "outputs": [],
   "source": [
    "#Using a dictionary\n",
    "dict_dataframe= pd.DataFrame({\"a\":{1:\"Welcome\",2:\"To\"},\"b\":{1:\"Hello\",2:\"Hi\"}})\n",
    "dict_dataframe"
   ]
  },
  {
   "cell_type": "code",
   "execution_count": null,
   "id": "49a773f2",
   "metadata": {},
   "outputs": [],
   "source": [
    "dict_df=pd.DataFrame({\"a\":[1,2,3,4,5],\"b\":[6,7,8,9,10]})\n",
    "print(dict_df)"
   ]
  },
  {
   "cell_type": "code",
   "execution_count": null,
   "id": "67438cd8",
   "metadata": {},
   "outputs": [],
   "source": [
    "#Using a Series\n",
    "series_df=pd.DataFrame(pd.Series({1:\"a\",2:\"b\",3:\"c\"}))\n",
    "series_df"
   ]
  },
  {
   "cell_type": "code",
   "execution_count": null,
   "id": "96f5d866",
   "metadata": {},
   "outputs": [],
   "source": [
    "#Using DataFrame\n",
    "df=pd.DataFrame(dict_df)\n",
    "df"
   ]
  },
  {
   "cell_type": "code",
   "execution_count": null,
   "id": "3dde7a00",
   "metadata": {},
   "outputs": [],
   "source": [
    "series_df+df                            #series+DataFrame"
   ]
  },
  {
   "cell_type": "code",
   "execution_count": null,
   "id": "e2bb958b",
   "metadata": {},
   "outputs": [],
   "source": []
  },
  {
   "cell_type": "code",
   "execution_count": null,
   "id": "67316ce5",
   "metadata": {},
   "outputs": [],
   "source": [
    "#Using DataFrame\n",
    "#df=pd.DataFrame(dict_df)\n",
    "x=print(list(df))"
   ]
  },
  {
   "cell_type": "code",
   "execution_count": null,
   "id": "688fb044",
   "metadata": {},
   "outputs": [],
   "source": [
    "#Using ndarray\n",
    "new_data= pd.DataFrame(np.array([[1,2,3,4,5],        #Can only create from 2nd and 1st array\n",
    "                                [6,7,8,9,10]]))"
   ]
  },
  {
   "cell_type": "code",
   "execution_count": null,
   "id": "a21eb288",
   "metadata": {},
   "outputs": [],
   "source": [
    "##### Using ndarray\n",
    "new_data2= pd.DataFrame(np.array([[1,3,4,5],        #Can only create from 2nd and 1st array\n",
    "                                [2,7,8,8]]))"
   ]
  },
  {
   "cell_type": "code",
   "execution_count": null,
   "id": "9a636fcb",
   "metadata": {},
   "outputs": [],
   "source": [
    "new_data+new_data2                       #DataFrame+DataFrame"
   ]
  },
  {
   "cell_type": "code",
   "execution_count": null,
   "id": "4b7d5ce3",
   "metadata": {},
   "outputs": [],
   "source": []
  },
  {
   "cell_type": "code",
   "execution_count": null,
   "id": "e8542895",
   "metadata": {},
   "outputs": [],
   "source": []
  },
  {
   "cell_type": "code",
   "execution_count": null,
   "id": "402196c0",
   "metadata": {},
   "outputs": [],
   "source": [
    "#Using ndarray\n",
    "new_data= pd.DataFrame(np.array([[1,2,3,4,5],        #Can only create from 2nd and 1st array\n",
    "                                [6,7,8,9,10]]))"
   ]
  },
  {
   "cell_type": "code",
   "execution_count": null,
   "id": "2dba09cd",
   "metadata": {},
   "outputs": [],
   "source": [
    "ser=pd.Series([1,2,3,4,5])\n",
    "print(ser)"
   ]
  },
  {
   "cell_type": "code",
   "execution_count": null,
   "id": "4b97bacc",
   "metadata": {},
   "outputs": [],
   "source": [
    "ser=pd.Series([1,2])\n",
    "print(ser)"
   ]
  },
  {
   "cell_type": "code",
   "execution_count": null,
   "id": "600b76f0",
   "metadata": {},
   "outputs": [],
   "source": [
    "def+ser"
   ]
  },
  {
   "cell_type": "markdown",
   "id": "56042fb3",
   "metadata": {},
   "source": [
    "# Essential Functionality"
   ]
  },
  {
   "cell_type": "markdown",
   "id": "f2f04a2b",
   "metadata": {},
   "source": [
    "### Reindexing"
   ]
  },
  {
   "cell_type": "markdown",
   "id": "a38bcdf2",
   "metadata": {},
   "source": [
    "An important method on pandas objects is reindex, which means to create a new object with values rearranged according to the new index"
   ]
  },
  {
   "cell_type": "code",
   "execution_count": null,
   "id": "e8ceb5d1",
   "metadata": {},
   "outputs": [],
   "source": [
    "import pandas as pd"
   ]
  },
  {
   "cell_type": "code",
   "execution_count": null,
   "id": "cd5e10d6",
   "metadata": {},
   "outputs": [],
   "source": [
    "obj=pd.Series ([45,23,87,56], index=[\"d\",\"c\",\"b\",\"a\"])\n",
    "obj"
   ]
  },
  {
   "cell_type": "code",
   "execution_count": null,
   "id": "cf942de1",
   "metadata": {},
   "outputs": [],
   "source": [
    "obj2= obj.reindex([\"a\",\"b\",\"c\",\"d\"])\n",
    "obj2"
   ]
  },
  {
   "cell_type": "code",
   "execution_count": null,
   "id": "2b4ba66d",
   "metadata": {},
   "outputs": [],
   "source": [
    "obj=pd.Series ([45,23,87,56], index=[\"d\",\"c\",\"b\",\"a\"])\n",
    "obj"
   ]
  },
  {
   "cell_type": "code",
   "execution_count": null,
   "id": "1d001bf1",
   "metadata": {},
   "outputs": [],
   "source": [
    "# A Series's index can be altered in place by assignment:\n",
    "obj.index=[\"a\",\"b\",\"c\",\"d\"]\n",
    "obj"
   ]
  },
  {
   "cell_type": "code",
   "execution_count": null,
   "id": "7f794b1e",
   "metadata": {},
   "outputs": [],
   "source": []
  },
  {
   "cell_type": "markdown",
   "id": "16f14b88",
   "metadata": {},
   "source": [
    "### with DataFrame, reindex can alter the index,columns, or both"
   ]
  },
  {
   "cell_type": "code",
   "execution_count": 1,
   "id": "97e03439",
   "metadata": {},
   "outputs": [],
   "source": [
    "import pandas as pd"
   ]
  },
  {
   "cell_type": "code",
   "execution_count": 2,
   "id": "dc444ddd",
   "metadata": {},
   "outputs": [],
   "source": [
    "import numpy as np"
   ]
  },
  {
   "cell_type": "code",
   "execution_count": 4,
   "id": "c7bdea77",
   "metadata": {},
   "outputs": [
    {
     "data": {
      "text/html": [
       "<div>\n",
       "<style scoped>\n",
       "    .dataframe tbody tr th:only-of-type {\n",
       "        vertical-align: middle;\n",
       "    }\n",
       "\n",
       "    .dataframe tbody tr th {\n",
       "        vertical-align: top;\n",
       "    }\n",
       "\n",
       "    .dataframe thead th {\n",
       "        text-align: right;\n",
       "    }\n",
       "</style>\n",
       "<table border=\"1\" class=\"dataframe\">\n",
       "  <thead>\n",
       "    <tr style=\"text-align: right;\">\n",
       "      <th></th>\n",
       "      <th>Y</th>\n",
       "      <th>Z</th>\n",
       "      <th>X</th>\n",
       "    </tr>\n",
       "  </thead>\n",
       "  <tbody>\n",
       "    <tr>\n",
       "      <th>a</th>\n",
       "      <td>0</td>\n",
       "      <td>1</td>\n",
       "      <td>2</td>\n",
       "    </tr>\n",
       "    <tr>\n",
       "      <th>c</th>\n",
       "      <td>3</td>\n",
       "      <td>4</td>\n",
       "      <td>5</td>\n",
       "    </tr>\n",
       "    <tr>\n",
       "      <th>b</th>\n",
       "      <td>6</td>\n",
       "      <td>7</td>\n",
       "      <td>8</td>\n",
       "    </tr>\n",
       "  </tbody>\n",
       "</table>\n",
       "</div>"
      ],
      "text/plain": [
       "   Y  Z  X\n",
       "a  0  1  2\n",
       "c  3  4  5\n",
       "b  6  7  8"
      ]
     },
     "execution_count": 4,
     "metadata": {},
     "output_type": "execute_result"
    }
   ],
   "source": [
    "df=pd.DataFrame(np.arange(9).reshape((3,3)), index=[\"a\",\"c\",\"b\"],columns=[\"Y\",\"Z\",\"X\"])\n",
    "df"
   ]
  },
  {
   "cell_type": "code",
   "execution_count": 5,
   "id": "0dc30161",
   "metadata": {},
   "outputs": [
    {
     "data": {
      "text/html": [
       "<div>\n",
       "<style scoped>\n",
       "    .dataframe tbody tr th:only-of-type {\n",
       "        vertical-align: middle;\n",
       "    }\n",
       "\n",
       "    .dataframe tbody tr th {\n",
       "        vertical-align: top;\n",
       "    }\n",
       "\n",
       "    .dataframe thead th {\n",
       "        text-align: right;\n",
       "    }\n",
       "</style>\n",
       "<table border=\"1\" class=\"dataframe\">\n",
       "  <thead>\n",
       "    <tr style=\"text-align: right;\">\n",
       "      <th></th>\n",
       "      <th>X</th>\n",
       "      <th>Y</th>\n",
       "      <th>Z</th>\n",
       "    </tr>\n",
       "  </thead>\n",
       "  <tbody>\n",
       "    <tr>\n",
       "      <th>a</th>\n",
       "      <td>2</td>\n",
       "      <td>0</td>\n",
       "      <td>1</td>\n",
       "    </tr>\n",
       "    <tr>\n",
       "      <th>b</th>\n",
       "      <td>8</td>\n",
       "      <td>6</td>\n",
       "      <td>7</td>\n",
       "    </tr>\n",
       "    <tr>\n",
       "      <th>c</th>\n",
       "      <td>5</td>\n",
       "      <td>3</td>\n",
       "      <td>4</td>\n",
       "    </tr>\n",
       "  </tbody>\n",
       "</table>\n",
       "</div>"
      ],
      "text/plain": [
       "   X  Y  Z\n",
       "a  2  0  1\n",
       "b  8  6  7\n",
       "c  5  3  4"
      ]
     },
     "execution_count": 5,
     "metadata": {},
     "output_type": "execute_result"
    }
   ],
   "source": [
    "df= df.reindex(index=[\"a\",\"b\",\"c\"],columns=[\"X\",\"Y\",\"Z\"])\n",
    "df"
   ]
  },
  {
   "cell_type": "code",
   "execution_count": 10,
   "id": "62395794",
   "metadata": {},
   "outputs": [
    {
     "data": {
      "text/html": [
       "<div>\n",
       "<style scoped>\n",
       "    .dataframe tbody tr th:only-of-type {\n",
       "        vertical-align: middle;\n",
       "    }\n",
       "\n",
       "    .dataframe tbody tr th {\n",
       "        vertical-align: top;\n",
       "    }\n",
       "\n",
       "    .dataframe thead th {\n",
       "        text-align: right;\n",
       "    }\n",
       "</style>\n",
       "<table border=\"1\" class=\"dataframe\">\n",
       "  <thead>\n",
       "    <tr style=\"text-align: right;\">\n",
       "      <th></th>\n",
       "      <th>Y</th>\n",
       "      <th>Z</th>\n",
       "      <th>X</th>\n",
       "    </tr>\n",
       "  </thead>\n",
       "  <tbody>\n",
       "    <tr>\n",
       "      <th>a</th>\n",
       "      <td>NaN</td>\n",
       "      <td>NaN</td>\n",
       "      <td>NaN</td>\n",
       "    </tr>\n",
       "    <tr>\n",
       "      <th>c</th>\n",
       "      <td>NaN</td>\n",
       "      <td>NaN</td>\n",
       "      <td>NaN</td>\n",
       "    </tr>\n",
       "    <tr>\n",
       "      <th>b</th>\n",
       "      <td>NaN</td>\n",
       "      <td>NaN</td>\n",
       "      <td>NaN</td>\n",
       "    </tr>\n",
       "  </tbody>\n",
       "</table>\n",
       "</div>"
      ],
      "text/plain": [
       "     Y    Z    X\n",
       "a  NaN  NaN  NaN\n",
       "c  NaN  NaN  NaN\n",
       "b  NaN  NaN  NaN"
      ]
     },
     "execution_count": 10,
     "metadata": {},
     "output_type": "execute_result"
    }
   ],
   "source": [
    "df=pd.DataFrame(np.arange(9).resize((3,3)), index=[\"a\",\"c\",\"b\"],columns=[\"Y\",\"Z\",\"X\"])\n",
    "df"
   ]
  },
  {
   "cell_type": "code",
   "execution_count": 13,
   "id": "fff77428",
   "metadata": {},
   "outputs": [
    {
     "name": "stdout",
     "output_type": "stream",
     "text": [
      "None\n"
     ]
    }
   ],
   "source": [
    "print(np.arange(9).resize(3,3))    "
   ]
  },
  {
   "cell_type": "code",
   "execution_count": 14,
   "id": "b47a088c",
   "metadata": {},
   "outputs": [
    {
     "name": "stdout",
     "output_type": "stream",
     "text": [
      "None\n"
     ]
    }
   ],
   "source": [
    "print(np.arange(9).resize(3,4))      "
   ]
  },
  {
   "cell_type": "code",
   "execution_count": 17,
   "id": "2d217a87",
   "metadata": {},
   "outputs": [
    {
     "data": {
      "text/plain": [
       "array([[0, 1, 2, 3],\n",
       "       [4, 5, 6, 7],\n",
       "       [8, 0, 0, 0]])"
      ]
     },
     "execution_count": 17,
     "metadata": {},
     "output_type": "execute_result"
    }
   ],
   "source": [
    "x=np.arange(9)\n",
    "x.resize(3,4)      #error has not come because it has given the value 0\n",
    "x"
   ]
  },
  {
   "cell_type": "markdown",
   "id": "0080afb0",
   "metadata": {},
   "source": [
    "print(np.arange(9).reshape(3,4))         #(3,4)=3*4=12 and the no of elements are 9"
   ]
  },
  {
   "cell_type": "code",
   "execution_count": 16,
   "id": "3d12b8e6",
   "metadata": {},
   "outputs": [
    {
     "name": "stdout",
     "output_type": "stream",
     "text": [
      "[[0 1 2]\n",
      " [3 4 5]\n",
      " [6 7 8]]\n"
     ]
    }
   ],
   "source": [
    "print(np.arange(9).reshape(3,3))         #(3,4)=3*4=12 and the no of elements are 9"
   ]
  },
  {
   "cell_type": "code",
   "execution_count": null,
   "id": "2b096ef4",
   "metadata": {},
   "outputs": [],
   "source": []
  },
  {
   "cell_type": "markdown",
   "id": "04c78ce9",
   "metadata": {},
   "source": [
    "# Indexing, Selection and Filtering"
   ]
  },
  {
   "cell_type": "markdown",
   "id": "b42f94ae",
   "metadata": {},
   "source": [
    "### Indexing with Series"
   ]
  },
  {
   "cell_type": "markdown",
   "id": "afff511f",
   "metadata": {},
   "source": [
    "Series indexing works similar to NumPy array indexing, except you can use the Series's index values(lables) instead of only integers."
   ]
  },
  {
   "cell_type": "code",
   "execution_count": 2,
   "id": "fea41635",
   "metadata": {},
   "outputs": [],
   "source": [
    "import pandas as pd"
   ]
  },
  {
   "cell_type": "code",
   "execution_count": null,
   "id": "01464dc5",
   "metadata": {},
   "outputs": [],
   "source": []
  },
  {
   "cell_type": "code",
   "execution_count": null,
   "id": "c19f0e81",
   "metadata": {},
   "outputs": [],
   "source": []
  },
  {
   "cell_type": "code",
   "execution_count": null,
   "id": "a9300e22",
   "metadata": {},
   "outputs": [],
   "source": []
  },
  {
   "cell_type": "code",
   "execution_count": null,
   "id": "b6f38f0e",
   "metadata": {},
   "outputs": [],
   "source": []
  }
 ],
 "metadata": {
  "kernelspec": {
   "display_name": "Python 3 (ipykernel)",
   "language": "python",
   "name": "python3"
  },
  "language_info": {
   "codemirror_mode": {
    "name": "ipython",
    "version": 3
   },
   "file_extension": ".py",
   "mimetype": "text/x-python",
   "name": "python",
   "nbconvert_exporter": "python",
   "pygments_lexer": "ipython3",
   "version": "3.10.9"
  }
 },
 "nbformat": 4,
 "nbformat_minor": 5
}
