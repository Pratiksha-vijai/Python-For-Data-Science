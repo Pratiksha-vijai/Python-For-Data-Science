{
 "cells": [
  {
   "cell_type": "markdown",
   "id": "f8d09da9",
   "metadata": {},
   "source": [
    "\n",
    "\n",
    "\n",
    "\n",
    "\n",
    "\n",
    "\n",
    "\n",
    "\n",
    "\n",
    "\n",
    "\n",
    "\n",
    "\n",
    "\n",
    "\n",
    "\n",
    "\n",
    "\n",
    "\n",
    "\n",
    "\n",
    "\n",
    "\n",
    "\n",
    "\n",
    "\n",
    "\n",
    "\n",
    "\n",
    "\n",
    "\n",
    "\n",
    "\n",
    "\n",
    "\n",
    "\n",
    "\n",
    "\n",
    "\n",
    "\n",
    "\n",
    "\n",
    "\n",
    "# functions are thr block of codes defined with a name"
   ]
  },
  {
   "cell_type": "raw",
   "id": "8379bf26",
   "metadata": {},
   "source": [
    "DRY-- Do Not Repeat Yourself\n",
    "functions provide reuseability of code."
   ]
  },
  {
   "cell_type": "markdown",
   "id": "aed6944c",
   "metadata": {},
   "source": [
    "# Types of Functions"
   ]
  },
  {
   "cell_type": "markdown",
   "id": "60008985",
   "metadata": {},
   "source": [
    "1. Built-in Functions or Predefined Functions\n",
    "2. User-defined functions"
   ]
  },
  {
   "cell_type": "markdown",
   "id": "c5b4a2d4",
   "metadata": {},
   "source": [
    "# Creating a function"
   ]
  },
  {
   "cell_type": "code",
   "execution_count": 1,
   "id": "518ebc4d",
   "metadata": {},
   "outputs": [
    {
     "name": "stdout",
     "output_type": "stream",
     "text": [
      "data science is amazing\n"
     ]
    }
   ],
   "source": [
    "def first_fuction():\n",
    "    print(\"data science is amazing\")\n",
    "first_fuction()   #fuction is called"
   ]
  },
  {
   "cell_type": "code",
   "execution_count": null,
   "id": "7ac77f57",
   "metadata": {},
   "outputs": [],
   "source": []
  },
  {
   "cell_type": "markdown",
   "id": "4f40e749",
   "metadata": {},
   "source": [
    "# Creating a Function with Parameters"
   ]
  },
  {
   "cell_type": "code",
   "execution_count": 2,
   "id": "d906e4ae",
   "metadata": {},
   "outputs": [
    {
     "name": "stdout",
     "output_type": "stream",
     "text": [
      "data science is amazing\n",
      "24\n"
     ]
    }
   ],
   "source": [
    "def first_fuction(x):\n",
    "    print(\"data science is amazing\")\n",
    "    print(x)\n",
    "first_fuction(24)   #fuction is called"
   ]
  },
  {
   "cell_type": "code",
   "execution_count": 23,
   "id": "efec2501",
   "metadata": {},
   "outputs": [],
   "source": [
    "#function inside a function"
   ]
  },
  {
   "cell_type": "code",
   "execution_count": 17,
   "id": "5f8bb683",
   "metadata": {},
   "outputs": [
    {
     "name": "stdout",
     "output_type": "stream",
     "text": [
      "hello\n",
      "how are you?\n",
      "life is precious\n"
     ]
    }
   ],
   "source": [
    "\n",
    "\n",
    "\n",
    "def first_func():\n",
    "    print(\"hello\")\n",
    "first_func()\n",
    "def second_func():\n",
    "    print(\"how are you?\")\n",
    "second_func()\n",
    "print(\"life is precious\")"
   ]
  },
  {
   "cell_type": "code",
   "execution_count": 8,
   "id": "92bc19c5",
   "metadata": {},
   "outputs": [
    {
     "name": "stdout",
     "output_type": "stream",
     "text": [
      "90\n",
      "8\n"
     ]
    }
   ],
   "source": [
    "def first_func(x):\n",
    "    print(x)\n",
    "#first_func(9)\n",
    "def second_func(y):\n",
    "    print(y)\n",
    "second_func(90)\n",
    "first_func(8)"
   ]
  },
  {
   "cell_type": "code",
   "execution_count": 4,
   "id": "72fdcdd5",
   "metadata": {},
   "outputs": [
    {
     "name": "stdout",
     "output_type": "stream",
     "text": [
      "14\n",
      "10\n",
      "6.0\n"
     ]
    }
   ],
   "source": [
    "def first_func(x,y):\n",
    "    print(x+y)\n",
    "    print(x-y)\n",
    "    print(x/y)\n",
    "   # return None\n",
    "first_func(12,2)"
   ]
  },
  {
   "cell_type": "code",
   "execution_count": 8,
   "id": "52551ed9",
   "metadata": {},
   "outputs": [
    {
     "name": "stdout",
     "output_type": "stream",
     "text": [
      "14\n",
      "10\n",
      "6.0\n",
      "None\n"
     ]
    }
   ],
   "source": [
    "def first_func(x,y):\n",
    "    print(x+y)\n",
    "    print(x-y)\n",
    "    print(x/y)\n",
    "   # return None\n",
    "type(first_func(12,2))\n",
    "print(first_func(12,2))"
   ]
  },
  {
   "cell_type": "code",
   "execution_count": 9,
   "id": "b38ff639",
   "metadata": {},
   "outputs": [
    {
     "name": "stdout",
     "output_type": "stream",
     "text": [
      "14\n",
      "10\n",
      "6.0\n",
      "<class 'NoneType'>\n",
      "14\n",
      "10\n",
      "6.0\n",
      "None\n"
     ]
    }
   ],
   "source": [
    "def first_func(x,y):\n",
    "    print(x+y)\n",
    "    print(x-y)\n",
    "    print(x/y)\n",
    "   # return None\n",
    "print(type(first_func(12,2)))\n",
    "print(first_func(12,2))"
   ]
  },
  {
   "cell_type": "code",
   "execution_count": 11,
   "id": "8bb9865f",
   "metadata": {},
   "outputs": [
    {
     "data": {
      "text/plain": [
       "str"
      ]
     },
     "execution_count": 11,
     "metadata": {},
     "output_type": "execute_result"
    }
   ],
   "source": [
    "type('rahul')"
   ]
  },
  {
   "cell_type": "code",
   "execution_count": 12,
   "id": "4ae85927",
   "metadata": {},
   "outputs": [
    {
     "data": {
      "text/plain": [
       "'rahul'"
      ]
     },
     "execution_count": 12,
     "metadata": {},
     "output_type": "execute_result"
    }
   ],
   "source": [
    "type('rahul')\n",
    "'rahul'"
   ]
  },
  {
   "cell_type": "code",
   "execution_count": 1,
   "id": "9f8f7c01",
   "metadata": {},
   "outputs": [
    {
     "name": "stdout",
     "output_type": "stream",
     "text": [
      "14\n",
      "10\n",
      "6.0\n",
      "None\n"
     ]
    }
   ],
   "source": [
    "def first_func(x,y):\n",
    "    print(x+y)\n",
    "    print(x-y)\n",
    "    print(x/y)\n",
    "    return None\n",
    "d=first_func(12,2)\n",
    "print (d)"
   ]
  },
  {
   "cell_type": "code",
   "execution_count": 22,
   "id": "4c6c1e1a",
   "metadata": {},
   "outputs": [
    {
     "name": "stdout",
     "output_type": "stream",
     "text": [
      "hello\n",
      "how are you?\n",
      "100\n",
      "life is precious\n"
     ]
    }
   ],
   "source": [
    "def first_func():\n",
    "    print(\"hello\")\n",
    "def second_func():\n",
    "    print(\"how are you?\")\n",
    "def third_func():\n",
    "    print(100)\n",
    "first_func()\n",
    "second_func()\n",
    "third_func()\n",
    "print(\"life is precious\")"
   ]
  },
  {
   "cell_type": "code",
   "execution_count": 3,
   "id": "80dd412a",
   "metadata": {},
   "outputs": [
    {
     "name": "stdout",
     "output_type": "stream",
     "text": [
      "str\n",
      "67\n"
     ]
    }
   ],
   "source": [
    "def second_function(x,y):\n",
    "    print(x)\n",
    "    print(y)\n",
    "second_function(\"str\",67)"
   ]
  },
  {
   "cell_type": "code",
   "execution_count": 4,
   "id": "aa5f5aa6",
   "metadata": {},
   "outputs": [
    {
     "name": "stdout",
     "output_type": "stream",
     "text": [
      "117\n"
     ]
    }
   ],
   "source": [
    "def second_function(x,y):\n",
    "    print(x+y)\n",
    "    \n",
    "second_function(50,67)"
   ]
  },
  {
   "cell_type": "code",
   "execution_count": 13,
   "id": "5033636f",
   "metadata": {},
   "outputs": [
    {
     "name": "stdout",
     "output_type": "stream",
     "text": [
      "117\n",
      "hello\n"
     ]
    }
   ],
   "source": [
    "def second_function(x,y):\n",
    "    print(x+y)\n",
    "    print(\"hello\")\n",
    "second_function(50,67)"
   ]
  },
  {
   "cell_type": "code",
   "execution_count": 5,
   "id": "9fe74cce",
   "metadata": {},
   "outputs": [
    {
     "name": "stdout",
     "output_type": "stream",
     "text": [
      "abcd\n"
     ]
    }
   ],
   "source": [
    "def second_function(x,y):\n",
    "    print(x+y)\n",
    "    \n",
    "second_function(\"ab\",\"cd\")"
   ]
  },
  {
   "cell_type": "code",
   "execution_count": 6,
   "id": "4cdf8ae1",
   "metadata": {},
   "outputs": [
    {
     "name": "stdout",
     "output_type": "stream",
     "text": [
      "124\n"
     ]
    }
   ],
   "source": [
    "def second_function(x,y,z):\n",
    "    print(x+y*z)\n",
    "    \n",
    "second_function(4,10,12)"
   ]
  },
  {
   "cell_type": "code",
   "execution_count": 27,
   "id": "17206d21",
   "metadata": {},
   "outputs": [],
   "source": [
    "#practice"
   ]
  },
  {
   "cell_type": "code",
   "execution_count": 26,
   "id": "58926da6",
   "metadata": {},
   "outputs": [
    {
     "name": "stdout",
     "output_type": "stream",
     "text": [
      "15\n",
      "hi\n",
      "hello world\n"
     ]
    }
   ],
   "source": [
    "def first_func(x):\n",
    "    print(x)\n",
    "def second_func(y):\n",
    "    print(y)\n",
    "first_func(15)\n",
    "second_func(\"hi\")\n",
    "print(\"hello world\")"
   ]
  },
  {
   "cell_type": "code",
   "execution_count": null,
   "id": "174702a4",
   "metadata": {},
   "outputs": [],
   "source": []
  },
  {
   "cell_type": "code",
   "execution_count": null,
   "id": "1fb9a2fc",
   "metadata": {},
   "outputs": [],
   "source": []
  },
  {
   "cell_type": "markdown",
   "id": "95a990ca",
   "metadata": {},
   "source": [
    "# Returning Value From a function"
   ]
  },
  {
   "cell_type": "code",
   "execution_count": 7,
   "id": "fcf4ab09",
   "metadata": {},
   "outputs": [
    {
     "name": "stdout",
     "output_type": "stream",
     "text": [
      "68\n"
     ]
    }
   ],
   "source": [
    "def calculator(x,y):\n",
    "    a=x+y\n",
    "    return a\n",
    "b=calculator(23,45)\n",
    "print(b)"
   ]
  },
  {
   "cell_type": "code",
   "execution_count": null,
   "id": "5fb94403",
   "metadata": {},
   "outputs": [],
   "source": []
  },
  {
   "cell_type": "code",
   "execution_count": 8,
   "id": "519e3726",
   "metadata": {},
   "outputs": [
    {
     "name": "stdout",
     "output_type": "stream",
     "text": [
      "70\n"
     ]
    }
   ],
   "source": [
    "def calculator(x,y):\n",
    "    a=x+y\n",
    "    return a\n",
    "b=calculator(23,45)+2\n",
    "print(b)"
   ]
  },
  {
   "cell_type": "code",
   "execution_count": 15,
   "id": "1aebc89e",
   "metadata": {},
   "outputs": [
    {
     "data": {
      "text/plain": [
       "68"
      ]
     },
     "execution_count": 15,
     "metadata": {},
     "output_type": "execute_result"
    }
   ],
   "source": [
    "def calculator(x,y):\n",
    "    a=x+y\n",
    "    return a\n",
    "calculator(23,45)\n"
   ]
  },
  {
   "cell_type": "code",
   "execution_count": 11,
   "id": "d78df959",
   "metadata": {},
   "outputs": [
    {
     "name": "stdout",
     "output_type": "stream",
     "text": [
      "hello\n"
     ]
    }
   ],
   "source": [
    "def calculator(x,y):\n",
    "    a=x+y\n",
    "    return a\n",
    "calculator(23,45)\n",
    "print(\"hello\")"
   ]
  },
  {
   "cell_type": "code",
   "execution_count": 24,
   "id": "358c5dcd",
   "metadata": {},
   "outputs": [
    {
     "name": "stdout",
     "output_type": "stream",
     "text": [
      "136\n",
      "hello\n",
      "python\n"
     ]
    }
   ],
   "source": [
    "def calculator(x,y):\n",
    "    a=x+y\n",
    "    return a\n",
    "b=calculator(23,45)*2\n",
    "print(b)\n",
    "print(\"hello\")\n",
    "print(\"python\")\n"
   ]
  },
  {
   "cell_type": "code",
   "execution_count": 25,
   "id": "ebe5b716",
   "metadata": {},
   "outputs": [
    {
     "name": "stdout",
     "output_type": "stream",
     "text": [
      "we are adding numbers\n"
     ]
    },
    {
     "data": {
      "text/plain": [
       "35"
      ]
     },
     "execution_count": 25,
     "metadata": {},
     "output_type": "execute_result"
    }
   ],
   "source": [
    "def my_func(x,y):\n",
    "    print(\"we are adding numbers\")\n",
    "    a=x+y\n",
    "    return a\n",
    "    print(\"hello world\")\n",
    "my_func(12,23)"
   ]
  },
  {
   "cell_type": "code",
   "execution_count": 27,
   "id": "ba7c4b2d",
   "metadata": {},
   "outputs": [
    {
     "name": "stdout",
     "output_type": "stream",
     "text": [
      "xyz\n",
      "None\n"
     ]
    }
   ],
   "source": [
    "def func():\n",
    "    print(\"xyz\")\n",
    "x=func()\n",
    "print(x)"
   ]
  },
  {
   "cell_type": "code",
   "execution_count": 28,
   "id": "f68890c0",
   "metadata": {},
   "outputs": [
    {
     "name": "stdout",
     "output_type": "stream",
     "text": [
      "hello\n",
      "None\n"
     ]
    }
   ],
   "source": [
    "print(print(\"hello\"))                     #none is been returned \n",
    "                                          #print func is returning none"
   ]
  },
  {
   "cell_type": "code",
   "execution_count": 36,
   "id": "a2a34411",
   "metadata": {},
   "outputs": [
    {
     "name": "stdout",
     "output_type": "stream",
     "text": [
      "hello\n"
     ]
    }
   ],
   "source": [
    "#None is never printed in the output\n",
    "print(\"hello\")"
   ]
  },
  {
   "cell_type": "code",
   "execution_count": 37,
   "id": "5556408b",
   "metadata": {},
   "outputs": [],
   "source": [
    "None"
   ]
  },
  {
   "cell_type": "code",
   "execution_count": 38,
   "id": "2105561a",
   "metadata": {},
   "outputs": [
    {
     "name": "stdout",
     "output_type": "stream",
     "text": [
      "None\n"
     ]
    }
   ],
   "source": [
    "print(None)                            #if we write it then it will come"
   ]
  },
  {
   "cell_type": "code",
   "execution_count": 1,
   "id": "548dcae8",
   "metadata": {},
   "outputs": [
    {
     "data": {
      "text/plain": [
       "<function print>"
      ]
     },
     "execution_count": 1,
     "metadata": {},
     "output_type": "execute_result"
    }
   ],
   "source": [
    "print"
   ]
  },
  {
   "cell_type": "code",
   "execution_count": 2,
   "id": "56b7972e",
   "metadata": {},
   "outputs": [
    {
     "name": "stdout",
     "output_type": "stream",
     "text": [
      "<built-in function print>\n",
      "None\n",
      "None\n"
     ]
    }
   ],
   "source": [
    "print(print(print(print)))"
   ]
  },
  {
   "cell_type": "code",
   "execution_count": 9,
   "id": "1c1b0679",
   "metadata": {},
   "outputs": [
    {
     "name": "stdout",
     "output_type": "stream",
     "text": [
      "\n",
      "None\n",
      "None\n",
      "None\n"
     ]
    }
   ],
   "source": [
    "print(print(print(print())))"
   ]
  },
  {
   "cell_type": "code",
   "execution_count": 3,
   "id": "38404b91",
   "metadata": {},
   "outputs": [
    {
     "name": "stdout",
     "output_type": "stream",
     "text": [
      "\n"
     ]
    }
   ],
   "source": [
    "print()"
   ]
  },
  {
   "cell_type": "code",
   "execution_count": 4,
   "id": "e4aac614",
   "metadata": {},
   "outputs": [
    {
     "name": "stdout",
     "output_type": "stream",
     "text": [
      "2062118772016\n",
      "140710296579776\n"
     ]
    }
   ],
   "source": [
    "print(id(print(id(\"hello\"))))"
   ]
  },
  {
   "cell_type": "code",
   "execution_count": 29,
   "id": "41c0f9d6",
   "metadata": {},
   "outputs": [
    {
     "name": "stdout",
     "output_type": "stream",
     "text": [
      "xyz\n",
      "78\n",
      "the value of x is None\n"
     ]
    }
   ],
   "source": [
    "def func(a):\n",
    "    print(\"xyz\")\n",
    "    print(a)\n",
    "x=func(78)\n",
    "print(\"the value of x is\",x)"
   ]
  },
  {
   "cell_type": "code",
   "execution_count": 31,
   "id": "8d04fc64",
   "metadata": {},
   "outputs": [
    {
     "name": "stdout",
     "output_type": "stream",
     "text": [
      "xyz\n",
      "78\n",
      "the value of x is None\n"
     ]
    }
   ],
   "source": [
    "def func(a):\n",
    "    print(\"xyz\")\n",
    "    print(a)\n",
    "    return None\n",
    "x=func(78)\n",
    "print(\"the value of x is\",x)"
   ]
  },
  {
   "cell_type": "code",
   "execution_count": 35,
   "id": "3c5898d2",
   "metadata": {
    "scrolled": true
   },
   "outputs": [
    {
     "name": "stdout",
     "output_type": "stream",
     "text": [
      "xyz\n",
      "78\n",
      "the value of x is 78\n"
     ]
    }
   ],
   "source": [
    "def func(a):\n",
    "    print(\"xyz\")\n",
    "    print(a)\n",
    "    return a                          #return 12 or any no then the output will be that num\n",
    "x=func(78)\n",
    "print(\"the value of x is\",x)"
   ]
  },
  {
   "cell_type": "code",
   "execution_count": 8,
   "id": "b577c3fe",
   "metadata": {},
   "outputs": [
    {
     "name": "stdout",
     "output_type": "stream",
     "text": [
      "xyz\n",
      "45\n",
      "22\n",
      "the value of x None\n"
     ]
    }
   ],
   "source": [
    "def func(a):\n",
    "    print(\"xyz\")\n",
    "    print(a)\n",
    "    print(a-23)\n",
    "    return\n",
    "x=func(45)\n",
    "print(\"the value of x\",x)"
   ]
  },
  {
   "cell_type": "code",
   "execution_count": 6,
   "id": "92f0122a",
   "metadata": {},
   "outputs": [
    {
     "name": "stdout",
     "output_type": "stream",
     "text": [
      "xyz\n",
      "45\n",
      "22\n",
      "the value of x 45\n"
     ]
    }
   ],
   "source": [
    "def func(a):\n",
    "    print(\"xyz\")\n",
    "    print(a)\n",
    "    print(a-23)\n",
    "    return a\n",
    "x=func(45)\n",
    "print(\"the value of x\",x)"
   ]
  },
  {
   "cell_type": "code",
   "execution_count": 1,
   "id": "2fd35586",
   "metadata": {},
   "outputs": [
    {
     "name": "stdout",
     "output_type": "stream",
     "text": [
      "h\n"
     ]
    }
   ],
   "source": [
    "print(\"h\")"
   ]
  },
  {
   "cell_type": "code",
   "execution_count": 2,
   "id": "6b6fbeb1",
   "metadata": {},
   "outputs": [
    {
     "data": {
      "text/plain": [
       "str"
      ]
     },
     "execution_count": 2,
     "metadata": {},
     "output_type": "execute_result"
    }
   ],
   "source": [
    "type(\"h\")"
   ]
  },
  {
   "cell_type": "code",
   "execution_count": 3,
   "id": "295e71b0",
   "metadata": {},
   "outputs": [
    {
     "name": "stdout",
     "output_type": "stream",
     "text": [
      "h\n"
     ]
    },
    {
     "data": {
      "text/plain": [
       "NoneType"
      ]
     },
     "execution_count": 3,
     "metadata": {},
     "output_type": "execute_result"
    }
   ],
   "source": [
    "type(print(\"h\"))  #print always returns none(print datatype-none)\n",
    "                     #return works as replacing"
   ]
  },
  {
   "cell_type": "code",
   "execution_count": null,
   "id": "77fe5dcb",
   "metadata": {},
   "outputs": [],
   "source": [
    "def print_a(a):\n",
    "    print(a)\n",
    "    return None\n",
    "print_a(\"hello world\")"
   ]
  },
  {
   "cell_type": "code",
   "execution_count": 5,
   "id": "11a2d7b3",
   "metadata": {},
   "outputs": [
    {
     "name": "stdout",
     "output_type": "stream",
     "text": [
      "123\n"
     ]
    }
   ],
   "source": [
    "def add(a,b):\n",
    "    sum=a+b\n",
    "    print(sum)\n",
    "add(45,78)"
   ]
  },
  {
   "cell_type": "code",
   "execution_count": 6,
   "id": "cdb1d928",
   "metadata": {},
   "outputs": [
    {
     "name": "stdout",
     "output_type": "stream",
     "text": [
      "123\n",
      "None\n"
     ]
    }
   ],
   "source": [
    "#print function has returned the value that is none\n",
    "def add(a,b):\n",
    "    sum=a+b\n",
    "    print(sum)\n",
    "print (add(45,78))"
   ]
  },
  {
   "cell_type": "code",
   "execution_count": 7,
   "id": "b4726fa4",
   "metadata": {},
   "outputs": [
    {
     "name": "stdout",
     "output_type": "stream",
     "text": [
      "123\n"
     ]
    }
   ],
   "source": [
    "#print function has returned the value that is none\n",
    "def add(a,b):\n",
    "    sum=a+b\n",
    "    return sum\n",
    "print (add(45,78))"
   ]
  },
  {
   "cell_type": "code",
   "execution_count": 8,
   "id": "7ad6d6a7",
   "metadata": {},
   "outputs": [],
   "source": [
    "None"
   ]
  },
  {
   "cell_type": "code",
   "execution_count": 9,
   "id": "5421ab5b",
   "metadata": {},
   "outputs": [
    {
     "name": "stdout",
     "output_type": "stream",
     "text": [
      "None\n"
     ]
    }
   ],
   "source": [
    "print(None)"
   ]
  },
  {
   "cell_type": "code",
   "execution_count": 10,
   "id": "ed21262f",
   "metadata": {},
   "outputs": [
    {
     "name": "stdout",
     "output_type": "stream",
     "text": [
      "None\n"
     ]
    }
   ],
   "source": [
    "def add(a,b):\n",
    "    sum=a+b\n",
    "print(add(45,78))"
   ]
  },
  {
   "cell_type": "code",
   "execution_count": 11,
   "id": "3183d5af",
   "metadata": {},
   "outputs": [
    {
     "ename": "TypeError",
     "evalue": "unsupported operand type(s) for *: 'NoneType' and 'int'",
     "output_type": "error",
     "traceback": [
      "\u001b[1;31m---------------------------------------------------------------------------\u001b[0m",
      "\u001b[1;31mTypeError\u001b[0m                                 Traceback (most recent call last)",
      "Cell \u001b[1;32mIn[11], line 1\u001b[0m\n\u001b[1;32m----> 1\u001b[0m \u001b[38;5;28mprint\u001b[39m(\u001b[43madd\u001b[49m\u001b[43m(\u001b[49m\u001b[38;5;241;43m10\u001b[39;49m\u001b[43m,\u001b[49m\u001b[38;5;241;43m12\u001b[39;49m\u001b[43m)\u001b[49m\u001b[38;5;241;43m*\u001b[39;49m\u001b[38;5;241;43m2\u001b[39;49m)\n",
      "\u001b[1;31mTypeError\u001b[0m: unsupported operand type(s) for *: 'NoneType' and 'int'"
     ]
    }
   ],
   "source": [
    "print(add(10,12)*2)"
   ]
  },
  {
   "cell_type": "code",
   "execution_count": 12,
   "id": "2163a5d1",
   "metadata": {},
   "outputs": [
    {
     "name": "stdout",
     "output_type": "stream",
     "text": [
      "h\n",
      "None\n"
     ]
    }
   ],
   "source": [
    "print(print(\"h\"))"
   ]
  },
  {
   "cell_type": "code",
   "execution_count": 13,
   "id": "f58a4ba2",
   "metadata": {},
   "outputs": [
    {
     "name": "stdout",
     "output_type": "stream",
     "text": [
      "h\n",
      "None\n",
      "None\n"
     ]
    }
   ],
   "source": [
    "print(print(print(\"h\")))"
   ]
  },
  {
   "cell_type": "markdown",
   "id": "54fc055c",
   "metadata": {},
   "source": [
    "# Returning multiple values from a Function"
   ]
  },
  {
   "cell_type": "code",
   "execution_count": 1,
   "id": "865c3a80",
   "metadata": {},
   "outputs": [
    {
     "name": "stdout",
     "output_type": "stream",
     "text": [
      "hello\n",
      "67\n"
     ]
    }
   ],
   "source": [
    "a,b=(\"hello\",67)\n",
    "print(a)\n",
    "print(b)"
   ]
  },
  {
   "cell_type": "code",
   "execution_count": 4,
   "id": "a9b6e96e",
   "metadata": {},
   "outputs": [
    {
     "name": "stdout",
     "output_type": "stream",
     "text": [
      "(12, 8, 20, 5.0)\n"
     ]
    }
   ],
   "source": [
    "def calculator(a,b):\n",
    "    sum=a+b\n",
    "    diff=a-b\n",
    "    product=a*b\n",
    "    div=a/b\n",
    "    return sum,diff,product,div           #returns the value in the form of a tuple\n",
    "x=calculator(10,2)\n",
    "print(x)"
   ]
  },
  {
   "cell_type": "code",
   "execution_count": 5,
   "id": "afc793f3",
   "metadata": {},
   "outputs": [
    {
     "name": "stdout",
     "output_type": "stream",
     "text": [
      "12 8 20 5.0\n"
     ]
    }
   ],
   "source": [
    "def calculator(a,b):\n",
    "    sum=a+b\n",
    "    diff=a-b\n",
    "    product=a*b\n",
    "    div=a/b\n",
    "    return sum,diff,product,div           #returns the value in the form of a tuple\n",
    "a,b,c,d=calculator(10,2)\n",
    "print(a,b,c,d)\n"
   ]
  },
  {
   "cell_type": "code",
   "execution_count": 6,
   "id": "1d332dec",
   "metadata": {},
   "outputs": [
    {
     "name": "stdout",
     "output_type": "stream",
     "text": [
      "12 8 20 5.0\n"
     ]
    }
   ],
   "source": [
    "def calculator(a,b):\n",
    "    sum=a+b\n",
    "    diff=a-b\n",
    "    product=a*b\n",
    "    div=a/b\n",
    "    return sum,diff,product,div           #returns the value in the form of a tuple\n",
    "p,q,r,s=calculator(10,2)\n",
    "print(p,q,r,s)\n"
   ]
  },
  {
   "cell_type": "code",
   "execution_count": 19,
   "id": "fabb6a2c",
   "metadata": {},
   "outputs": [
    {
     "name": "stdout",
     "output_type": "stream",
     "text": [
      "(12, 4, 32, 2.0)\n"
     ]
    }
   ],
   "source": [
    "y=calculator(8,4)           #print 32\n",
    "\n",
    "print(y)"
   ]
  },
  {
   "cell_type": "code",
   "execution_count": 18,
   "id": "1adbbf92",
   "metadata": {},
   "outputs": [
    {
     "ename": "NameError",
     "evalue": "name 'y' is not defined",
     "output_type": "error",
     "traceback": [
      "\u001b[1;31m---------------------------------------------------------------------------\u001b[0m",
      "\u001b[1;31mNameError\u001b[0m                                 Traceback (most recent call last)",
      "Cell \u001b[1;32mIn[18], line 1\u001b[0m\n\u001b[1;32m----> 1\u001b[0m \u001b[43my\u001b[49m[\u001b[38;5;241m2\u001b[39m]\n",
      "\u001b[1;31mNameError\u001b[0m: name 'y' is not defined"
     ]
    }
   ],
   "source": [
    "y[2]"
   ]
  },
  {
   "cell_type": "markdown",
   "id": "d48653d6",
   "metadata": {},
   "source": [
    "# Using Docstring in Functions\n",
    "Single line docstring"
   ]
  },
  {
   "cell_type": "code",
   "execution_count": null,
   "id": "98f7072f",
   "metadata": {},
   "outputs": [],
   "source": [
    "#brief description or its a type of comment "
   ]
  },
  {
   "cell_type": "code",
   "execution_count": 19,
   "id": "24a14b20",
   "metadata": {},
   "outputs": [],
   "source": [
    "def show_result():\n",
    "    \"\"\"Let us understand docstrings\"\"\" #func is not been called\n",
    "    print(\"This is a test program\")"
   ]
  },
  {
   "cell_type": "code",
   "execution_count": 20,
   "id": "85bf69b0",
   "metadata": {},
   "outputs": [
    {
     "name": "stdout",
     "output_type": "stream",
     "text": [
      "This is a test program\n"
     ]
    }
   ],
   "source": [
    "def show_result():\n",
    "    \"\"\"Let us understand docstrings\"\"\" #func is not been called\n",
    "    print(\"This is a test program\")\n",
    "show_result()"
   ]
  },
  {
   "cell_type": "code",
   "execution_count": 21,
   "id": "a9414a7b",
   "metadata": {},
   "outputs": [
    {
     "data": {
      "text/plain": [
       "'Let us understand docstrings'"
      ]
     },
     "execution_count": 21,
     "metadata": {},
     "output_type": "execute_result"
    }
   ],
   "source": [
    "show_result.__doc__"
   ]
  },
  {
   "cell_type": "code",
   "execution_count": 22,
   "id": "e8fbfc4d",
   "metadata": {},
   "outputs": [
    {
     "name": "stdout",
     "output_type": "stream",
     "text": [
      "Help on built-in function print in module builtins:\n",
      "\n",
      "print(...)\n",
      "    print(value, ..., sep=' ', end='\\n', file=sys.stdout, flush=False)\n",
      "    \n",
      "    Prints the values to a stream, or to sys.stdout by default.\n",
      "    Optional keyword arguments:\n",
      "    file:  a file-like object (stream); defaults to the current sys.stdout.\n",
      "    sep:   string inserted between values, default a space.\n",
      "    end:   string appended after the last value, default a newline.\n",
      "    flush: whether to forcibly flush the stream.\n",
      "\n"
     ]
    }
   ],
   "source": [
    "help(print)"
   ]
  },
  {
   "cell_type": "code",
   "execution_count": 23,
   "id": "59798fec",
   "metadata": {},
   "outputs": [
    {
     "name": "stdout",
     "output_type": "stream",
     "text": [
      "Help on function show_result in module __main__:\n",
      "\n",
      "show_result()\n",
      "    Let us understand docstrings\n",
      "\n"
     ]
    }
   ],
   "source": [
    "help(show_result)"
   ]
  },
  {
   "cell_type": "markdown",
   "id": "66c33c52",
   "metadata": {},
   "source": [
    "# Multi-line docstring"
   ]
  },
  {
   "cell_type": "code",
   "execution_count": 27,
   "id": "34fc7406",
   "metadata": {},
   "outputs": [],
   "source": [
    "def show_result():\n",
    "    \"\"\"Let us understand docstrings\n",
    "    \n",
    "    I am using this function to understand about docstrings\n",
    "    Docstrings are used to document functions\"\"\"\n",
    "    print(\"This is a test program\")"
   ]
  },
  {
   "cell_type": "code",
   "execution_count": 28,
   "id": "eac58d0f",
   "metadata": {},
   "outputs": [
    {
     "name": "stdout",
     "output_type": "stream",
     "text": [
      "Let us understand docstrings\n",
      "    \n",
      "    I am using this function to understand about docstrings\n",
      "    Docstrings are used to document functions\n"
     ]
    }
   ],
   "source": [
    "print(show_result.__doc__)"
   ]
  },
  {
   "cell_type": "code",
   "execution_count": 26,
   "id": "96899e76",
   "metadata": {},
   "outputs": [
    {
     "name": "stdout",
     "output_type": "stream",
     "text": [
      "Help on function show_result in module __main__:\n",
      "\n",
      "show_result()\n",
      "    Let us understand docstrings\n",
      "    \n",
      "    I am using this function to understand about docstrings\n",
      "    Docstrings are used to document functions\n",
      "\n"
     ]
    }
   ],
   "source": [
    "help(show_result)"
   ]
  },
  {
   "cell_type": "code",
   "execution_count": 30,
   "id": "7b347996",
   "metadata": {},
   "outputs": [
    {
     "ename": "IndentationError",
     "evalue": "unindent does not match any outer indentation level (<tokenize>, line 3)",
     "output_type": "error",
     "traceback": [
      "\u001b[1;36m  File \u001b[1;32m<tokenize>:3\u001b[1;36m\u001b[0m\n\u001b[1;33m    \"\"\"Let us understand docstrings\u001b[0m\n\u001b[1;37m    ^\u001b[0m\n\u001b[1;31mIndentationError\u001b[0m\u001b[1;31m:\u001b[0m unindent does not match any outer indentation level\n"
     ]
    }
   ],
   "source": [
    "def show_result():\n",
    "     print(\"This is a test program\")\n",
    "    \"\"\"Let us understand docstrings\n",
    "    \n",
    "    \n",
    "    I am using this function to understand about docstrings\n",
    "    Docstrings are used to document functions\"\"\"\n",
    "    "
   ]
  },
  {
   "cell_type": "code",
   "execution_count": 31,
   "id": "dc591f43",
   "metadata": {},
   "outputs": [
    {
     "name": "stdout",
     "output_type": "stream",
     "text": [
      "Help on function show_result in module __main__:\n",
      "\n",
      "show_result()\n",
      "    Let us understand docstrings\n",
      "    \n",
      "    I am using this function to understand about docstrings\n",
      "    Docstrings are used to document functions\n",
      "\n"
     ]
    }
   ],
   "source": [
    "help(show_result)"
   ]
  },
  {
   "cell_type": "code",
   "execution_count": 32,
   "id": "f35e11e4",
   "metadata": {},
   "outputs": [],
   "source": [
    "#local variable- inside a block"
   ]
  },
  {
   "cell_type": "markdown",
   "id": "d8572045",
   "metadata": {},
   "source": [
    "# Scope of variables"
   ]
  },
  {
   "cell_type": "code",
   "execution_count": 33,
   "id": "44792629",
   "metadata": {},
   "outputs": [
    {
     "name": "stdout",
     "output_type": "stream",
     "text": [
      "T is python\n",
      "the value of t is python\n"
     ]
    },
    {
     "ename": "NameError",
     "evalue": "name 'u' is not defined",
     "output_type": "error",
     "traceback": [
      "\u001b[1;31m---------------------------------------------------------------------------\u001b[0m",
      "\u001b[1;31mNameError\u001b[0m                                 Traceback (most recent call last)",
      "Cell \u001b[1;32mIn[33], line 7\u001b[0m\n\u001b[0;32m      5\u001b[0m scope_var()\n\u001b[0;32m      6\u001b[0m \u001b[38;5;28mprint\u001b[39m(\u001b[38;5;124m\"\u001b[39m\u001b[38;5;124mthe value of t is\u001b[39m\u001b[38;5;124m\"\u001b[39m,t)\n\u001b[1;32m----> 7\u001b[0m \u001b[38;5;28mprint\u001b[39m(\u001b[38;5;124m\"\u001b[39m\u001b[38;5;124mthe value of u is\u001b[39m\u001b[38;5;124m\"\u001b[39m,\u001b[43mu\u001b[49m)\n",
      "\u001b[1;31mNameError\u001b[0m: name 'u' is not defined"
     ]
    }
   ],
   "source": [
    "t= \"python\"                      #global\n",
    "def scope_var():\n",
    "    u=\"analytics\"                 #local\n",
    "    print(\"T is\",t)\n",
    "scope_var()\n",
    "print(\"the value of t is\",t)\n",
    "print(\"the value of u is\",u)\n",
    "    "
   ]
  },
  {
   "cell_type": "code",
   "execution_count": 36,
   "id": "412a9efd",
   "metadata": {},
   "outputs": [
    {
     "name": "stdout",
     "output_type": "stream",
     "text": [
      "T is python\n",
      "the value of t is python\n",
      "the value of u is analytics\n"
     ]
    }
   ],
   "source": [
    "t= \"python\"\n",
    "u=\"analytics\"\n",
    "def scope_var():\n",
    "    u=\"analytics\"                 \n",
    "    print(\"T is\",t)\n",
    "scope_var()\n",
    "print(\"the value of t is\",t)\n",
    "print(\"the value of u is\",u)                  #global variable\n",
    "    "
   ]
  },
  {
   "cell_type": "code",
   "execution_count": 34,
   "id": "1b7fd2a9",
   "metadata": {},
   "outputs": [
    {
     "name": "stdout",
     "output_type": "stream",
     "text": [
      "Data science\n",
      "T is python\n",
      "the value of t is python\n",
      "the value of u is analytics\n"
     ]
    }
   ],
   "source": [
    "t= \"python\"                                     #globql variable\n",
    "u=\"analytics\"                                   #global variable u\n",
    "def scope_var():\n",
    "    u=\"Data science\"                            #local variable u\n",
    "    print(u)\n",
    "    print(\"T is\",t)\n",
    "scope_var()\n",
    "print(\"the value of t is\",t)\n",
    "print(\"the value of u is\",u)                      #global variable u\n",
    "    "
   ]
  },
  {
   "cell_type": "code",
   "execution_count": 37,
   "id": "cbd3d088",
   "metadata": {},
   "outputs": [
    {
     "ename": "UnboundLocalError",
     "evalue": "local variable 'u' referenced before assignment",
     "output_type": "error",
     "traceback": [
      "\u001b[1;31m---------------------------------------------------------------------------\u001b[0m",
      "\u001b[1;31mUnboundLocalError\u001b[0m                         Traceback (most recent call last)",
      "Cell \u001b[1;32mIn[37], line 8\u001b[0m\n\u001b[0;32m      6\u001b[0m     \u001b[38;5;28mprint\u001b[39m(u)\n\u001b[0;32m      7\u001b[0m     \u001b[38;5;28mprint\u001b[39m(\u001b[38;5;124m\"\u001b[39m\u001b[38;5;124mT is\u001b[39m\u001b[38;5;124m\"\u001b[39m,t)\n\u001b[1;32m----> 8\u001b[0m \u001b[43mscope_var\u001b[49m\u001b[43m(\u001b[49m\u001b[43m)\u001b[49m\n\u001b[0;32m      9\u001b[0m \u001b[38;5;28mprint\u001b[39m(\u001b[38;5;124m\"\u001b[39m\u001b[38;5;124mthe value of t is\u001b[39m\u001b[38;5;124m\"\u001b[39m,t)\n\u001b[0;32m     10\u001b[0m \u001b[38;5;28mprint\u001b[39m(\u001b[38;5;124m\"\u001b[39m\u001b[38;5;124mthe value of u is\u001b[39m\u001b[38;5;124m\"\u001b[39m,u)\n",
      "Cell \u001b[1;32mIn[37], line 4\u001b[0m, in \u001b[0;36mscope_var\u001b[1;34m()\u001b[0m\n\u001b[0;32m      3\u001b[0m \u001b[38;5;28;01mdef\u001b[39;00m \u001b[38;5;21mscope_var\u001b[39m():\n\u001b[1;32m----> 4\u001b[0m     \u001b[38;5;28mprint\u001b[39m(\u001b[38;5;124m\"\u001b[39m\u001b[38;5;124mvalue of u inside function before declaring it as local is\u001b[39m\u001b[38;5;124m\"\u001b[39m,\u001b[43mu\u001b[49m)\n\u001b[0;32m      5\u001b[0m     u\u001b[38;5;241m=\u001b[39m\u001b[38;5;124m\"\u001b[39m\u001b[38;5;124mData science\u001b[39m\u001b[38;5;124m\"\u001b[39m                            \u001b[38;5;66;03m#local variable u\u001b[39;00m\n\u001b[0;32m      6\u001b[0m     \u001b[38;5;28mprint\u001b[39m(u)\n",
      "\u001b[1;31mUnboundLocalError\u001b[0m: local variable 'u' referenced before assignment"
     ]
    }
   ],
   "source": [
    "t= \"python\"                                     #globql variable\n",
    "u=\"analytics\"                                   #global variable u\n",
    "def scope_var():\n",
    "    print(\"value of u inside function before declaring it as local is\",u)\n",
    "    u=\"Data science\"                            #local variable u\n",
    "    print(u)\n",
    "    print(\"T is\",t)\n",
    "scope_var()\n",
    "print(\"the value of t is\",t)\n",
    "print(\"the value of u is\",u)                      #global variable u\n",
    "                                     #global"
   ]
  },
  {
   "cell_type": "markdown",
   "id": "8efc409c",
   "metadata": {},
   "source": [
    "# Global variable"
   ]
  },
  {
   "cell_type": "code",
   "execution_count": 38,
   "id": "860319fa",
   "metadata": {},
   "outputs": [
    {
     "name": "stdout",
     "output_type": "stream",
     "text": [
      "x inside function is 78\n",
      "x outside function is 78\n"
     ]
    }
   ],
   "source": [
    "#creating a global variable inside a function\n",
    "def test_global():\n",
    "    global x \n",
    "    x=78\n",
    "    print(\"x inside function is\",x)\n",
    "test_global()\n",
    "print(\"x outside function is\",x)"
   ]
  },
  {
   "cell_type": "code",
   "execution_count": 39,
   "id": "f04d6313",
   "metadata": {},
   "outputs": [
    {
     "name": "stdout",
     "output_type": "stream",
     "text": [
      "x outside function is 78\n"
     ]
    }
   ],
   "source": [
    "#creating a global variable inside a function\n",
    "def test_global():\n",
    "    global x \n",
    "    x=78\n",
    "    print(\"x inside function is\",x)\n",
    "#test_global()\n",
    "print(\"x outside function is\",x)"
   ]
  },
  {
   "cell_type": "code",
   "execution_count": 40,
   "id": "2da2881f",
   "metadata": {},
   "outputs": [
    {
     "ename": "SyntaxError",
     "evalue": "invalid syntax (2891703237.py, line 3)",
     "output_type": "error",
     "traceback": [
      "\u001b[1;36m  Cell \u001b[1;32mIn[40], line 3\u001b[1;36m\u001b[0m\n\u001b[1;33m    global x= 78\u001b[0m\n\u001b[1;37m            ^\u001b[0m\n\u001b[1;31mSyntaxError\u001b[0m\u001b[1;31m:\u001b[0m invalid syntax\n"
     ]
    }
   ],
   "source": [
    "#creating a global variable inside a function\n",
    "def test_global():\n",
    "    global x= 78\n",
    "    print(\"x inside function is\",x)\n",
    "test_global()\n",
    "print(\"x outside function is\",x)"
   ]
  },
  {
   "cell_type": "code",
   "execution_count": 41,
   "id": "6fb39eec",
   "metadata": {},
   "outputs": [
    {
     "name": "stdout",
     "output_type": "stream",
     "text": [
      "Data science\n",
      "T is python\n",
      "the value of t is python\n",
      "the value of u is Data science\n"
     ]
    }
   ],
   "source": [
    "t= \"python\"                                     #globql variable\n",
    "u=\"analytics\"                                   #global variable u\n",
    "def scope_var():\n",
    "    global u\n",
    "    u=\"Data science\"                            #local variable u\n",
    "    print(u)\n",
    "    print(\"T is\",t)\n",
    "scope_var()\n",
    "print(\"the value of t is\",t)\n",
    "print(\"the value of u is\",u)                      #global variable u\n",
    "    "
   ]
  },
  {
   "cell_type": "code",
   "execution_count": null,
   "id": "d471ea21",
   "metadata": {},
   "outputs": [],
   "source": [
    "#make a function inside a function"
   ]
  },
  {
   "cell_type": "code",
   "execution_count": 42,
   "id": "2e87650d",
   "metadata": {},
   "outputs": [
    {
     "name": "stdout",
     "output_type": "stream",
     "text": [
      "enter any number5\n",
      "the factorial of a given num is 120\n"
     ]
    }
   ],
   "source": [
    "num=int(input(\"enter any number\"))\n",
    "fac=1\n",
    "if num<0:\n",
    "    print(\"no factorial\")\n",
    "if num==0:\n",
    "    print(\"factorial is 1\")\n",
    "if num>1:\n",
    "    for i in range(1,num+1):\n",
    "        fac=fac*i\n",
    "print(\"the factorial of a given num is\",fac)"
   ]
  },
  {
   "cell_type": "code",
   "execution_count": 2,
   "id": "4a4467a9",
   "metadata": {},
   "outputs": [],
   "source": [
    "#value inside parameter is temporary"
   ]
  },
  {
   "cell_type": "code",
   "execution_count": 3,
   "id": "4ac576fa",
   "metadata": {},
   "outputs": [
    {
     "name": "stdout",
     "output_type": "stream",
     "text": [
      "88\n",
      "10\n"
     ]
    }
   ],
   "source": [
    "def show_result():\n",
    "    global a\n",
    "    a=10\n",
    "    sum=a+78\n",
    "    print(sum)\n",
    "show_result()\n",
    "print(a)"
   ]
  },
  {
   "cell_type": "code",
   "execution_count": 5,
   "id": "c377e544",
   "metadata": {},
   "outputs": [
    {
     "name": "stdout",
     "output_type": "stream",
     "text": [
      "10\n"
     ]
    }
   ],
   "source": [
    "def show_result():\n",
    "    global a\n",
    "    a=10\n",
    "    sum=a+78\n",
    "    print(sum)\n",
    "\n",
    "print(a)"
   ]
  },
  {
   "cell_type": "code",
   "execution_count": 6,
   "id": "af713b86",
   "metadata": {},
   "outputs": [
    {
     "name": "stdout",
     "output_type": "stream",
     "text": [
      "10\n",
      "88\n"
     ]
    }
   ],
   "source": [
    "def show_result():\n",
    "    global a\n",
    "    a=10\n",
    "    print(a)\n",
    "    sum=a+78\n",
    "    print(sum)\n",
    "show_result()\n"
   ]
  },
  {
   "cell_type": "code",
   "execution_count": 7,
   "id": "414e58a0",
   "metadata": {},
   "outputs": [
    {
     "name": "stdout",
     "output_type": "stream",
     "text": [
      "10\n",
      "88\n"
     ]
    }
   ],
   "source": [
    "def show_result():\n",
    "    global a\n",
    "    a=10\n",
    "    sum=a+78\n",
    "    print(sum)\n",
    "print(a)\n",
    "show_result()\n"
   ]
  },
  {
   "cell_type": "code",
   "execution_count": 9,
   "id": "6d6cfa84",
   "metadata": {},
   "outputs": [
    {
     "name": "stdout",
     "output_type": "stream",
     "text": [
      "hello world\n",
      "hi\n"
     ]
    }
   ],
   "source": [
    "x=\"hello world\"\n",
    "def print_result():\n",
    "    x=\"hi\"\n",
    "    print(x)\n",
    "print(x)\n",
    "print_result()"
   ]
  },
  {
   "cell_type": "code",
   "execution_count": 10,
   "id": "81b7c377",
   "metadata": {},
   "outputs": [
    {
     "name": "stdout",
     "output_type": "stream",
     "text": [
      "hi\n",
      "hello world\n"
     ]
    }
   ],
   "source": [
    "x=\"hello world\"\n",
    "def print_result():\n",
    "    x=\"hi\"\n",
    "    print(x)\n",
    "\n",
    "print_result()\n",
    "print(x)"
   ]
  },
  {
   "cell_type": "code",
   "execution_count": null,
   "id": "a5b68937",
   "metadata": {},
   "outputs": [],
   "source": []
  },
  {
   "cell_type": "code",
   "execution_count": null,
   "id": "790d5b1e",
   "metadata": {},
   "outputs": [],
   "source": []
  },
  {
   "cell_type": "markdown",
   "id": "ca7fbf23",
   "metadata": {},
   "source": [
    "# Non local variables"
   ]
  },
  {
   "cell_type": "code",
   "execution_count": 1,
   "id": "4b0042d5",
   "metadata": {},
   "outputs": [
    {
     "name": "stdout",
     "output_type": "stream",
     "text": [
      "67\n",
      "89\n"
     ]
    }
   ],
   "source": [
    "#last outer()will be called firstly because of indentation\n",
    "def outer():\n",
    "    w=89 #defined for inner func also  #local variable for outer\n",
    "    def inner():\n",
    "        w=67  #local variable for innerh\n",
    "        print(w)\n",
    "    inner()\n",
    "    print(w)\n",
    "outer()"
   ]
  },
  {
   "cell_type": "code",
   "execution_count": null,
   "id": "e4873fd1",
   "metadata": {},
   "outputs": [],
   "source": []
  },
  {
   "cell_type": "code",
   "execution_count": null,
   "id": "35a9b299",
   "metadata": {},
   "outputs": [],
   "source": []
  },
  {
   "cell_type": "code",
   "execution_count": null,
   "id": "2ab15de8",
   "metadata": {},
   "outputs": [],
   "source": []
  },
  {
   "cell_type": "code",
   "execution_count": 13,
   "id": "5a5879cb",
   "metadata": {},
   "outputs": [
    {
     "name": "stdout",
     "output_type": "stream",
     "text": [
      "89\n"
     ]
    }
   ],
   "source": [
    "w=89\n",
    "def inner():\n",
    "    w=67\n",
    "    print(w)\n",
    "    inner()\n",
    "\n",
    "print(w)"
   ]
  },
  {
   "cell_type": "code",
   "execution_count": 4,
   "id": "ba1893e0",
   "metadata": {},
   "outputs": [
    {
     "ename": "IndentationError",
     "evalue": "unexpected indent (246953560.py, line 2)",
     "output_type": "error",
     "traceback": [
      "\u001b[1;36m  Cell \u001b[1;32mIn[4], line 2\u001b[1;36m\u001b[0m\n\u001b[1;33m    def inner():\u001b[0m\n\u001b[1;37m    ^\u001b[0m\n\u001b[1;31mIndentationError\u001b[0m\u001b[1;31m:\u001b[0m unexpected indent\n"
     ]
    }
   ],
   "source": [
    "   #global variable for outer\n",
    "    def inner():\n",
    "        w=67  #local variable for inner\n",
    "        print(w)\n",
    "        inner()\n",
    "    print(w)\n"
   ]
  },
  {
   "cell_type": "code",
   "execution_count": 9,
   "id": "81f5042d",
   "metadata": {},
   "outputs": [
    {
     "name": "stdout",
     "output_type": "stream",
     "text": [
      "89\n"
     ]
    }
   ],
   "source": [
    "def inner():\n",
    "    w=67\n",
    "    print(w)\n",
    "    inner()\n",
    "print(w)"
   ]
  },
  {
   "cell_type": "code",
   "execution_count": 1,
   "id": "7f311e40",
   "metadata": {},
   "outputs": [
    {
     "name": "stdout",
     "output_type": "stream",
     "text": [
      "89\n",
      "89\n"
     ]
    }
   ],
   "source": [
    "#last outer()will be called firstly because of indentation\n",
    "def outer():\n",
    "    w=89 #defined for inner func also  #local variable for outer\n",
    "    def inner():\n",
    "       # w=67  #local variable for inner\n",
    "        print(w)\n",
    "    inner()\n",
    "    print(w)\n",
    "outer()"
   ]
  },
  {
   "cell_type": "code",
   "execution_count": 21,
   "id": "419918a2",
   "metadata": {},
   "outputs": [
    {
     "name": "stdout",
     "output_type": "stream",
     "text": [
      "67\n",
      "67\n"
     ]
    }
   ],
   "source": [
    "#last outer()will be called firstly because of indentation\n",
    "def outer():\n",
    "   #\n",
    "w=89 #defined for inner func also  #local variable for outer\n",
    "    def inner():\n",
    "        nonlocal w\n",
    "        w=67  #local variable for inner\n",
    "        print(w)\n",
    "    inner()\n",
    "    print(w)\n",
    "outer()"
   ]
  },
  {
   "cell_type": "code",
   "execution_count": 5,
   "id": "ed02ba9a",
   "metadata": {},
   "outputs": [
    {
     "name": "stdout",
     "output_type": "stream",
     "text": [
      "67\n",
      "67\n"
     ]
    }
   ],
   "source": [
    "#firstly fun will call the outer one the value will become 89 then the inner func will be called and it will print the value \n",
    "#67 and because of non local variable the value of outer will change to 67\n",
    "def outer():\n",
    "    w=89 \n",
    "    def inner():\n",
    "        nonlocal w \n",
    "        w=67 \n",
    "        print(w)\n",
    "    inner()#2nd call\n",
    "    print(w)\n",
    "outer()#1st call"
   ]
  },
  {
   "cell_type": "code",
   "execution_count": 6,
   "id": "bb09ffec",
   "metadata": {},
   "outputs": [
    {
     "ename": "SyntaxError",
     "evalue": "no binding for nonlocal 'x' found (4253494252.py, line 5)",
     "output_type": "error",
     "traceback": [
      "\u001b[1;36m  Cell \u001b[1;32mIn[6], line 5\u001b[1;36m\u001b[0m\n\u001b[1;33m    nonlocal x\u001b[0m\n\u001b[1;37m    ^\u001b[0m\n\u001b[1;31mSyntaxError\u001b[0m\u001b[1;31m:\u001b[0m no binding for nonlocal 'x' found\n"
     ]
    }
   ],
   "source": [
    "def outer():\n",
    "    #w=2\n",
    "    #x=12\n",
    "    def inner():\n",
    "        nonlocal x\n",
    "        #w=\"str\"\n",
    "        \n",
    "        x=23\n",
    "        print(x)\n",
    "    inner()\n",
    "    print(x)\n",
    "outer()"
   ]
  },
  {
   "cell_type": "code",
   "execution_count": 7,
   "id": "1353785b",
   "metadata": {},
   "outputs": [
    {
     "data": {
      "text/plain": [
       "112"
      ]
     },
     "execution_count": 7,
     "metadata": {},
     "output_type": "execute_result"
    }
   ],
   "source": [
    "#parameters vs arguments\n",
    "def my_func(x,y):  #here x and y are parmeters( value passed while defining a func inside a parameter)\n",
    "    return x+y\n",
    "my_func(45,67)    #here 45 and 67 are arguments(value passed while calling up a func)"
   ]
  },
  {
   "cell_type": "markdown",
   "id": "93d088c6",
   "metadata": {},
   "source": [
    "# PYTHON FUNCTION ARGUMENTS "
   ]
  },
  {
   "cell_type": "raw",
   "id": "b18c95c1",
   "metadata": {},
   "source": [
    "# \n",
    "   1. Positional argument\n",
    "   2. Keyword argument\n",
    "   3. Default argument\n",
    "   4. Variable-length argument"
   ]
  },
  {
   "cell_type": "markdown",
   "id": "e571f056",
   "metadata": {},
   "source": [
    "Positional arguments"
   ]
  },
  {
   "cell_type": "code",
   "execution_count": null,
   "id": "b3a0dd16",
   "metadata": {},
   "outputs": [],
   "source": [
    "def my_func(): #eg of positional argument\n",
    "    pass\n",
    "my_func(56)     #pass is used because break and continue are used only for loop    #no parameter is written"
   ]
  },
  {
   "cell_type": "code",
   "execution_count": 8,
   "id": "47db7a9f",
   "metadata": {},
   "outputs": [
    {
     "data": {
      "text/plain": [
       "44"
      ]
     },
     "execution_count": 8,
     "metadata": {},
     "output_type": "execute_result"
    }
   ],
   "source": [
    "def calc(p,q):\n",
    "    diff=p-q\n",
    "    return diff\n",
    "calc(89,45)"
   ]
  },
  {
   "cell_type": "code",
   "execution_count": 9,
   "id": "e54cfa4f",
   "metadata": {},
   "outputs": [
    {
     "data": {
      "text/plain": [
       "-44"
      ]
     },
     "execution_count": 9,
     "metadata": {},
     "output_type": "execute_result"
    }
   ],
   "source": [
    "calc(45,89)"
   ]
  },
  {
   "cell_type": "code",
   "execution_count": 10,
   "id": "e23c015b",
   "metadata": {},
   "outputs": [
    {
     "ename": "TypeError",
     "evalue": "calc() takes 2 positional arguments but 3 were given",
     "output_type": "error",
     "traceback": [
      "\u001b[1;31m---------------------------------------------------------------------------\u001b[0m",
      "\u001b[1;31mTypeError\u001b[0m                                 Traceback (most recent call last)",
      "Cell \u001b[1;32mIn[10], line 1\u001b[0m\n\u001b[1;32m----> 1\u001b[0m \u001b[43mcalc\u001b[49m\u001b[43m(\u001b[49m\u001b[38;5;241;43m89\u001b[39;49m\u001b[43m,\u001b[49m\u001b[38;5;241;43m45\u001b[39;49m\u001b[43m,\u001b[49m\u001b[38;5;241;43m56\u001b[39;49m\u001b[43m)\u001b[49m\n",
      "\u001b[1;31mTypeError\u001b[0m: calc() takes 2 positional arguments but 3 were given"
     ]
    }
   ],
   "source": [
    "calc(89,45,56)"
   ]
  },
  {
   "cell_type": "code",
   "execution_count": 11,
   "id": "0e7b2161",
   "metadata": {},
   "outputs": [
    {
     "data": {
      "text/plain": [
       "-44"
      ]
     },
     "execution_count": 11,
     "metadata": {},
     "output_type": "execute_result"
    }
   ],
   "source": [
    "def calc(q,p):\n",
    "    diff=p-q\n",
    "    return diff\n",
    "calc(89,45)"
   ]
  },
  {
   "cell_type": "code",
   "execution_count": 12,
   "id": "3d742bf6",
   "metadata": {},
   "outputs": [
    {
     "data": {
      "text/plain": [
       "44"
      ]
     },
     "execution_count": 12,
     "metadata": {},
     "output_type": "execute_result"
    }
   ],
   "source": [
    "calc(45,89)"
   ]
  },
  {
   "cell_type": "markdown",
   "id": "f4f891c5",
   "metadata": {},
   "source": [
    "# KEYWORD ARGUMENTS\n",
    ".Values get assigned to the parameters by their name(keyword)\n",
    ". Here the order of the argument does not matter."
   ]
  },
  {
   "cell_type": "code",
   "execution_count": 13,
   "id": "9836f39b",
   "metadata": {},
   "outputs": [
    {
     "data": {
      "text/plain": [
       "8"
      ]
     },
     "execution_count": 13,
     "metadata": {},
     "output_type": "execute_result"
    }
   ],
   "source": [
    "def calc(p,q):\n",
    "    diff =p-q\n",
    "    return diff\n",
    "calc(p=10,q=2)"
   ]
  },
  {
   "cell_type": "code",
   "execution_count": 14,
   "id": "3ab478a0",
   "metadata": {},
   "outputs": [
    {
     "data": {
      "text/plain": [
       "8"
      ]
     },
     "execution_count": 14,
     "metadata": {},
     "output_type": "execute_result"
    }
   ],
   "source": [
    "calc(q=2,p=10)"
   ]
  },
  {
   "cell_type": "code",
   "execution_count": 15,
   "id": "956e01d9",
   "metadata": {},
   "outputs": [
    {
     "ename": "TypeError",
     "evalue": "calc() got an unexpected keyword argument 'a'",
     "output_type": "error",
     "traceback": [
      "\u001b[1;31m---------------------------------------------------------------------------\u001b[0m",
      "\u001b[1;31mTypeError\u001b[0m                                 Traceback (most recent call last)",
      "Cell \u001b[1;32mIn[15], line 1\u001b[0m\n\u001b[1;32m----> 1\u001b[0m \u001b[43mcalc\u001b[49m\u001b[43m(\u001b[49m\u001b[43ma\u001b[49m\u001b[38;5;241;43m=\u001b[39;49m\u001b[38;5;241;43m10\u001b[39;49m\u001b[43m,\u001b[49m\u001b[43mb\u001b[49m\u001b[38;5;241;43m=\u001b[39;49m\u001b[38;5;241;43m2\u001b[39;49m\u001b[43m)\u001b[49m\n",
      "\u001b[1;31mTypeError\u001b[0m: calc() got an unexpected keyword argument 'a'"
     ]
    }
   ],
   "source": [
    "calc(a=10,b=2)"
   ]
  },
  {
   "cell_type": "markdown",
   "id": "8c369442",
   "metadata": {},
   "source": [
    "# default arguments\n",
    "take the default value during the fuction call if we do not pass them"
   ]
  },
  {
   "cell_type": "code",
   "execution_count": null,
   "id": "488e06ab",
   "metadata": {},
   "outputs": [],
   "source": [
    "#no argument or max 1"
   ]
  },
  {
   "cell_type": "code",
   "execution_count": 16,
   "id": "6504fc0b",
   "metadata": {},
   "outputs": [
    {
     "ename": "NameError",
     "evalue": "name 'get_messsage' is not defined",
     "output_type": "error",
     "traceback": [
      "\u001b[1;31m---------------------------------------------------------------------------\u001b[0m",
      "\u001b[1;31mNameError\u001b[0m                                 Traceback (most recent call last)",
      "Cell \u001b[1;32mIn[16], line 3\u001b[0m\n\u001b[0;32m      1\u001b[0m \u001b[38;5;28;01mdef\u001b[39;00m \u001b[38;5;21mget_argument\u001b[39m(msg\u001b[38;5;241m=\u001b[39m\u001b[38;5;124m\"\u001b[39m\u001b[38;5;124mhello world\u001b[39m\u001b[38;5;124m\"\u001b[39m):\n\u001b[0;32m      2\u001b[0m     \u001b[38;5;28mprint\u001b[39m(msg)\n\u001b[1;32m----> 3\u001b[0m \u001b[43mget_messsage\u001b[49m(\u001b[38;5;124m\"\u001b[39m\u001b[38;5;124mhi\u001b[39m\u001b[38;5;124m\"\u001b[39m)\n",
      "\u001b[1;31mNameError\u001b[0m: name 'get_messsage' is not defined"
     ]
    }
   ],
   "source": [
    "def get_argument(msg=\"hello world\"):\n",
    "    print(msg)\n",
    "get_messsage(\"hi\")"
   ]
  },
  {
   "cell_type": "code",
   "execution_count": 17,
   "id": "dab0d73f",
   "metadata": {},
   "outputs": [
    {
     "ename": "NameError",
     "evalue": "name 'get_messsage' is not defined",
     "output_type": "error",
     "traceback": [
      "\u001b[1;31m---------------------------------------------------------------------------\u001b[0m",
      "\u001b[1;31mNameError\u001b[0m                                 Traceback (most recent call last)",
      "Cell \u001b[1;32mIn[17], line 3\u001b[0m\n\u001b[0;32m      1\u001b[0m \u001b[38;5;28;01mdef\u001b[39;00m \u001b[38;5;21mget_argument\u001b[39m(msg\u001b[38;5;241m=\u001b[39m\u001b[38;5;124m\"\u001b[39m\u001b[38;5;124mhello world\u001b[39m\u001b[38;5;124m\"\u001b[39m):\n\u001b[0;32m      2\u001b[0m     \u001b[38;5;28mprint\u001b[39m(msg)\n\u001b[1;32m----> 3\u001b[0m \u001b[43mget_messsage\u001b[49m(\u001b[38;5;124m\"\u001b[39m\u001b[38;5;124mhi\u001b[39m\u001b[38;5;124m\"\u001b[39m,\u001b[38;5;124m\"\u001b[39m\u001b[38;5;124mhello\u001b[39m\u001b[38;5;124m\"\u001b[39m)\n",
      "\u001b[1;31mNameError\u001b[0m: name 'get_messsage' is not defined"
     ]
    }
   ],
   "source": [
    "def get_argument(msg=\"hello world\"):\n",
    "    print(msg)\n",
    "get_messsage(\"hi\",\"hello\")"
   ]
  },
  {
   "cell_type": "code",
   "execution_count": 18,
   "id": "16c60883",
   "metadata": {},
   "outputs": [
    {
     "name": "stdout",
     "output_type": "stream",
     "text": [
      "Hi\n"
     ]
    }
   ],
   "source": [
    "def get_message(msg=\"hello world\"):\n",
    "    print(msg)\n",
    "get_message(\"Hi\")"
   ]
  },
  {
   "cell_type": "code",
   "execution_count": 19,
   "id": "ced413b2",
   "metadata": {},
   "outputs": [
    {
     "name": "stdout",
     "output_type": "stream",
     "text": [
      "hello world\n"
     ]
    }
   ],
   "source": [
    "get_message()"
   ]
  },
  {
   "cell_type": "code",
   "execution_count": 20,
   "id": "5ac5373e",
   "metadata": {},
   "outputs": [
    {
     "ename": "TypeError",
     "evalue": "get_message() missing 1 required positional argument: 'msg'",
     "output_type": "error",
     "traceback": [
      "\u001b[1;31m---------------------------------------------------------------------------\u001b[0m",
      "\u001b[1;31mTypeError\u001b[0m                                 Traceback (most recent call last)",
      "Cell \u001b[1;32mIn[20], line 3\u001b[0m\n\u001b[0;32m      1\u001b[0m \u001b[38;5;28;01mdef\u001b[39;00m \u001b[38;5;21mget_message\u001b[39m(msg):\n\u001b[0;32m      2\u001b[0m     \u001b[38;5;28mprint\u001b[39m(msg)\n\u001b[1;32m----> 3\u001b[0m \u001b[43mget_message\u001b[49m\u001b[43m(\u001b[49m\u001b[43m)\u001b[49m\n",
      "\u001b[1;31mTypeError\u001b[0m: get_message() missing 1 required positional argument: 'msg'"
     ]
    }
   ],
   "source": [
    "def get_message(msg):#nothing is written in argument\n",
    "    print(msg)\n",
    "get_message()"
   ]
  },
  {
   "cell_type": "code",
   "execution_count": 21,
   "id": "2022318c",
   "metadata": {},
   "outputs": [
    {
     "name": "stdout",
     "output_type": "stream",
     "text": [
      "Hi\n"
     ]
    }
   ],
   "source": [
    "def get_message(msg=\"hello world\",q=35):\n",
    "    print(msg)\n",
    "get_message(\"Hi\")"
   ]
  },
  {
   "cell_type": "code",
   "execution_count": 22,
   "id": "942aca56",
   "metadata": {},
   "outputs": [
    {
     "name": "stdout",
     "output_type": "stream",
     "text": [
      "hello world 35\n"
     ]
    }
   ],
   "source": [
    "def get_message(msg=\"hello world\",q=35):\n",
    "    print(msg,q)\n",
    "get_message()"
   ]
  },
  {
   "cell_type": "code",
   "execution_count": 24,
   "id": "5097fb95",
   "metadata": {},
   "outputs": [
    {
     "ename": "TypeError",
     "evalue": "get_message() missing 1 required positional argument: 'msg'",
     "output_type": "error",
     "traceback": [
      "\u001b[1;31m---------------------------------------------------------------------------\u001b[0m",
      "\u001b[1;31mTypeError\u001b[0m                                 Traceback (most recent call last)",
      "Cell \u001b[1;32mIn[24], line 3\u001b[0m\n\u001b[0;32m      1\u001b[0m \u001b[38;5;28;01mdef\u001b[39;00m \u001b[38;5;21mget_message\u001b[39m(msg,q\u001b[38;5;241m=\u001b[39m\u001b[38;5;241m35\u001b[39m):\n\u001b[0;32m      2\u001b[0m     \u001b[38;5;28mprint\u001b[39m(msg,q)\n\u001b[1;32m----> 3\u001b[0m \u001b[43mget_message\u001b[49m\u001b[43m(\u001b[49m\u001b[43m)\u001b[49m\n",
      "\u001b[1;31mTypeError\u001b[0m: get_message() missing 1 required positional argument: 'msg'"
     ]
    }
   ],
   "source": [
    "def get_message(msg,q=35):\n",
    "    print(msg,q)\n",
    "get_message()"
   ]
  },
  {
   "cell_type": "code",
   "execution_count": 25,
   "id": "04cbe22c",
   "metadata": {},
   "outputs": [
    {
     "name": "stdout",
     "output_type": "stream",
     "text": [
      "hi 78\n"
     ]
    }
   ],
   "source": [
    "def get_message(msg,q=35): #msg=parameter, q=35 default argument\n",
    "    print(msg,q)\n",
    "get_message(\"hi\",q=78) #hi= positional argument, q=78 keyword argument"
   ]
  },
  {
   "cell_type": "code",
   "execution_count": 4,
   "id": "eccf8c53",
   "metadata": {},
   "outputs": [
    {
     "name": "stdout",
     "output_type": "stream",
     "text": [
      "10\n",
      "90\n",
      "hello world\n"
     ]
    }
   ],
   "source": [
    "def first_func(x):\n",
    "    print(x)  \n",
    "    def second_func(y):\n",
    "        print(y)\n",
    "    second_func(90)\n",
    "first_func(10)\n",
    "print(\"hello world\")"
   ]
  },
  {
   "cell_type": "code",
   "execution_count": 14,
   "id": "317579eb",
   "metadata": {},
   "outputs": [
    {
     "ename": "IndentationError",
     "evalue": "unindent does not match any outer indentation level (<tokenize>, line 8)",
     "output_type": "error",
     "traceback": [
      "\u001b[1;36m  File \u001b[1;32m<tokenize>:8\u001b[1;36m\u001b[0m\n\u001b[1;33m    third_func()\u001b[0m\n\u001b[1;37m    ^\u001b[0m\n\u001b[1;31mIndentationError\u001b[0m\u001b[1;31m:\u001b[0m unindent does not match any outer indentation level\n"
     ]
    }
   ],
   "source": [
    "def first_func(x):\n",
    "    print(x)\n",
    " def second_func(y):\n",
    "        print(y)\n",
    "    second_func(\"hi\")\n",
    "         def third_func(x+y):\n",
    "            print(x+y)\n",
    "        third_func() \n",
    "    \n",
    "first_func(10)\n",
    "print(\"hello world\")"
   ]
  },
  {
   "cell_type": "markdown",
   "id": "93cb2e92",
   "metadata": {},
   "source": [
    "Variable-length arguments or Arbitary Arguments\n",
    "When we need to pass multipe arguments to the function, we can use variable length arguments"
   ]
  },
  {
   "cell_type": "code",
   "execution_count": 8,
   "id": "f9d3dfe3",
   "metadata": {},
   "outputs": [
    {
     "name": "stdout",
     "output_type": "stream",
     "text": [
      "(9, 4, 12)\n",
      "-5\n"
     ]
    }
   ],
   "source": [
    "#arbitary positonal arguments\n",
    "def testing(*numbers):  #numbers is a tuple\n",
    "    print(numbers)\n",
    "    diff=20\n",
    "    for x in numbers:\n",
    "        diff=diff-x\n",
    "    print(diff)\n",
    "testing(9,4,12)"
   ]
  },
  {
   "cell_type": "code",
   "execution_count": null,
   "id": "e27c180a",
   "metadata": {},
   "outputs": [],
   "source": [
    "def my_func(x,y):\n",
    "    pass\n"
   ]
  },
  {
   "cell_type": "code",
   "execution_count": null,
   "id": "864cac21",
   "metadata": {},
   "outputs": [],
   "source": []
  },
  {
   "cell_type": "code",
   "execution_count": 11,
   "id": "13cd9971",
   "metadata": {},
   "outputs": [
    {
     "name": "stdout",
     "output_type": "stream",
     "text": [
      "{'a': 1, 'b': 2, 'c': 3}\n"
     ]
    }
   ],
   "source": [
    "dict={\"a\":1,\"b\":2,\"c\":3}\n",
    "print(dict)"
   ]
  },
  {
   "cell_type": "code",
   "execution_count": 9,
   "id": "278735ae",
   "metadata": {},
   "outputs": [
    {
     "name": "stdout",
     "output_type": "stream",
     "text": [
      "{'math': 56, 'english': 61, 'science': 73}\n",
      "math\n",
      "math = 56\n",
      "english\n",
      "english = 61\n",
      "science\n",
      "science = 73\n"
     ]
    }
   ],
   "source": [
    "#arbitary keyword arguments\n",
    "def my_func(**key_word):  #key_word is a dictationary\n",
    "    print(key_word)\n",
    "    for sub in key_word:#iterating the value \n",
    "        print(sub)\n",
    "        #get argument value\n",
    "        sub_marks= key_word[sub]\n",
    "        print(sub,\"=\",sub_marks)\n",
    "#pass multiple keyword arguments\n",
    "my_func(math=56, english=61, science=73)"
   ]
  },
  {
   "cell_type": "code",
   "execution_count": null,
   "id": "3c729949",
   "metadata": {},
   "outputs": [],
   "source": [
    "def testing():\n",
    "    testing()\n",
    "testing()"
   ]
  },
  {
   "cell_type": "code",
   "execution_count": null,
   "id": "2567318b",
   "metadata": {},
   "outputs": [],
   "source": [
    "def testing(x):\n",
    "    if x==10:\n",
    "        return \"hello world\"\n",
    "    return testing(x-1)\n",
    "testing(15)"
   ]
  },
  {
   "cell_type": "code",
   "execution_count": 3,
   "id": "1959c3c7",
   "metadata": {},
   "outputs": [
    {
     "name": "stdout",
     "output_type": "stream",
     "text": [
      "enter your age10\n",
      "no\n",
      "hello\n"
     ]
    }
   ],
   "source": [
    "age=int(input(\"enter your age\"))\n",
    "if age<10:\n",
    "    print('yes')\n",
    "else:\n",
    "    print(\"no\")\n",
    "print(\"hello\")"
   ]
  },
  {
   "cell_type": "markdown",
   "id": "be04a70d",
   "metadata": {},
   "source": [
    "# Recursion"
   ]
  },
  {
   "cell_type": "markdown",
   "id": "257935dc",
   "metadata": {},
   "source": [
    "A recusive function is a function that call itself, again and again"
   ]
  },
  {
   "cell_type": "code",
   "execution_count": null,
   "id": "e3acf785",
   "metadata": {},
   "outputs": [],
   "source": [
    "def my_func():\n",
    "    my_func\n",
    "my_func():"
   ]
  },
  {
   "cell_type": "code",
   "execution_count": 2,
   "id": "626e3a34",
   "metadata": {},
   "outputs": [
    {
     "name": "stdout",
     "output_type": "stream",
     "text": [
      "factorial of number is: 24\n"
     ]
    }
   ],
   "source": [
    "def factorial(no):\n",
    "    if no==0:\n",
    "        return 1\n",
    "    else:\n",
    "        return no*factorial(no-1)\n",
    "print(\"factorial of number is:\", factorial(4))"
   ]
  },
  {
   "cell_type": "markdown",
   "id": "db55bf6d",
   "metadata": {},
   "source": [
    "# Lambda Function(anonymous)"
   ]
  },
  {
   "cell_type": "code",
   "execution_count": null,
   "id": "3495a083",
   "metadata": {},
   "outputs": [],
   "source": []
  },
  {
   "cell_type": "raw",
   "id": "03f44cd1",
   "metadata": {},
   "source": [
    "used fir instant and one time use\n",
    "written in just ones line"
   ]
  },
  {
   "cell_type": "code",
   "execution_count": null,
   "id": "3c7fb9fe",
   "metadata": {},
   "outputs": [],
   "source": [
    "#lambda parameters : expression"
   ]
  },
  {
   "cell_type": "code",
   "execution_count": 8,
   "id": "e7ba77e3",
   "metadata": {},
   "outputs": [
    {
     "data": {
      "text/plain": [
       "<function __main__.<lambda>()>"
      ]
     },
     "execution_count": 8,
     "metadata": {},
     "output_type": "execute_result"
    }
   ],
   "source": [
    "lambda : print(\"hello world\")\n"
   ]
  },
  {
   "cell_type": "code",
   "execution_count": 13,
   "id": "d002b2e2",
   "metadata": {},
   "outputs": [
    {
     "name": "stdout",
     "output_type": "stream",
     "text": [
      "hello world\n"
     ]
    }
   ],
   "source": [
    "(lambda : print(\"hello world\"))()\n"
   ]
  },
  {
   "cell_type": "code",
   "execution_count": 14,
   "id": "a2be0c2a",
   "metadata": {},
   "outputs": [
    {
     "name": "stdout",
     "output_type": "stream",
     "text": [
      "15\n"
     ]
    }
   ],
   "source": [
    "(lambda x,y: print(x+y)) (10,5)"
   ]
  },
  {
   "cell_type": "code",
   "execution_count": null,
   "id": "ff7a0d11",
   "metadata": {},
   "outputs": [],
   "source": [
    "#functions\n",
    "# 1. filter(functions,iterable)"
   ]
  },
  {
   "cell_type": "code",
   "execution_count": 1,
   "id": "53f44078",
   "metadata": {},
   "outputs": [
    {
     "data": {
      "text/plain": [
       "[2, 4, 6]"
      ]
     },
     "execution_count": 1,
     "metadata": {},
     "output_type": "execute_result"
    }
   ],
   "source": [
    "list(filter(lambda x : x%2==0,(1,2,3,4,5,6)))"
   ]
  },
  {
   "cell_type": "code",
   "execution_count": 2,
   "id": "82252390",
   "metadata": {},
   "outputs": [
    {
     "data": {
      "text/plain": [
       "[]"
      ]
     },
     "execution_count": 2,
     "metadata": {},
     "output_type": "execute_result"
    }
   ],
   "source": [
    "list(filter(lambda x : None ,(1,2,3,4,5,6)))"
   ]
  },
  {
   "cell_type": "code",
   "execution_count": 3,
   "id": "86f6eb77",
   "metadata": {},
   "outputs": [
    {
     "data": {
      "text/plain": [
       "[1, 2, 3, 4, 5, 6]"
      ]
     },
     "execution_count": 3,
     "metadata": {},
     "output_type": "execute_result"
    }
   ],
   "source": [
    "list(filter(lambda x : True ,(1,2,3,4,5,6)))"
   ]
  },
  {
   "cell_type": "code",
   "execution_count": 4,
   "id": "0b18ebb3",
   "metadata": {},
   "outputs": [
    {
     "data": {
      "text/plain": [
       "[]"
      ]
     },
     "execution_count": 4,
     "metadata": {},
     "output_type": "execute_result"
    }
   ],
   "source": [
    "list(filter(lambda x : 0 ,(1,2,3,4,5,6)))"
   ]
  },
  {
   "cell_type": "code",
   "execution_count": 5,
   "id": "dab30d65",
   "metadata": {},
   "outputs": [
    {
     "data": {
      "text/plain": [
       "[1, 2, 3, 4, 5, 6]"
      ]
     },
     "execution_count": 5,
     "metadata": {},
     "output_type": "execute_result"
    }
   ],
   "source": [
    "list(filter(lambda x : 67 ,(1,2,3,4,5,6)))"
   ]
  },
  {
   "cell_type": "code",
   "execution_count": 6,
   "id": "49d42a40",
   "metadata": {},
   "outputs": [
    {
     "data": {
      "text/plain": [
       "True"
      ]
     },
     "execution_count": 6,
     "metadata": {},
     "output_type": "execute_result"
    }
   ],
   "source": [
    "(lambda x : x%2==0)(8)"
   ]
  },
  {
   "cell_type": "code",
   "execution_count": 9,
   "id": "ceeba2e6",
   "metadata": {},
   "outputs": [
    {
     "data": {
      "text/plain": [
       "<filter at 0x28bce8815d0>"
      ]
     },
     "execution_count": 9,
     "metadata": {},
     "output_type": "execute_result"
    }
   ],
   "source": [
    "(filter(lambda x: x%2==0,(1,2,3,4,5,6)))"
   ]
  },
  {
   "cell_type": "code",
   "execution_count": 10,
   "id": "80f67c2a",
   "metadata": {},
   "outputs": [
    {
     "ename": "SyntaxError",
     "evalue": "invalid syntax (1062752645.py, line 1)",
     "output_type": "error",
     "traceback": [
      "\u001b[1;36m  Cell \u001b[1;32mIn[10], line 1\u001b[1;36m\u001b[0m\n\u001b[1;33m    filter(lambda y,x,z : if (y==0)print(y), (0,1,2))\u001b[0m\n\u001b[1;37m                          ^\u001b[0m\n\u001b[1;31mSyntaxError\u001b[0m\u001b[1;31m:\u001b[0m invalid syntax\n"
     ]
    }
   ],
   "source": [
    "filter(lambda y,x,z : if (y==0)print(y), (0,1,2))"
   ]
  },
  {
   "cell_type": "code",
   "execution_count": 13,
   "id": "eebf3819",
   "metadata": {},
   "outputs": [
    {
     "name": "stdout",
     "output_type": "stream",
     "text": [
      "hello world\n",
      "7\n",
      "65\n",
      "1036\n",
      "1.3214285714285714\n",
      "4\n",
      "hello world\n",
      "7\n",
      "106\n",
      "2613\n",
      "1.7179487179487178\n",
      "4\n"
     ]
    }
   ],
   "source": [
    "(lambda : print (\"hello world\"))()\n",
    "def fun_ (y,z):\n",
    "    print(1+6)\n",
    "    print(y+z)\n",
    "    print(y*z)\n",
    "    print(y/z)\n",
    "    print(2+2)\n",
    "fun_(37,28)\n",
    "(lambda : print(\"hello world\"))()\n",
    "fun_ (67,39)"
   ]
  },
  {
   "cell_type": "code",
   "execution_count": null,
   "id": "cdde23fa",
   "metadata": {},
   "outputs": [],
   "source": [
    "# map (functions,iterable)\n",
    "# Takes a function as a a first argument and applies it to each of the element of the iterable"
   ]
  },
  {
   "cell_type": "code",
   "execution_count": 14,
   "id": "91e4afdb",
   "metadata": {},
   "outputs": [
    {
     "name": "stdout",
     "output_type": "stream",
     "text": [
      "Result is : [4, 5, 6, 10, 11]\n"
     ]
    }
   ],
   "source": [
    "list1 = [2,3,4,8,9]\n",
    "list2 = list (map(lambda x: x+2 , list1))\n",
    "print(\"Result is :\", list2)\n"
   ]
  },
  {
   "cell_type": "code",
   "execution_count": 15,
   "id": "ad3b97c6",
   "metadata": {},
   "outputs": [
    {
     "name": "stdout",
     "output_type": "stream",
     "text": [
      "Result is : ['data science', 'data science', 'data science', 'data science', 'data science']\n"
     ]
    }
   ],
   "source": [
    "list1 = [2,3,4,8,9]\n",
    "list2 = list (map(lambda x: \"data science\", list1)) #it will replace the value\n",
    "print(\"Result is :\", list2)\n"
   ]
  },
  {
   "cell_type": "code",
   "execution_count": null,
   "id": "5a3a8527",
   "metadata": {},
   "outputs": [],
   "source": [
    "x='rohan'"
   ]
  },
  {
   "cell_type": "code",
   "execution_count": null,
   "id": "5b9507a5",
   "metadata": {},
   "outputs": [],
   "source": []
  },
  {
   "cell_type": "code",
   "execution_count": null,
   "id": "6f9aeb06",
   "metadata": {},
   "outputs": [],
   "source": []
  }
 ],
 "metadata": {
  "kernelspec": {
   "display_name": "Python 3 (ipykernel)",
   "language": "python",
   "name": "python3"
  },
  "language_info": {
   "codemirror_mode": {
    "name": "ipython",
    "version": 3
   },
   "file_extension": ".py",
   "mimetype": "text/x-python",
   "name": "python",
   "nbconvert_exporter": "python",
   "pygments_lexer": "ipython3",
   "version": "3.10.9"
  }
 },
 "nbformat": 4,
 "nbformat_minor": 5
}
